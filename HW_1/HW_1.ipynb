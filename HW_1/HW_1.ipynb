{
 "cells": [
  {
   "cell_type": "markdown",
   "id": "8bc99bee",
   "metadata": {},
   "source": [
    "# Домашняя работа №1 по AB-тестам\n",
    "\n",
    "<details>\n",
    "  <summary>📝 Формулировка задания </summary>\n",
    "\n",
    "!!!  Все считаем на 1000 итерациях\n",
    "\n",
    "### Дизайн теста бутстреп\n",
    "1. Из interactions взять данные за 2 последние недели (2021-08-09 по 2021-08-22)\n",
    "2. Посчитайте на этих данных корректность на бутстрепе и сравните ее с результатами за 1 неделю (посчитано на семинаре) (2 балла)\n",
    "3. На двух неделях посчитайте мощность. Для этого нужно в одну из групп докинуть эффект. Докиньте эффект в 1%, 3% и 5% и сравните полученную мощность (3 балла за расчет + 2 балла за подроброе объяснение)\n",
    "4. Посчитайте MDE, который можно зафиксировать на 2х неделях. В качестве alpha и beta подставьте ваши вычисленные ошибки 1 и 2 рода. Учитывайте что у нас формула для MDE работает для t-test или z-test (3 балла)\n",
    "\n",
    "\n",
    "### Дизайн продолжение\n",
    "\n",
    "1. Посчитать аналогичный дизайн для:\n",
    "  - бутстреп + логарифмированная метрика длительности просмотров (4 балла)\n",
    "  - манна-уитни + метрика длительности просмотров (4 балла)\n",
    "  - манна-уитни + логарифмированная метрика длительности просмотров (4 балла)\n",
    "  - t-test + метрика длительности просмотров (4 балла)\n",
    "  - t-test + логарифмированная метрика длительности просмотров (4 балла)\n",
    "2. Подробно описать выводы для каждой пары, какие варианты точно не подходят и почему. Объяснить зачем мы логарифмируем метрику и что нам это дает. Аргументированно выбрать 1 пару (метрика + критерий) которым вы будете оценивать АБ тест и какой эффект мы сможем отловить в нашем тесте. (5 баллов)\n",
    "\n",
    "\n",
    "### A/B тест\n",
    "1) Представим что у нас прошел тест, используем те же самые данные за 2 недели\n",
    "2) Занулите для всех пользователей total_dur, у которых total_dur < 500. Их НЕ УБИРАЕМ, а просто обрабатываем эти значения, принимая за нулевые, но пользователей также учитываем в эксперименте (2 балла)\n",
    "3) Разбейте их самостоятельно на две равные группы, используйте функцию groups_splitter и соль = 'kiontestmodel20210805' (1 балла)\n",
    "4) Оказалось, что модель в группе В показала себя лучше, чем в группе А на 2.5%, причем эффект распространился неравномерно и преимущественно на 10% самых смотрящих пользователей, докиньте такой эффект самостоятельно. Нужно метрику total_dur увеличить на 2.5% для 10% пользователей с самым продолжительным смотрением. (2 балла)\n",
    "5) Посчитайте результат такого теста и сделайте выводы (10 баллов)\n",
    "\n",
    "</details>\n",
    "\n"
   ]
  },
  {
   "cell_type": "code",
   "execution_count": 3,
   "id": "2d5f91a9",
   "metadata": {},
   "outputs": [],
   "source": [
    "# Импорты необходимых библиотек\n",
    "import os\n",
    "import requests\n",
    "import zipfile\n",
    "\n",
    "import pandas as pd\n",
    "import numpy as np\n",
    "\n",
    "import seaborn as sns\n",
    "import matplotlib.pyplot as plt\n",
    "from IPython.display import display, Markdown\n",
    "\n",
    "from tqdm import tqdm\n",
    "from base64 import b64encode\n",
    "import collections\n",
    "import hashlib\n",
    "\n",
    "from joblib import Memory, Parallel, delayed\n",
    "from scipy.stats import norm, kstest, uniform\n",
    "from scipy.stats import ttest_ind, mannwhitneyu\n",
    "import scipy.stats"
   ]
  },
  {
   "cell_type": "markdown",
   "id": "f5e3e29a",
   "metadata": {},
   "source": [
    "### Загрузка данных"
   ]
  },
  {
   "cell_type": "code",
   "execution_count": 4,
   "id": "25e06802",
   "metadata": {},
   "outputs": [
    {
     "name": "stderr",
     "output_type": "stream",
     "text": [
      "kion dataset download:   9%|▉         | 7.34M/78.8M [00:03<00:37, 1.91MiB/s]\n"
     ]
    },
    {
     "ename": "KeyboardInterrupt",
     "evalue": "",
     "output_type": "error",
     "traceback": [
      "\u001b[0;31m---------------------------------------------------------------------------\u001b[0m",
      "\u001b[0;31mKeyboardInterrupt\u001b[0m                         Traceback (most recent call last)",
      "Cell \u001b[0;32mIn[4], line 7\u001b[0m\n\u001b[1;32m      5\u001b[0m total_size_in_bytes \u001b[38;5;241m=\u001b[39m \u001b[38;5;28mint\u001b[39m(req\u001b[38;5;241m.\u001b[39mheaders\u001b[38;5;241m.\u001b[39mget(\u001b[38;5;124m'\u001b[39m\u001b[38;5;124mContent-Length\u001b[39m\u001b[38;5;124m'\u001b[39m, \u001b[38;5;241m0\u001b[39m))\n\u001b[1;32m      6\u001b[0m progress_bar \u001b[38;5;241m=\u001b[39m tqdm(desc\u001b[38;5;241m=\u001b[39m\u001b[38;5;124m'\u001b[39m\u001b[38;5;124mkion dataset download\u001b[39m\u001b[38;5;124m'\u001b[39m, total\u001b[38;5;241m=\u001b[39mtotal_size_in_bytes, unit\u001b[38;5;241m=\u001b[39m\u001b[38;5;124m'\u001b[39m\u001b[38;5;124miB\u001b[39m\u001b[38;5;124m'\u001b[39m, unit_scale\u001b[38;5;241m=\u001b[39m\u001b[38;5;28;01mTrue\u001b[39;00m)\n\u001b[0;32m----> 7\u001b[0m \u001b[38;5;28;01mfor\u001b[39;00m chunk \u001b[38;5;129;01min\u001b[39;00m req\u001b[38;5;241m.\u001b[39miter_content(chunk_size\u001b[38;5;241m=\u001b[39m\u001b[38;5;241m2\u001b[39m \u001b[38;5;241m*\u001b[39m\u001b[38;5;241m*\u001b[39m \u001b[38;5;241m20\u001b[39m):\n\u001b[1;32m      8\u001b[0m     progress_bar\u001b[38;5;241m.\u001b[39mupdate(\u001b[38;5;28mlen\u001b[39m(chunk))\n\u001b[1;32m      9\u001b[0m     fd\u001b[38;5;241m.\u001b[39mwrite(chunk)\n",
      "File \u001b[0;32m~/docs/ITMO/AB/.venv/lib/python3.10/site-packages/requests/models.py:820\u001b[0m, in \u001b[0;36mResponse.iter_content.<locals>.generate\u001b[0;34m()\u001b[0m\n\u001b[1;32m    818\u001b[0m \u001b[38;5;28;01mif\u001b[39;00m \u001b[38;5;28mhasattr\u001b[39m(\u001b[38;5;28mself\u001b[39m\u001b[38;5;241m.\u001b[39mraw, \u001b[38;5;124m\"\u001b[39m\u001b[38;5;124mstream\u001b[39m\u001b[38;5;124m\"\u001b[39m):\n\u001b[1;32m    819\u001b[0m     \u001b[38;5;28;01mtry\u001b[39;00m:\n\u001b[0;32m--> 820\u001b[0m         \u001b[38;5;28;01myield from\u001b[39;00m \u001b[38;5;28mself\u001b[39m\u001b[38;5;241m.\u001b[39mraw\u001b[38;5;241m.\u001b[39mstream(chunk_size, decode_content\u001b[38;5;241m=\u001b[39m\u001b[38;5;28;01mTrue\u001b[39;00m)\n\u001b[1;32m    821\u001b[0m     \u001b[38;5;28;01mexcept\u001b[39;00m ProtocolError \u001b[38;5;28;01mas\u001b[39;00m e:\n\u001b[1;32m    822\u001b[0m         \u001b[38;5;28;01mraise\u001b[39;00m ChunkedEncodingError(e)\n",
      "File \u001b[0;32m~/docs/ITMO/AB/.venv/lib/python3.10/site-packages/urllib3/response.py:1066\u001b[0m, in \u001b[0;36mHTTPResponse.stream\u001b[0;34m(self, amt, decode_content)\u001b[0m\n\u001b[1;32m   1064\u001b[0m \u001b[38;5;28;01melse\u001b[39;00m:\n\u001b[1;32m   1065\u001b[0m     \u001b[38;5;28;01mwhile\u001b[39;00m \u001b[38;5;129;01mnot\u001b[39;00m is_fp_closed(\u001b[38;5;28mself\u001b[39m\u001b[38;5;241m.\u001b[39m_fp) \u001b[38;5;129;01mor\u001b[39;00m \u001b[38;5;28mlen\u001b[39m(\u001b[38;5;28mself\u001b[39m\u001b[38;5;241m.\u001b[39m_decoded_buffer) \u001b[38;5;241m>\u001b[39m \u001b[38;5;241m0\u001b[39m:\n\u001b[0;32m-> 1066\u001b[0m         data \u001b[38;5;241m=\u001b[39m \u001b[38;5;28;43mself\u001b[39;49m\u001b[38;5;241;43m.\u001b[39;49m\u001b[43mread\u001b[49m\u001b[43m(\u001b[49m\u001b[43mamt\u001b[49m\u001b[38;5;241;43m=\u001b[39;49m\u001b[43mamt\u001b[49m\u001b[43m,\u001b[49m\u001b[43m \u001b[49m\u001b[43mdecode_content\u001b[49m\u001b[38;5;241;43m=\u001b[39;49m\u001b[43mdecode_content\u001b[49m\u001b[43m)\u001b[49m\n\u001b[1;32m   1068\u001b[0m         \u001b[38;5;28;01mif\u001b[39;00m data:\n\u001b[1;32m   1069\u001b[0m             \u001b[38;5;28;01myield\u001b[39;00m data\n",
      "File \u001b[0;32m~/docs/ITMO/AB/.venv/lib/python3.10/site-packages/urllib3/response.py:955\u001b[0m, in \u001b[0;36mHTTPResponse.read\u001b[0;34m(self, amt, decode_content, cache_content)\u001b[0m\n\u001b[1;32m    952\u001b[0m     \u001b[38;5;28;01mif\u001b[39;00m \u001b[38;5;28mlen\u001b[39m(\u001b[38;5;28mself\u001b[39m\u001b[38;5;241m.\u001b[39m_decoded_buffer) \u001b[38;5;241m>\u001b[39m\u001b[38;5;241m=\u001b[39m amt:\n\u001b[1;32m    953\u001b[0m         \u001b[38;5;28;01mreturn\u001b[39;00m \u001b[38;5;28mself\u001b[39m\u001b[38;5;241m.\u001b[39m_decoded_buffer\u001b[38;5;241m.\u001b[39mget(amt)\n\u001b[0;32m--> 955\u001b[0m data \u001b[38;5;241m=\u001b[39m \u001b[38;5;28;43mself\u001b[39;49m\u001b[38;5;241;43m.\u001b[39;49m\u001b[43m_raw_read\u001b[49m\u001b[43m(\u001b[49m\u001b[43mamt\u001b[49m\u001b[43m)\u001b[49m\n\u001b[1;32m    957\u001b[0m flush_decoder \u001b[38;5;241m=\u001b[39m amt \u001b[38;5;129;01mis\u001b[39;00m \u001b[38;5;28;01mNone\u001b[39;00m \u001b[38;5;129;01mor\u001b[39;00m (amt \u001b[38;5;241m!=\u001b[39m \u001b[38;5;241m0\u001b[39m \u001b[38;5;129;01mand\u001b[39;00m \u001b[38;5;129;01mnot\u001b[39;00m data)\n\u001b[1;32m    959\u001b[0m \u001b[38;5;28;01mif\u001b[39;00m \u001b[38;5;129;01mnot\u001b[39;00m data \u001b[38;5;129;01mand\u001b[39;00m \u001b[38;5;28mlen\u001b[39m(\u001b[38;5;28mself\u001b[39m\u001b[38;5;241m.\u001b[39m_decoded_buffer) \u001b[38;5;241m==\u001b[39m \u001b[38;5;241m0\u001b[39m:\n",
      "File \u001b[0;32m~/docs/ITMO/AB/.venv/lib/python3.10/site-packages/urllib3/response.py:879\u001b[0m, in \u001b[0;36mHTTPResponse._raw_read\u001b[0;34m(self, amt, read1)\u001b[0m\n\u001b[1;32m    876\u001b[0m fp_closed \u001b[38;5;241m=\u001b[39m \u001b[38;5;28mgetattr\u001b[39m(\u001b[38;5;28mself\u001b[39m\u001b[38;5;241m.\u001b[39m_fp, \u001b[38;5;124m\"\u001b[39m\u001b[38;5;124mclosed\u001b[39m\u001b[38;5;124m\"\u001b[39m, \u001b[38;5;28;01mFalse\u001b[39;00m)\n\u001b[1;32m    878\u001b[0m \u001b[38;5;28;01mwith\u001b[39;00m \u001b[38;5;28mself\u001b[39m\u001b[38;5;241m.\u001b[39m_error_catcher():\n\u001b[0;32m--> 879\u001b[0m     data \u001b[38;5;241m=\u001b[39m \u001b[38;5;28;43mself\u001b[39;49m\u001b[38;5;241;43m.\u001b[39;49m\u001b[43m_fp_read\u001b[49m\u001b[43m(\u001b[49m\u001b[43mamt\u001b[49m\u001b[43m,\u001b[49m\u001b[43m \u001b[49m\u001b[43mread1\u001b[49m\u001b[38;5;241;43m=\u001b[39;49m\u001b[43mread1\u001b[49m\u001b[43m)\u001b[49m \u001b[38;5;28;01mif\u001b[39;00m \u001b[38;5;129;01mnot\u001b[39;00m fp_closed \u001b[38;5;28;01melse\u001b[39;00m \u001b[38;5;124mb\u001b[39m\u001b[38;5;124m\"\u001b[39m\u001b[38;5;124m\"\u001b[39m\n\u001b[1;32m    880\u001b[0m     \u001b[38;5;28;01mif\u001b[39;00m amt \u001b[38;5;129;01mis\u001b[39;00m \u001b[38;5;129;01mnot\u001b[39;00m \u001b[38;5;28;01mNone\u001b[39;00m \u001b[38;5;129;01mand\u001b[39;00m amt \u001b[38;5;241m!=\u001b[39m \u001b[38;5;241m0\u001b[39m \u001b[38;5;129;01mand\u001b[39;00m \u001b[38;5;129;01mnot\u001b[39;00m data:\n\u001b[1;32m    881\u001b[0m         \u001b[38;5;66;03m# Platform-specific: Buggy versions of Python.\u001b[39;00m\n\u001b[1;32m    882\u001b[0m         \u001b[38;5;66;03m# Close the connection when no data is returned\u001b[39;00m\n\u001b[0;32m   (...)\u001b[0m\n\u001b[1;32m    887\u001b[0m         \u001b[38;5;66;03m# not properly close the connection in all cases. There is\u001b[39;00m\n\u001b[1;32m    888\u001b[0m         \u001b[38;5;66;03m# no harm in redundantly calling close.\u001b[39;00m\n\u001b[1;32m    889\u001b[0m         \u001b[38;5;28mself\u001b[39m\u001b[38;5;241m.\u001b[39m_fp\u001b[38;5;241m.\u001b[39mclose()\n",
      "File \u001b[0;32m~/docs/ITMO/AB/.venv/lib/python3.10/site-packages/urllib3/response.py:862\u001b[0m, in \u001b[0;36mHTTPResponse._fp_read\u001b[0;34m(self, amt, read1)\u001b[0m\n\u001b[1;32m    859\u001b[0m     \u001b[38;5;28;01mreturn\u001b[39;00m \u001b[38;5;28mself\u001b[39m\u001b[38;5;241m.\u001b[39m_fp\u001b[38;5;241m.\u001b[39mread1(amt) \u001b[38;5;28;01mif\u001b[39;00m amt \u001b[38;5;129;01mis\u001b[39;00m \u001b[38;5;129;01mnot\u001b[39;00m \u001b[38;5;28;01mNone\u001b[39;00m \u001b[38;5;28;01melse\u001b[39;00m \u001b[38;5;28mself\u001b[39m\u001b[38;5;241m.\u001b[39m_fp\u001b[38;5;241m.\u001b[39mread1()\n\u001b[1;32m    860\u001b[0m \u001b[38;5;28;01melse\u001b[39;00m:\n\u001b[1;32m    861\u001b[0m     \u001b[38;5;66;03m# StringIO doesn't like amt=None\u001b[39;00m\n\u001b[0;32m--> 862\u001b[0m     \u001b[38;5;28;01mreturn\u001b[39;00m \u001b[38;5;28;43mself\u001b[39;49m\u001b[38;5;241;43m.\u001b[39;49m\u001b[43m_fp\u001b[49m\u001b[38;5;241;43m.\u001b[39;49m\u001b[43mread\u001b[49m\u001b[43m(\u001b[49m\u001b[43mamt\u001b[49m\u001b[43m)\u001b[49m \u001b[38;5;28;01mif\u001b[39;00m amt \u001b[38;5;129;01mis\u001b[39;00m \u001b[38;5;129;01mnot\u001b[39;00m \u001b[38;5;28;01mNone\u001b[39;00m \u001b[38;5;28;01melse\u001b[39;00m \u001b[38;5;28mself\u001b[39m\u001b[38;5;241m.\u001b[39m_fp\u001b[38;5;241m.\u001b[39mread()\n",
      "File \u001b[0;32m~/.pyenv/versions/3.10.14/lib/python3.10/http/client.py:466\u001b[0m, in \u001b[0;36mHTTPResponse.read\u001b[0;34m(self, amt)\u001b[0m\n\u001b[1;32m    463\u001b[0m \u001b[38;5;28;01mif\u001b[39;00m \u001b[38;5;28mself\u001b[39m\u001b[38;5;241m.\u001b[39mlength \u001b[38;5;129;01mis\u001b[39;00m \u001b[38;5;129;01mnot\u001b[39;00m \u001b[38;5;28;01mNone\u001b[39;00m \u001b[38;5;129;01mand\u001b[39;00m amt \u001b[38;5;241m>\u001b[39m \u001b[38;5;28mself\u001b[39m\u001b[38;5;241m.\u001b[39mlength:\n\u001b[1;32m    464\u001b[0m     \u001b[38;5;66;03m# clip the read to the \"end of response\"\u001b[39;00m\n\u001b[1;32m    465\u001b[0m     amt \u001b[38;5;241m=\u001b[39m \u001b[38;5;28mself\u001b[39m\u001b[38;5;241m.\u001b[39mlength\n\u001b[0;32m--> 466\u001b[0m s \u001b[38;5;241m=\u001b[39m \u001b[38;5;28;43mself\u001b[39;49m\u001b[38;5;241;43m.\u001b[39;49m\u001b[43mfp\u001b[49m\u001b[38;5;241;43m.\u001b[39;49m\u001b[43mread\u001b[49m\u001b[43m(\u001b[49m\u001b[43mamt\u001b[49m\u001b[43m)\u001b[49m\n\u001b[1;32m    467\u001b[0m \u001b[38;5;28;01mif\u001b[39;00m \u001b[38;5;129;01mnot\u001b[39;00m s \u001b[38;5;129;01mand\u001b[39;00m amt:\n\u001b[1;32m    468\u001b[0m     \u001b[38;5;66;03m# Ideally, we would raise IncompleteRead if the content-length\u001b[39;00m\n\u001b[1;32m    469\u001b[0m     \u001b[38;5;66;03m# wasn't satisfied, but it might break compatibility.\u001b[39;00m\n\u001b[1;32m    470\u001b[0m     \u001b[38;5;28mself\u001b[39m\u001b[38;5;241m.\u001b[39m_close_conn()\n",
      "File \u001b[0;32m~/.pyenv/versions/3.10.14/lib/python3.10/socket.py:705\u001b[0m, in \u001b[0;36mSocketIO.readinto\u001b[0;34m(self, b)\u001b[0m\n\u001b[1;32m    703\u001b[0m \u001b[38;5;28;01mwhile\u001b[39;00m \u001b[38;5;28;01mTrue\u001b[39;00m:\n\u001b[1;32m    704\u001b[0m     \u001b[38;5;28;01mtry\u001b[39;00m:\n\u001b[0;32m--> 705\u001b[0m         \u001b[38;5;28;01mreturn\u001b[39;00m \u001b[38;5;28;43mself\u001b[39;49m\u001b[38;5;241;43m.\u001b[39;49m\u001b[43m_sock\u001b[49m\u001b[38;5;241;43m.\u001b[39;49m\u001b[43mrecv_into\u001b[49m\u001b[43m(\u001b[49m\u001b[43mb\u001b[49m\u001b[43m)\u001b[49m\n\u001b[1;32m    706\u001b[0m     \u001b[38;5;28;01mexcept\u001b[39;00m timeout:\n\u001b[1;32m    707\u001b[0m         \u001b[38;5;28mself\u001b[39m\u001b[38;5;241m.\u001b[39m_timeout_occurred \u001b[38;5;241m=\u001b[39m \u001b[38;5;28;01mTrue\u001b[39;00m\n",
      "File \u001b[0;32m~/.pyenv/versions/3.10.14/lib/python3.10/ssl.py:1307\u001b[0m, in \u001b[0;36mSSLSocket.recv_into\u001b[0;34m(self, buffer, nbytes, flags)\u001b[0m\n\u001b[1;32m   1303\u001b[0m     \u001b[38;5;28;01mif\u001b[39;00m flags \u001b[38;5;241m!=\u001b[39m \u001b[38;5;241m0\u001b[39m:\n\u001b[1;32m   1304\u001b[0m         \u001b[38;5;28;01mraise\u001b[39;00m \u001b[38;5;167;01mValueError\u001b[39;00m(\n\u001b[1;32m   1305\u001b[0m           \u001b[38;5;124m\"\u001b[39m\u001b[38;5;124mnon-zero flags not allowed in calls to recv_into() on \u001b[39m\u001b[38;5;132;01m%s\u001b[39;00m\u001b[38;5;124m\"\u001b[39m \u001b[38;5;241m%\u001b[39m\n\u001b[1;32m   1306\u001b[0m           \u001b[38;5;28mself\u001b[39m\u001b[38;5;241m.\u001b[39m\u001b[38;5;18m__class__\u001b[39m)\n\u001b[0;32m-> 1307\u001b[0m     \u001b[38;5;28;01mreturn\u001b[39;00m \u001b[38;5;28;43mself\u001b[39;49m\u001b[38;5;241;43m.\u001b[39;49m\u001b[43mread\u001b[49m\u001b[43m(\u001b[49m\u001b[43mnbytes\u001b[49m\u001b[43m,\u001b[49m\u001b[43m \u001b[49m\u001b[43mbuffer\u001b[49m\u001b[43m)\u001b[49m\n\u001b[1;32m   1308\u001b[0m \u001b[38;5;28;01melse\u001b[39;00m:\n\u001b[1;32m   1309\u001b[0m     \u001b[38;5;28;01mreturn\u001b[39;00m \u001b[38;5;28msuper\u001b[39m()\u001b[38;5;241m.\u001b[39mrecv_into(buffer, nbytes, flags)\n",
      "File \u001b[0;32m~/.pyenv/versions/3.10.14/lib/python3.10/ssl.py:1163\u001b[0m, in \u001b[0;36mSSLSocket.read\u001b[0;34m(self, len, buffer)\u001b[0m\n\u001b[1;32m   1161\u001b[0m \u001b[38;5;28;01mtry\u001b[39;00m:\n\u001b[1;32m   1162\u001b[0m     \u001b[38;5;28;01mif\u001b[39;00m buffer \u001b[38;5;129;01mis\u001b[39;00m \u001b[38;5;129;01mnot\u001b[39;00m \u001b[38;5;28;01mNone\u001b[39;00m:\n\u001b[0;32m-> 1163\u001b[0m         \u001b[38;5;28;01mreturn\u001b[39;00m \u001b[38;5;28;43mself\u001b[39;49m\u001b[38;5;241;43m.\u001b[39;49m\u001b[43m_sslobj\u001b[49m\u001b[38;5;241;43m.\u001b[39;49m\u001b[43mread\u001b[49m\u001b[43m(\u001b[49m\u001b[38;5;28;43mlen\u001b[39;49m\u001b[43m,\u001b[49m\u001b[43m \u001b[49m\u001b[43mbuffer\u001b[49m\u001b[43m)\u001b[49m\n\u001b[1;32m   1164\u001b[0m     \u001b[38;5;28;01melse\u001b[39;00m:\n\u001b[1;32m   1165\u001b[0m         \u001b[38;5;28;01mreturn\u001b[39;00m \u001b[38;5;28mself\u001b[39m\u001b[38;5;241m.\u001b[39m_sslobj\u001b[38;5;241m.\u001b[39mread(\u001b[38;5;28mlen\u001b[39m)\n",
      "\u001b[0;31mKeyboardInterrupt\u001b[0m: "
     ]
    },
    {
     "name": "stderr",
     "output_type": "stream",
     "text": []
    }
   ],
   "source": [
    "url = \"https://github.com/sharthZ23/your-second-recsys/raw/master/data_kion.zip\"\n",
    "req = requests.get(url, stream=True)\n",
    "\n",
    "with open('data_kion.zip', \"wb\") as fd:\n",
    "    total_size_in_bytes = int(req.headers.get('Content-Length', 0))\n",
    "    progress_bar = tqdm(desc='kion dataset download', total=total_size_in_bytes, unit='iB', unit_scale=True)\n",
    "    for chunk in req.iter_content(chunk_size=2 ** 20):\n",
    "        progress_bar.update(len(chunk))\n",
    "        fd.write(chunk)\n",
    "\n",
    "# Распаковываем архив из 3 файлов\n",
    "with zipfile.ZipFile('data_kion.zip', 'r') as zip_ref:\n",
    "    zip_ref.extractall()"
   ]
  },
  {
   "cell_type": "markdown",
   "id": "e9cca7ae",
   "metadata": {},
   "source": [
    "### 📺 Данные: датасет КИОН\n",
    "- **просмотры** фильмов и сериалов в приложении KION\n",
    "- данные о пользователях\n",
    "- данные об айтемах (фильмы, сериалы и т.д.)"
   ]
  },
  {
   "cell_type": "code",
   "execution_count": 3,
   "id": "8eb7f3e1",
   "metadata": {},
   "outputs": [],
   "source": [
    "interactions = pd.read_csv('data_kion/interactions_df.csv')\n",
    "users = pd.read_csv('data_kion/users.csv')\n",
    "items = pd.read_csv('data_kion/items.csv')"
   ]
  },
  {
   "cell_type": "code",
   "execution_count": 4,
   "id": "3070e7ee",
   "metadata": {},
   "outputs": [
    {
     "data": {
      "text/html": [
       "<div>\n",
       "<style scoped>\n",
       "    .dataframe tbody tr th:only-of-type {\n",
       "        vertical-align: middle;\n",
       "    }\n",
       "\n",
       "    .dataframe tbody tr th {\n",
       "        vertical-align: top;\n",
       "    }\n",
       "\n",
       "    .dataframe thead th {\n",
       "        text-align: right;\n",
       "    }\n",
       "</style>\n",
       "<table border=\"1\" class=\"dataframe\">\n",
       "  <thead>\n",
       "    <tr style=\"text-align: right;\">\n",
       "      <th></th>\n",
       "      <th>user_id</th>\n",
       "      <th>item_id</th>\n",
       "      <th>last_watch_dt</th>\n",
       "      <th>total_dur</th>\n",
       "      <th>watched_pct</th>\n",
       "    </tr>\n",
       "  </thead>\n",
       "  <tbody>\n",
       "    <tr>\n",
       "      <th>0</th>\n",
       "      <td>176549</td>\n",
       "      <td>9506</td>\n",
       "      <td>2021-05-11</td>\n",
       "      <td>4250</td>\n",
       "      <td>72.0</td>\n",
       "    </tr>\n",
       "    <tr>\n",
       "      <th>1</th>\n",
       "      <td>699317</td>\n",
       "      <td>1659</td>\n",
       "      <td>2021-05-29</td>\n",
       "      <td>8317</td>\n",
       "      <td>100.0</td>\n",
       "    </tr>\n",
       "    <tr>\n",
       "      <th>2</th>\n",
       "      <td>656683</td>\n",
       "      <td>7107</td>\n",
       "      <td>2021-05-09</td>\n",
       "      <td>10</td>\n",
       "      <td>0.0</td>\n",
       "    </tr>\n",
       "    <tr>\n",
       "      <th>3</th>\n",
       "      <td>864613</td>\n",
       "      <td>7638</td>\n",
       "      <td>2021-07-05</td>\n",
       "      <td>14483</td>\n",
       "      <td>100.0</td>\n",
       "    </tr>\n",
       "    <tr>\n",
       "      <th>4</th>\n",
       "      <td>964868</td>\n",
       "      <td>9506</td>\n",
       "      <td>2021-04-30</td>\n",
       "      <td>6725</td>\n",
       "      <td>100.0</td>\n",
       "    </tr>\n",
       "  </tbody>\n",
       "</table>\n",
       "</div>"
      ],
      "text/plain": [
       "   user_id  item_id last_watch_dt  total_dur  watched_pct\n",
       "0   176549     9506    2021-05-11       4250         72.0\n",
       "1   699317     1659    2021-05-29       8317        100.0\n",
       "2   656683     7107    2021-05-09         10          0.0\n",
       "3   864613     7638    2021-07-05      14483        100.0\n",
       "4   964868     9506    2021-04-30       6725        100.0"
      ]
     },
     "metadata": {},
     "output_type": "display_data"
    },
    {
     "name": "stdout",
     "output_type": "stream",
     "text": [
      "interactions:  (5476251, 5)\n"
     ]
    }
   ],
   "source": [
    "# взаимодействия между пользователе и контентом\n",
    "display(interactions.head(5))\n",
    "print('interactions: ', interactions.shape)\n",
    "\n",
    "# user_id - уникальный идентификатор пользователя\n",
    "# item_id - уникальный идентификатор контента\n",
    "# last_watch_dt - последняя дата просмотра юзером определенного контента\n",
    "# total_dur - суммарная продолжительность просмотра определенного контента юзером (в секундах)\n",
    "# watched_pct - процент просмотренного контента от общей продолжительности"
   ]
  },
  {
   "cell_type": "code",
   "execution_count": 5,
   "id": "5f1ef00f",
   "metadata": {},
   "outputs": [
    {
     "data": {
      "text/html": [
       "<div>\n",
       "<style scoped>\n",
       "    .dataframe tbody tr th:only-of-type {\n",
       "        vertical-align: middle;\n",
       "    }\n",
       "\n",
       "    .dataframe tbody tr th {\n",
       "        vertical-align: top;\n",
       "    }\n",
       "\n",
       "    .dataframe thead th {\n",
       "        text-align: right;\n",
       "    }\n",
       "</style>\n",
       "<table border=\"1\" class=\"dataframe\">\n",
       "  <thead>\n",
       "    <tr style=\"text-align: right;\">\n",
       "      <th></th>\n",
       "      <th>user_id</th>\n",
       "      <th>age</th>\n",
       "      <th>income</th>\n",
       "      <th>sex</th>\n",
       "      <th>kids_flg</th>\n",
       "    </tr>\n",
       "  </thead>\n",
       "  <tbody>\n",
       "    <tr>\n",
       "      <th>0</th>\n",
       "      <td>973171</td>\n",
       "      <td>age_25_34</td>\n",
       "      <td>income_60_90</td>\n",
       "      <td>М</td>\n",
       "      <td>1</td>\n",
       "    </tr>\n",
       "    <tr>\n",
       "      <th>1</th>\n",
       "      <td>962099</td>\n",
       "      <td>age_18_24</td>\n",
       "      <td>income_20_40</td>\n",
       "      <td>М</td>\n",
       "      <td>0</td>\n",
       "    </tr>\n",
       "    <tr>\n",
       "      <th>2</th>\n",
       "      <td>1047345</td>\n",
       "      <td>age_45_54</td>\n",
       "      <td>income_40_60</td>\n",
       "      <td>Ж</td>\n",
       "      <td>0</td>\n",
       "    </tr>\n",
       "    <tr>\n",
       "      <th>3</th>\n",
       "      <td>721985</td>\n",
       "      <td>age_45_54</td>\n",
       "      <td>income_20_40</td>\n",
       "      <td>Ж</td>\n",
       "      <td>0</td>\n",
       "    </tr>\n",
       "    <tr>\n",
       "      <th>4</th>\n",
       "      <td>704055</td>\n",
       "      <td>age_35_44</td>\n",
       "      <td>income_60_90</td>\n",
       "      <td>Ж</td>\n",
       "      <td>0</td>\n",
       "    </tr>\n",
       "  </tbody>\n",
       "</table>\n",
       "</div>"
      ],
      "text/plain": [
       "   user_id        age        income sex  kids_flg\n",
       "0   973171  age_25_34  income_60_90   М         1\n",
       "1   962099  age_18_24  income_20_40   М         0\n",
       "2  1047345  age_45_54  income_40_60   Ж         0\n",
       "3   721985  age_45_54  income_20_40   Ж         0\n",
       "4   704055  age_35_44  income_60_90   Ж         0"
      ]
     },
     "metadata": {},
     "output_type": "display_data"
    },
    {
     "name": "stdout",
     "output_type": "stream",
     "text": [
      "users:  (840197, 5)\n"
     ]
    },
    {
     "data": {
      "text/html": [
       "<div>\n",
       "<style scoped>\n",
       "    .dataframe tbody tr th:only-of-type {\n",
       "        vertical-align: middle;\n",
       "    }\n",
       "\n",
       "    .dataframe tbody tr th {\n",
       "        vertical-align: top;\n",
       "    }\n",
       "\n",
       "    .dataframe thead th {\n",
       "        text-align: right;\n",
       "    }\n",
       "</style>\n",
       "<table border=\"1\" class=\"dataframe\">\n",
       "  <thead>\n",
       "    <tr style=\"text-align: right;\">\n",
       "      <th></th>\n",
       "      <th>age</th>\n",
       "      <th>user_id</th>\n",
       "    </tr>\n",
       "  </thead>\n",
       "  <tbody>\n",
       "    <tr>\n",
       "      <th>0</th>\n",
       "      <td>age_18_24</td>\n",
       "      <td>127672</td>\n",
       "    </tr>\n",
       "    <tr>\n",
       "      <th>1</th>\n",
       "      <td>age_25_34</td>\n",
       "      <td>233926</td>\n",
       "    </tr>\n",
       "    <tr>\n",
       "      <th>2</th>\n",
       "      <td>age_35_44</td>\n",
       "      <td>207043</td>\n",
       "    </tr>\n",
       "    <tr>\n",
       "      <th>3</th>\n",
       "      <td>age_45_54</td>\n",
       "      <td>135925</td>\n",
       "    </tr>\n",
       "    <tr>\n",
       "      <th>4</th>\n",
       "      <td>age_55_64</td>\n",
       "      <td>75265</td>\n",
       "    </tr>\n",
       "    <tr>\n",
       "      <th>5</th>\n",
       "      <td>age_65_inf</td>\n",
       "      <td>46271</td>\n",
       "    </tr>\n",
       "  </tbody>\n",
       "</table>\n",
       "</div>"
      ],
      "text/plain": [
       "          age  user_id\n",
       "0   age_18_24   127672\n",
       "1   age_25_34   233926\n",
       "2   age_35_44   207043\n",
       "3   age_45_54   135925\n",
       "4   age_55_64    75265\n",
       "5  age_65_inf    46271"
      ]
     },
     "execution_count": 5,
     "metadata": {},
     "output_type": "execute_result"
    }
   ],
   "source": [
    "# пользователи\n",
    "display(users.head())\n",
    "print('users: ', users.shape)\n",
    "\n",
    "# user_id - уникальный идентификатор пользователя\n",
    "# kids_flg = 0 - детей нет, если 1 - дети есть\n",
    "# income - группа, в которую юзер отнесен по доходу\n",
    "# age - группа, в которую юзер отнесен по возрасту\n",
    "# sex - пол\n",
    "\n",
    "users.groupby('age', as_index=False).count()[['age', 'user_id']]"
   ]
  },
  {
   "cell_type": "code",
   "execution_count": 6,
   "id": "49867297",
   "metadata": {},
   "outputs": [
    {
     "data": {
      "text/html": [
       "<div>\n",
       "<style scoped>\n",
       "    .dataframe tbody tr th:only-of-type {\n",
       "        vertical-align: middle;\n",
       "    }\n",
       "\n",
       "    .dataframe tbody tr th {\n",
       "        vertical-align: top;\n",
       "    }\n",
       "\n",
       "    .dataframe thead th {\n",
       "        text-align: right;\n",
       "    }\n",
       "</style>\n",
       "<table border=\"1\" class=\"dataframe\">\n",
       "  <thead>\n",
       "    <tr style=\"text-align: right;\">\n",
       "      <th></th>\n",
       "      <th>item_id</th>\n",
       "      <th>content_type</th>\n",
       "      <th>title</th>\n",
       "      <th>title_orig</th>\n",
       "      <th>release_year</th>\n",
       "      <th>genres</th>\n",
       "      <th>countries</th>\n",
       "      <th>for_kids</th>\n",
       "      <th>age_rating</th>\n",
       "      <th>studios</th>\n",
       "      <th>directors</th>\n",
       "      <th>actors</th>\n",
       "      <th>description</th>\n",
       "      <th>keywords</th>\n",
       "    </tr>\n",
       "  </thead>\n",
       "  <tbody>\n",
       "    <tr>\n",
       "      <th>0</th>\n",
       "      <td>10711</td>\n",
       "      <td>film</td>\n",
       "      <td>Поговори с ней</td>\n",
       "      <td>Hable con ella</td>\n",
       "      <td>2002.0</td>\n",
       "      <td>драмы, зарубежные, детективы, мелодрамы</td>\n",
       "      <td>Испания</td>\n",
       "      <td>NaN</td>\n",
       "      <td>16.0</td>\n",
       "      <td>NaN</td>\n",
       "      <td>Педро Альмодовар</td>\n",
       "      <td>Адольфо Фернандес, Ана Фернандес, Дарио Гранди...</td>\n",
       "      <td>Мелодрама легендарного Педро Альмодовара «Пого...</td>\n",
       "      <td>Поговори, ней, 2002, Испания, друзья, любовь, ...</td>\n",
       "    </tr>\n",
       "    <tr>\n",
       "      <th>1</th>\n",
       "      <td>2508</td>\n",
       "      <td>film</td>\n",
       "      <td>Голые перцы</td>\n",
       "      <td>Search Party</td>\n",
       "      <td>2014.0</td>\n",
       "      <td>зарубежные, приключения, комедии</td>\n",
       "      <td>США</td>\n",
       "      <td>NaN</td>\n",
       "      <td>16.0</td>\n",
       "      <td>NaN</td>\n",
       "      <td>Скот Армстронг</td>\n",
       "      <td>Адам Палли, Брайан Хаски, Дж.Б. Смув, Джейсон ...</td>\n",
       "      <td>Уморительная современная комедия на популярную...</td>\n",
       "      <td>Голые, перцы, 2014, США, друзья, свадьбы, прео...</td>\n",
       "    </tr>\n",
       "    <tr>\n",
       "      <th>2</th>\n",
       "      <td>10716</td>\n",
       "      <td>film</td>\n",
       "      <td>Тактическая сила</td>\n",
       "      <td>Tactical Force</td>\n",
       "      <td>2011.0</td>\n",
       "      <td>криминал, зарубежные, триллеры, боевики, комедии</td>\n",
       "      <td>Канада</td>\n",
       "      <td>NaN</td>\n",
       "      <td>16.0</td>\n",
       "      <td>NaN</td>\n",
       "      <td>Адам П. Калтраро</td>\n",
       "      <td>Адриан Холмс, Даррен Шалави, Джерри Вассерман,...</td>\n",
       "      <td>Профессиональный рестлер Стив Остин («Все или ...</td>\n",
       "      <td>Тактическая, сила, 2011, Канада, бандиты, ганг...</td>\n",
       "    </tr>\n",
       "  </tbody>\n",
       "</table>\n",
       "</div>"
      ],
      "text/plain": [
       "   item_id content_type             title      title_orig  release_year  \\\n",
       "0    10711         film    Поговори с ней  Hable con ella        2002.0   \n",
       "1     2508         film       Голые перцы    Search Party        2014.0   \n",
       "2    10716         film  Тактическая сила  Tactical Force        2011.0   \n",
       "\n",
       "                                             genres countries  for_kids  \\\n",
       "0           драмы, зарубежные, детективы, мелодрамы   Испания       NaN   \n",
       "1                  зарубежные, приключения, комедии       США       NaN   \n",
       "2  криминал, зарубежные, триллеры, боевики, комедии    Канада       NaN   \n",
       "\n",
       "   age_rating studios         directors  \\\n",
       "0        16.0     NaN  Педро Альмодовар   \n",
       "1        16.0     NaN    Скот Армстронг   \n",
       "2        16.0     NaN  Адам П. Калтраро   \n",
       "\n",
       "                                              actors  \\\n",
       "0  Адольфо Фернандес, Ана Фернандес, Дарио Гранди...   \n",
       "1  Адам Палли, Брайан Хаски, Дж.Б. Смув, Джейсон ...   \n",
       "2  Адриан Холмс, Даррен Шалави, Джерри Вассерман,...   \n",
       "\n",
       "                                         description  \\\n",
       "0  Мелодрама легендарного Педро Альмодовара «Пого...   \n",
       "1  Уморительная современная комедия на популярную...   \n",
       "2  Профессиональный рестлер Стив Остин («Все или ...   \n",
       "\n",
       "                                            keywords  \n",
       "0  Поговори, ней, 2002, Испания, друзья, любовь, ...  \n",
       "1  Голые, перцы, 2014, США, друзья, свадьбы, прео...  \n",
       "2  Тактическая, сила, 2011, Канада, бандиты, ганг...  "
      ]
     },
     "metadata": {},
     "output_type": "display_data"
    },
    {
     "name": "stdout",
     "output_type": "stream",
     "text": [
      "items:  (15963, 14)\n"
     ]
    },
    {
     "data": {
      "text/html": [
       "<div>\n",
       "<style scoped>\n",
       "    .dataframe tbody tr th:only-of-type {\n",
       "        vertical-align: middle;\n",
       "    }\n",
       "\n",
       "    .dataframe tbody tr th {\n",
       "        vertical-align: top;\n",
       "    }\n",
       "\n",
       "    .dataframe thead th {\n",
       "        text-align: right;\n",
       "    }\n",
       "</style>\n",
       "<table border=\"1\" class=\"dataframe\">\n",
       "  <thead>\n",
       "    <tr style=\"text-align: right;\">\n",
       "      <th></th>\n",
       "      <th>content_type</th>\n",
       "      <th>item_id</th>\n",
       "    </tr>\n",
       "  </thead>\n",
       "  <tbody>\n",
       "    <tr>\n",
       "      <th>0</th>\n",
       "      <td>film</td>\n",
       "      <td>12002</td>\n",
       "    </tr>\n",
       "    <tr>\n",
       "      <th>1</th>\n",
       "      <td>series</td>\n",
       "      <td>3961</td>\n",
       "    </tr>\n",
       "  </tbody>\n",
       "</table>\n",
       "</div>"
      ],
      "text/plain": [
       "  content_type  item_id\n",
       "0         film    12002\n",
       "1       series     3961"
      ]
     },
     "execution_count": 6,
     "metadata": {},
     "output_type": "execute_result"
    }
   ],
   "source": [
    "# данные контента\n",
    "display(items.head(3))\n",
    "print('items: ', items.shape)\n",
    "\n",
    "# item_id — уникальный идентификатор элемента (например, фильма, сериала или другого контента).\n",
    "# content_type — тип контента: например, “film” для фильмов или другие типы.\n",
    "# title — название контента, указанное на языке данных.\n",
    "# title_orig — оригинальное название контента (если отличается от локального).\n",
    "# release_year — год выпуска контента.\n",
    "# genres — жанры, к которым относится контент (например, “драмы”, “комедии”).\n",
    "# countries — страны, где был создан контент.\n",
    "# for_kids — флаг, указывающий, является ли контент детским: 1 — да, 0 — нет.\n",
    "# age_rating — возрастной рейтинг контента (например, 16+).\n",
    "# studios — студии, которые создавали контент.\n",
    "# directors — режиссёры, участвовавшие в создании контента.\n",
    "# actors — актёры, задействованные в съёмках.\n",
    "# description — описание контента (короткая аннотация, сюжет).\n",
    "# keywords — ключевые слова, связанные с контентом (используются для поиска или рекомендаций).\n",
    "\n",
    "items.groupby('content_type', as_index=False).count()[['content_type', 'item_id']]"
   ]
  },
  {
   "cell_type": "code",
   "execution_count": 7,
   "id": "dbe60303",
   "metadata": {},
   "outputs": [],
   "source": [
    "# Функции из семинара, которые предполагаются в решении:\n",
    "def calc_bootstrap_mean(arr, size=1000):\n",
    "    result = np.empty(size)\n",
    "    for i in range(size):\n",
    "        result[i] = np.mean(get_bootstrap_array(arr))\n",
    "    return result\n",
    "\n",
    "def salt_generator(salt=None):\n",
    "    import os\n",
    "    from base64 import b64encode\n",
    "    salt = os.urandom(8)\n",
    "    return b64encode(salt).decode('ascii')\n",
    "\n",
    "def get_bootstrap_array(arr):\n",
    "    return np.random.choice(arr, replace=True, size=len(arr))\n",
    "\n",
    "\n",
    "def get_p_value(dist):\n",
    "    dist = np.array(dist)\n",
    "    x = (dist > 0).mean()\n",
    "    pvalue = min(x, 1 - x) * 2\n",
    "    return pvalue\n",
    "\n",
    "# Делим на 2 равные группы\n",
    "def groups_splitter(df, columns, user_salt=None):\n",
    "\n",
    "    if user_salt == None:\n",
    "        salt = salt_generator()\n",
    "    else:\n",
    "        salt = user_salt\n",
    "\n",
    "    df['hash'] = ((df['user_id'].astype(str)) + '#' + salt).apply(lambda x: hashlib.sha256(x.encode('utf-8')).hexdigest())\n",
    "    df['group'] = ((df['hash'].str.slice(start=-6).apply(int, base=16) % 2).map(lambda x: 'A' if x == 0 else 'B'))\n",
    "\n",
    "    return df[columns].drop_duplicates()"
   ]
  },
  {
   "cell_type": "markdown",
   "id": "12a5a01a",
   "metadata": {},
   "source": [
    "\n",
    "В этом ноутбуке представлено решение задач из домашнего задания по A/B тестам. \n",
    "Каждый раздел посвящён отдельному пункту задания и включает код с объяснениями.\n"
   ]
  },
  {
   "cell_type": "markdown",
   "id": "fd21421c",
   "metadata": {},
   "source": [
    "## 🧪 Блок 1: Дизайн теста бутстреп"
   ]
  },
  {
   "cell_type": "markdown",
   "id": "29c373b8",
   "metadata": {},
   "source": [
    "<details>\n",
    "  <summary>📝 Формулировка задания для блока </summary>\n",
    "\n",
    "1. Из `interactions` взять данные за 2 последние недели (**2021-08-09 по 2021-08-22**).\n",
    "2. Посчитайте на этих данных **корректность на бутстрепе** и сравните её с результатами за 1 неделю (посчитано на семинаре).  \n",
    "   **(2 балла)**\n",
    "3. На двух неделях посчитайте **мощность**. Для этого нужно в одну из групп докинуть эффект:  \n",
    "   - Докиньте эффект в **1%**, **3%** и **5%**.  \n",
    "   - Сравните полученную мощность.  \n",
    "   **(3 балла за расчет + 2 балла за подробное объяснение)**.\n",
    "4. Посчитайте **MDE** (минимальный детектируемый эффект), который можно зафиксировать на 2-х неделях.  \n",
    "   - В качестве **alpha** и **beta** подставьте ваши вычисленные ошибки 1 и 2 рода.  \n",
    "   - Учитывайте, что у нас формула для MDE работает для **t-test** или **z-test**.  \n",
    "   **(3 балла)**.\n",
    "\n",
    "</details>"
   ]
  },
  {
   "cell_type": "markdown",
   "id": "df08d7b8",
   "metadata": {},
   "source": [
    "### 1.1 Предобработка и анализ данных\n",
    "<details>\n",
    "  <summary>📝 Формулировка задания </summary>\n",
    "\n",
    "1. Из `interactions` взять данные за 2 последние недели (**2021-08-09 по 2021-08-22**).\n",
    "</details>"
   ]
  },
  {
   "cell_type": "code",
   "execution_count": 8,
   "id": "175b584b",
   "metadata": {},
   "outputs": [
    {
     "name": "stdout",
     "output_type": "stream",
     "text": [
      "Уникальных юзеров в interactions: 962_179\n",
      "Уникальных айтемов в interactions: 15_706\n"
     ]
    },
    {
     "data": {
      "text/html": [
       "<div>\n",
       "<style scoped>\n",
       "    .dataframe tbody tr th:only-of-type {\n",
       "        vertical-align: middle;\n",
       "    }\n",
       "\n",
       "    .dataframe tbody tr th {\n",
       "        vertical-align: top;\n",
       "    }\n",
       "\n",
       "    .dataframe thead th {\n",
       "        text-align: right;\n",
       "    }\n",
       "</style>\n",
       "<table border=\"1\" class=\"dataframe\">\n",
       "  <thead>\n",
       "    <tr style=\"text-align: right;\">\n",
       "      <th></th>\n",
       "      <th>user_id</th>\n",
       "      <th>item_id</th>\n",
       "      <th>last_watch_dt</th>\n",
       "      <th>total_dur</th>\n",
       "      <th>watched_pct</th>\n",
       "    </tr>\n",
       "  </thead>\n",
       "  <tbody>\n",
       "    <tr>\n",
       "      <th>0</th>\n",
       "      <td>176549</td>\n",
       "      <td>9506</td>\n",
       "      <td>2021-05-11</td>\n",
       "      <td>4250</td>\n",
       "      <td>72.0</td>\n",
       "    </tr>\n",
       "    <tr>\n",
       "      <th>1</th>\n",
       "      <td>699317</td>\n",
       "      <td>1659</td>\n",
       "      <td>2021-05-29</td>\n",
       "      <td>8317</td>\n",
       "      <td>100.0</td>\n",
       "    </tr>\n",
       "    <tr>\n",
       "      <th>2</th>\n",
       "      <td>656683</td>\n",
       "      <td>7107</td>\n",
       "      <td>2021-05-09</td>\n",
       "      <td>10</td>\n",
       "      <td>0.0</td>\n",
       "    </tr>\n",
       "    <tr>\n",
       "      <th>3</th>\n",
       "      <td>864613</td>\n",
       "      <td>7638</td>\n",
       "      <td>2021-07-05</td>\n",
       "      <td>14483</td>\n",
       "      <td>100.0</td>\n",
       "    </tr>\n",
       "    <tr>\n",
       "      <th>4</th>\n",
       "      <td>964868</td>\n",
       "      <td>9506</td>\n",
       "      <td>2021-04-30</td>\n",
       "      <td>6725</td>\n",
       "      <td>100.0</td>\n",
       "    </tr>\n",
       "  </tbody>\n",
       "</table>\n",
       "</div>"
      ],
      "text/plain": [
       "  user_id  item_id last_watch_dt  total_dur  watched_pct\n",
       "0  176549     9506    2021-05-11       4250         72.0\n",
       "1  699317     1659    2021-05-29       8317        100.0\n",
       "2  656683     7107    2021-05-09         10          0.0\n",
       "3  864613     7638    2021-07-05      14483        100.0\n",
       "4  964868     9506    2021-04-30       6725        100.0"
      ]
     },
     "metadata": {},
     "output_type": "display_data"
    },
    {
     "name": "stdout",
     "output_type": "stream",
     "text": [
      "Выборка за 2 недели:\n"
     ]
    },
    {
     "data": {
      "text/html": [
       "<div>\n",
       "<style scoped>\n",
       "    .dataframe tbody tr th:only-of-type {\n",
       "        vertical-align: middle;\n",
       "    }\n",
       "\n",
       "    .dataframe tbody tr th {\n",
       "        vertical-align: top;\n",
       "    }\n",
       "\n",
       "    .dataframe thead th {\n",
       "        text-align: right;\n",
       "    }\n",
       "</style>\n",
       "<table border=\"1\" class=\"dataframe\">\n",
       "  <thead>\n",
       "    <tr style=\"text-align: right;\">\n",
       "      <th></th>\n",
       "      <th>user_id</th>\n",
       "      <th>total_dur</th>\n",
       "    </tr>\n",
       "  </thead>\n",
       "  <tbody>\n",
       "    <tr>\n",
       "      <th>0</th>\n",
       "      <td>1</td>\n",
       "      <td>21172</td>\n",
       "    </tr>\n",
       "    <tr>\n",
       "      <th>1</th>\n",
       "      <td>1000</td>\n",
       "      <td>10744</td>\n",
       "    </tr>\n",
       "    <tr>\n",
       "      <th>2</th>\n",
       "      <td>1000000</td>\n",
       "      <td>32990</td>\n",
       "    </tr>\n",
       "    <tr>\n",
       "      <th>3</th>\n",
       "      <td>1000001</td>\n",
       "      <td>52</td>\n",
       "    </tr>\n",
       "    <tr>\n",
       "      <th>4</th>\n",
       "      <td>1000003</td>\n",
       "      <td>625</td>\n",
       "    </tr>\n",
       "  </tbody>\n",
       "</table>\n",
       "</div>"
      ],
      "text/plain": [
       "   user_id  total_dur\n",
       "0        1      21172\n",
       "1     1000      10744\n",
       "2  1000000      32990\n",
       "3  1000001         52\n",
       "4  1000003        625"
      ]
     },
     "metadata": {},
     "output_type": "display_data"
    }
   ],
   "source": [
    "# предобработка данных\n",
    "interactions['last_watch_dt'] = pd.to_datetime(interactions['last_watch_dt']).map(lambda x: x.date())\n",
    "interactions['user_id'] = interactions['user_id'].astype(str)\n",
    "\n",
    "print(f\"Уникальных юзеров в interactions: {interactions['user_id'].nunique():_}\")\n",
    "print(f\"Уникальных айтемов в interactions: {interactions['item_id'].nunique():_}\")\n",
    "\n",
    "display(interactions.head(5))\n",
    "\n",
    "# Фильтрация данных за указанные даты\n",
    "start_date, end_date = pd.to_datetime('2021-08-09').date(), pd.to_datetime('2021-08-22').date()\n",
    "mid_date = pd.to_datetime('2021-08-15').date()\n",
    "\n",
    "week_2 = interactions[(interactions['last_watch_dt'] >= start_date) & (interactions['last_watch_dt'] <= end_date)]\n",
    "week_2 = week_2.groupby('user_id', as_index=False).agg({'total_dur': 'sum'})\n",
    "\n",
    "print('Выборка за 2 недели:')\n",
    "display(week_2.head(5))"
   ]
  },
  {
   "cell_type": "code",
   "execution_count": 9,
   "id": "6de4ed79",
   "metadata": {},
   "outputs": [
    {
     "name": "stdout",
     "output_type": "stream",
     "text": [
      "(266081, 2)\n",
      "(262794, 2)\n"
     ]
    }
   ],
   "source": [
    "print(week_2.shape)\n",
    "week_2 = week_2[(week_2['total_dur'] < week_2['total_dur'].std() * 3)]\n",
    "print(week_2.shape)"
   ]
  },
  {
   "cell_type": "code",
   "execution_count": 10,
   "id": "04965ce4",
   "metadata": {},
   "outputs": [
    {
     "data": {
      "image/png": "[encoded data removed]",
      "text/plain": [
       "<Figure size 700x700 with 1 Axes>"
      ]
     },
     "metadata": {},
     "output_type": "display_data"
    }
   ],
   "source": [
    "week_2['total_dur'].hist(bins=100, figsize=(7,7))\n",
    "plt.ylim([0, 10000])\n",
    "plt.grid(False)"
   ]
  },
  {
   "cell_type": "markdown",
   "id": "743af131",
   "metadata": {},
   "source": [
    "<details>\n",
    "  <summary> Вывод по графику </summary>    \n",
    "Данные явно не соответствуют нормальному распределению: большинство пользователей имеют небольшую продолжительность просмотров, а распределение сильно скошено влево.\n",
    "\n",
    "Что это означает? Это указывает на то, что наиболее распространенные статистические критерии, такие как t-test и z-test, не подходят для анализа нашей метрики \"длина просмотра\", так как они предполагают нормальность распределения.\n",
    "</details>"
   ]
  },
  {
   "cell_type": "code",
   "execution_count": 11,
   "id": "408bea71",
   "metadata": {},
   "outputs": [
    {
     "data": {
      "image/png": "[encoded data removed]",
      "text/plain": [
       "<Figure size 640x480 with 1 Axes>"
      ]
     },
     "metadata": {},
     "output_type": "display_data"
    },
    {
     "name": "stdout",
     "output_type": "stream",
     "text": [
      "Максимальное значение просмотров (в секундах): 222029\n",
      "Стандартное отклонение: 27843.53\n",
      "Среднее значение просмотров: 15843.01\n",
      "Медиана просмотров: 5602.0\n"
     ]
    }
   ],
   "source": [
    "# Поиск аномалий в данных\n",
    "sns.boxplot(\n",
    "    data=week_2['total_dur'].values,\n",
    "    fliersize=3,\n",
    "    width=0.5\n",
    ")\n",
    "\n",
    "plt.title('Распределение просмотров (total_dur)', fontsize=16)\n",
    "plt.xlabel('Просмотры в секундах', fontsize=12)\n",
    "plt.show()\n",
    "\n",
    "# Статистическая информация о данных\n",
    "print('Максимальное значение просмотров (в секундах):', week_2['total_dur'].max())\n",
    "print('Стандартное отклонение:', round(week_2['total_dur'].std(), 2))\n",
    "print('Среднее значение просмотров:', round(week_2['total_dur'].mean(), 2))\n",
    "print('Медиана просмотров:', round(week_2['total_dur'].median(), 2))"
   ]
  },
  {
   "cell_type": "markdown",
   "id": "1b1a1774",
   "metadata": {},
   "source": [
    "### 1.2 Корректность на бутстрепе \n",
    "<details>\n",
    "  <summary>📝 Формулировка задания </summary>\n",
    "\n",
    "2. Посчитайте на этих данных **корректность на бутстрепе** и сравните её с результатами за 1 неделю (посчитано на семинаре).  \n",
    "   **(2 балла)**\n",
    "\n",
    "</details>"
   ]
  },
  {
   "cell_type": "code",
   "execution_count": 12,
   "id": "c4ac91f4",
   "metadata": {},
   "outputs": [],
   "source": [
    "# Инициализация кэша\n",
    "memory = Memory('./cache', verbose=0)\n",
    "\n",
    "def calculate_iteration(week):\n",
    "    \"\"\"\n",
    "    Выполняет одну итерацию расчёта и возвращает correctness и diff.\n",
    "    \"\"\"\n",
    "    new_df = groups_splitter(week.copy(), columns=['user_id', 'total_dur', 'group'], user_salt=salt_generator()).drop_duplicates()\n",
    "\n",
    "    vec_a = new_df[new_df['group'] == 'A']['total_dur']\n",
    "    vec_b = new_df[new_df['group'] == 'B']['total_dur']\n",
    "\n",
    "    # Bootstrap\n",
    "    sample_a_mean = calc_bootstrap_mean(vec_a, size=1000)\n",
    "    sample_b_mean = calc_bootstrap_mean(vec_b, size=1000)\n",
    "    diff = sample_a_mean - sample_b_mean\n",
    "\n",
    "    left_side, right_side = np.percentile(diff, [100 * 0.05 / 2., 100 * (1 - 0.05 / 2.)]) # считаем 95% доверительный интервал для разницы средних\n",
    "    correctness = not (left_side <= 0 <= right_side)\n",
    "\n",
    "    return correctness, diff\n",
    "\n",
    "@memory.cache\n",
    "def calculate_all_iterations_parallel(week, iterations, n_jobs=-1):\n",
    "    \"\"\"\n",
    "    Выполняет итерации с использованием параллельных вычислений.\n",
    "    \"\"\"\n",
    "    results = Parallel(n_jobs=n_jobs)(\n",
    "        delayed(calculate_iteration)(week) for _ in range(iterations)\n",
    "    )\n",
    "    correctness_res, values_res = zip(*results)  # Разделяем результаты на два списка\n",
    "    return list(correctness_res), list(values_res)\n",
    "\n",
    "def calculate_correctness_with_cache(data_id, week, iterations=100, n_jobs=-1):\n",
    "    \"\"\"\n",
    "    Рассчитывает корректность и разности средних с параллельным выполнением и кэшированием.\n",
    "    \"\"\"\n",
    "    correctness, values = calculate_all_iterations_parallel(week, iterations, n_jobs=n_jobs)\n",
    "\n",
    "    test_correctness = collections.Counter(correctness)\n",
    "    res = test_correctness[1] / (test_correctness[1] + test_correctness[0]) * 100\n",
    "\n",
    "    print(f\"Корректность для {data_id}: {res}%\")\n",
    "    return res, values"
   ]
  },
  {
   "cell_type": "code",
   "execution_count": 13,
   "id": "65978016",
   "metadata": {},
   "outputs": [],
   "source": [
    "# Данные по 1 неделе\n",
    "week = interactions[(interactions['last_watch_dt'] >= start_date) & (interactions['last_watch_dt'] <= mid_date)]\n",
    "week = week.groupby('user_id', as_index=False).agg({'total_dur': 'sum'})\n",
    "week = week[(week['total_dur'] < week['total_dur'].std() * 3)]"
   ]
  },
  {
   "cell_type": "code",
   "execution_count": 14,
   "id": "60f101db",
   "metadata": {},
   "outputs": [
    {
     "data": {
      "text/html": [
       "<div>\n",
       "<style scoped>\n",
       "    .dataframe tbody tr th:only-of-type {\n",
       "        vertical-align: middle;\n",
       "    }\n",
       "\n",
       "    .dataframe tbody tr th {\n",
       "        vertical-align: top;\n",
       "    }\n",
       "\n",
       "    .dataframe thead th {\n",
       "        text-align: right;\n",
       "    }\n",
       "</style>\n",
       "<table border=\"1\" class=\"dataframe\">\n",
       "  <thead>\n",
       "    <tr style=\"text-align: right;\">\n",
       "      <th></th>\n",
       "      <th>user_id</th>\n",
       "      <th>total_dur</th>\n",
       "    </tr>\n",
       "  </thead>\n",
       "  <tbody>\n",
       "    <tr>\n",
       "      <th>0</th>\n",
       "      <td>1</td>\n",
       "      <td>19579</td>\n",
       "    </tr>\n",
       "    <tr>\n",
       "      <th>1</th>\n",
       "      <td>1000</td>\n",
       "      <td>10744</td>\n",
       "    </tr>\n",
       "    <tr>\n",
       "      <th>2</th>\n",
       "      <td>1000000</td>\n",
       "      <td>32990</td>\n",
       "    </tr>\n",
       "    <tr>\n",
       "      <th>3</th>\n",
       "      <td>1000009</td>\n",
       "      <td>1385</td>\n",
       "    </tr>\n",
       "    <tr>\n",
       "      <th>4</th>\n",
       "      <td>100001</td>\n",
       "      <td>65440</td>\n",
       "    </tr>\n",
       "    <tr>\n",
       "      <th>...</th>\n",
       "      <td>...</td>\n",
       "      <td>...</td>\n",
       "    </tr>\n",
       "    <tr>\n",
       "      <th>160789</th>\n",
       "      <td>999977</td>\n",
       "      <td>4570</td>\n",
       "    </tr>\n",
       "    <tr>\n",
       "      <th>160790</th>\n",
       "      <td>999978</td>\n",
       "      <td>482</td>\n",
       "    </tr>\n",
       "    <tr>\n",
       "      <th>160791</th>\n",
       "      <td>999989</td>\n",
       "      <td>4563</td>\n",
       "    </tr>\n",
       "    <tr>\n",
       "      <th>160792</th>\n",
       "      <td>999990</td>\n",
       "      <td>997</td>\n",
       "    </tr>\n",
       "    <tr>\n",
       "      <th>160793</th>\n",
       "      <td>999993</td>\n",
       "      <td>17190</td>\n",
       "    </tr>\n",
       "  </tbody>\n",
       "</table>\n",
       "<p>159143 rows × 2 columns</p>\n",
       "</div>"
      ],
      "text/plain": [
       "        user_id  total_dur\n",
       "0             1      19579\n",
       "1          1000      10744\n",
       "2       1000000      32990\n",
       "3       1000009       1385\n",
       "4        100001      65440\n",
       "...         ...        ...\n",
       "160789   999977       4570\n",
       "160790   999978        482\n",
       "160791   999989       4563\n",
       "160792   999990        997\n",
       "160793   999993      17190\n",
       "\n",
       "[159143 rows x 2 columns]"
      ]
     },
     "execution_count": 14,
     "metadata": {},
     "output_type": "execute_result"
    }
   ],
   "source": [
    "week"
   ]
  },
  {
   "cell_type": "code",
   "execution_count": 15,
   "id": "c1a71017",
   "metadata": {},
   "outputs": [
    {
     "name": "stdout",
     "output_type": "stream",
     "text": [
      "Корректность для week_1: 5.1%\n"
     ]
    }
   ],
   "source": [
    "# Пример вызова для одной недели\n",
    "res_week, diffs_week = calculate_correctness_with_cache(\n",
    "        data_id=\"week_1\",\n",
    "        week=week,\n",
    "        iterations=1000,    # Увеличиваем количество итераций до 1000\n",
    "        n_jobs=-1           # Используем все доступные ядра\n",
    ")"
   ]
  },
  {
   "cell_type": "code",
   "execution_count": 16,
   "id": "874d0bcf",
   "metadata": {},
   "outputs": [
    {
     "name": "stderr",
     "output_type": "stream",
     "text": [
      "/Users/anastasia/docs/ITMO/AB/.venv/lib/python3.10/site-packages/joblib/externals/loky/process_executor.py:752: UserWarning: A worker stopped while some jobs were given to the executor. This can be caused by a too short worker timeout or by a memory leak.\n",
      "  warnings.warn(\n"
     ]
    },
    {
     "name": "stdout",
     "output_type": "stream",
     "text": [
      "Корректность для week_2: 4.8%\n"
     ]
    }
   ],
   "source": [
    "# Пример вызова для двух недель\n",
    "res_week_2, diffs_week_2 = calculate_correctness_with_cache(\n",
    "        data_id=\"week_2\",\n",
    "        week=week_2,\n",
    "        iterations=1000, \n",
    "        n_jobs=-1           \n",
    ")"
   ]
  },
  {
   "cell_type": "code",
   "execution_count": 17,
   "id": "31785a7b",
   "metadata": {},
   "outputs": [
    {
     "data": {
      "image/png": "[encoded data removed]",
      "text/plain": [
       "<Figure size 1600x600 with 2 Axes>"
      ]
     },
     "metadata": {},
     "output_type": "display_data"
    }
   ],
   "source": [
    "# Визуализация сравнения\n",
    "\n",
    "# Данные для графиков\n",
    "p_values_1 = [get_p_value(dist) for dist in diffs_week]\n",
    "p_values_2 = [get_p_value(dist) for dist in diffs_week_2]\n",
    "\n",
    "# Создание общего полотна\n",
    "fig, axes = plt.subplots(1, 2, figsize=(16, 6), sharey=True)\n",
    "\n",
    "# График для 1 недели\n",
    "axes[0].hist(p_values_1, bins=10, color='purple', edgecolor='black', alpha=0.7)\n",
    "axes[0].set_title(\"Бутстреп распределение p_value для одной недели\", fontsize=16, fontweight='bold')\n",
    "axes[0].set_xlabel(\"P-value\", fontsize=14)\n",
    "axes[0].set_ylabel(\"Частота\", fontsize=14)\n",
    "axes[0].grid(axis='y', linestyle='--', alpha=0.7)\n",
    "axes[0].text(0.7, max(axes[0].get_ylim()) * 0.9, f\"Корректность {res_week}%\", fontsize=12, color='black', \n",
    "             bbox=dict(facecolor='white', edgecolor='black', alpha=0.7))\n",
    "\n",
    "# График для 2 недель\n",
    "axes[1].hist(p_values_2, bins=10, color='purple', edgecolor='black', alpha=0.7)\n",
    "axes[1].set_title(\"Бутстреп распределение p_value для двух недель\", fontsize=16, fontweight='bold')\n",
    "axes[1].set_xlabel(\"P-value\", fontsize=14)\n",
    "axes[1].grid(axis='y', linestyle='--', alpha=0.7)\n",
    "axes[1].text(0.7, max(axes[1].get_ylim()) * 0.9, f\"Корректность {res_week_2}%\", fontsize=12, color='black', \n",
    "             bbox=dict(facecolor='white', edgecolor='black', alpha=0.7))\n",
    "\n",
    "plt.tight_layout()\n",
    "plt.show()"
   ]
  },
  {
   "cell_type": "markdown",
   "id": "b01f689c",
   "metadata": {},
   "source": [
    "<details>\n",
    "  <summary> Вывод по сравнению корректности  </summary>\n",
    "\n",
    "- Показатели корректности  находятся в пределах ожидаемых отклонений от уровня alpha. \n",
    "- В случае двух недель корректность меньше и  ближе к 5%. Учитывая, что был проведен A/A тест - это хорошо.\n",
    "\n",
    "</details>"
   ]
  },
  {
   "cell_type": "markdown",
   "id": "8221a201",
   "metadata": {},
   "source": [
    "### 1.3 Мощность с эффектом **1%**, **3%** и **5%**\n",
    "<details>\n",
    "  <summary>📝 Формулировка задания </summary>\n",
    "\n",
    "3. На двух неделях посчитайте **мощность**. Для этого нужно в одну из групп докинуть эффект:  \n",
    "   - Докиньте эффект в **1%**, **3%** и **5%**.  \n",
    "   - Сравните полученную мощность.  \n",
    "   **(3 балла за расчет + 2 балла за подробное объяснение)**.\n",
    "\n",
    "</details>\n"
   ]
  },
  {
   "cell_type": "code",
   "execution_count": 19,
   "id": "8a4fc773",
   "metadata": {},
   "outputs": [],
   "source": [
    "def calculate_power_iteration(week, effect_size):\n",
    "    \"\"\"\n",
    "    Выполняет одну итерацию расчёта мощности с указанным эффектом.\n",
    "    \"\"\"\n",
    "    new_df = groups_splitter(week.copy(), columns=['user_id', 'total_dur', 'group'], user_salt=salt_generator()).drop_duplicates()\n",
    "\n",
    "    vec_a = new_df[new_df['group'] == 'A']['total_dur']\n",
    "    vec_b = new_df[new_df['group'] == 'B']['total_dur'] * (1 + effect_size)  # Добавляем эффект\n",
    "\n",
    "    # Bootstrap\n",
    "    sample_a_mean = calc_bootstrap_mean(vec_a, size=1000)\n",
    "    sample_b_mean = calc_bootstrap_mean(vec_b, size=1000)\n",
    "    diff = sample_a_mean - sample_b_mean\n",
    "\n",
    "    left_side, right_side = np.percentile(diff, [100 * 0.05 / 2., 100 * (1 - 0.05 / 2.)])  # 95% доверительный интервал\n",
    "    is_significant = not (left_side <= 0 <= right_side)\n",
    "\n",
    "    return is_significant, diff\n",
    "\n",
    "@memory.cache\n",
    "def calculate_power_parallel(week, effect_size, iterations, n_jobs=-1):\n",
    "    \"\"\"\n",
    "    Выполняет итерации с использованием параллельных вычислений.\n",
    "    \"\"\"\n",
    "    results = Parallel(n_jobs=n_jobs)(\n",
    "        delayed(calculate_power_iteration)(week, effect_size) for _ in range(iterations)\n",
    "    )\n",
    "    power_results, values_results = zip(*results)  # Разделяем результаты на два списка\n",
    "    return list(power_results), list(values_results)\n",
    "\n",
    "def calculate_power_with_cache(week, effect_size, iterations=1000, n_jobs=-1):\n",
    "    \"\"\"\n",
    "    Рассчитывает мощность теста с параллельным выполнением и кэшированием.\n",
    "    \"\"\"\n",
    "    power_results, values = calculate_power_parallel(week, effect_size, iterations, n_jobs=n_jobs)\n",
    "\n",
    "    test_power = collections.Counter(power_results)\n",
    "    power = test_power[1] / (test_power[1] + test_power[0]) * 100\n",
    "\n",
    "    print(f\"Мощность при эффекте {effect_size * 100}%: {power}%\")\n",
    "    return power, values"
   ]
  },
  {
   "cell_type": "code",
   "execution_count": 20,
   "id": "c6bf4288",
   "metadata": {},
   "outputs": [
    {
     "name": "stderr",
     "output_type": "stream",
     "text": [
      "/Users/anastasia/docs/ITMO/AB/.venv/lib/python3.10/site-packages/joblib/externals/loky/process_executor.py:752: UserWarning: A worker stopped while some jobs were given to the executor. This can be caused by a too short worker timeout or by a memory leak.\n",
      "  warnings.warn(\n"
     ]
    },
    {
     "name": "stdout",
     "output_type": "stream",
     "text": [
      "Мощность при эффекте 1.0%: 28.7%\n"
     ]
    }
   ],
   "source": [
    "# Пример запуска для расщета мошности на разных эффектах\n",
    "# Эффект 1%\n",
    "power_1, diffs_1 = calculate_power_with_cache(\n",
    "    week=week_2,\n",
    "    effect_size=0.01,   # Эффект в 1%\n",
    "    iterations=1000,    # Количество итераций\n",
    "    n_jobs=8            # Количество ядер\n",
    ")"
   ]
  },
  {
   "cell_type": "code",
   "execution_count": 21,
   "id": "9f98eebd",
   "metadata": {},
   "outputs": [
    {
     "name": "stdout",
     "output_type": "stream",
     "text": [
      "Мощность при эффекте 3.0%: 99.5%\n"
     ]
    }
   ],
   "source": [
    "# Эффект 3%\n",
    "power_3, diffs_3 = calculate_power_with_cache(\n",
    "    week=week_2,\n",
    "    effect_size=0.03,   # Эффект в 3%\n",
    "    iterations=1000,    # Количество итераций\n",
    "    n_jobs=8            # Количество ядер\n",
    ")"
   ]
  },
  {
   "cell_type": "code",
   "execution_count": 22,
   "id": "5afdda97",
   "metadata": {},
   "outputs": [
    {
     "name": "stdout",
     "output_type": "stream",
     "text": [
      "Мощность при эффекте 5.0%: 100.0%\n"
     ]
    }
   ],
   "source": [
    "# Эффект 5%\n",
    "power_5, diffs_5 = calculate_power_with_cache(\n",
    "    week=week_2,\n",
    "    effect_size=0.05,   # Эффект в 5%\n",
    "    iterations=1000,    # Количество итераций\n",
    "    n_jobs=8            # Количество ядер\n",
    ")"
   ]
  },
  {
   "cell_type": "code",
   "execution_count": 23,
   "id": "778774bf",
   "metadata": {},
   "outputs": [
    {
     "data": {
      "text/markdown": [
       "\n",
       "<details>\n",
       "  <summary> Вывод  </summary>\n",
       "  \n",
       "При эффекте 1% - Мощность составила 28.7%.\n",
       "- Низкая мощность теста при таком небольшом эффекте свидетельствует о том, что тест в большинстве случаев не сможет выявить изменения этой величины. Это указывает на недостаточную чувствительность текущей выборки для обнаружения слабых эффектов.     \n",
       "\n",
       "При эффекте 3% - Мощность составила 99.5%.\n",
       "- Значительное увеличение мощности при эффекте 3% означает, что тест практически всегда фиксирует такие изменения. Это демонстрирует, что текущая выборка данных обладает достаточной чувствительностью для выявления умеренных эффектов.\n",
       "\n",
       "При эффекте 5% - Мощность составила 100.0%.\n",
       "- Максимально возможное значение мощности. При таком эффекте вероятность ошибки второго рода практически отсутствует.\n",
       "\n",
       "</details>\n"
      ],
      "text/plain": [
       "<IPython.core.display.Markdown object>"
      ]
     },
     "metadata": {},
     "output_type": "display_data"
    }
   ],
   "source": [
    "md_content = f\"\"\"\n",
    "<details>\n",
    "  <summary> Вывод  </summary>\n",
    "  \n",
    "При эффекте 1% - Мощность составила {power_1}%.\n",
    "- Низкая мощность теста при таком небольшом эффекте свидетельствует о том, что тест в большинстве случаев не сможет выявить изменения этой величины. Это указывает на недостаточную чувствительность текущей выборки для обнаружения слабых эффектов.     \n",
    "\n",
    "При эффекте 3% - Мощность составила {power_3}%.\n",
    "- Значительное увеличение мощности при эффекте 3% означает, что тест практически всегда фиксирует такие изменения. Это демонстрирует, что текущая выборка данных обладает достаточной чувствительностью для выявления умеренных эффектов.\n",
    "\n",
    "При эффекте 5% - Мощность составила {power_5}%.\n",
    "- Максимально возможное значение мощности. При таком эффекте вероятность ошибки второго рода практически отсутствует.\n",
    "\n",
    "</details>\n",
    "\"\"\"\n",
    "display(Markdown(md_content))"
   ]
  },
  {
   "cell_type": "markdown",
   "id": "80ef6d0a",
   "metadata": {},
   "source": [
    "### MDE\n",
    "<details>\n",
    "  <summary>📝 Формулировка задания </summary>\n",
    "\n",
    "4. Посчитайте **MDE** (минимальный детектируемый эффект), который можно зафиксировать на 2-х неделях.  \n",
    "   - В качестве **alpha** и **beta** подставьте ваши вычисленные ошибки 1 и 2 рода.  \n",
    "   - Учитывайте, что у нас формула для MDE работает для **t-test** или **z-test**.  \n",
    "   **(3 балла)**.\n",
    "</details>"
   ]
  },
  {
   "cell_type": "code",
   "execution_count": 24,
   "id": "3d93a598",
   "metadata": {},
   "outputs": [
    {
     "name": "stdout",
     "output_type": "stream",
     "text": [
      "MDE (alpha = 0.048, beta = 0.713): 0.4851723395904514\n",
      "MDE (alpha = 0.048, beta = 0.005): 1.5609726582062105\n",
      "MDE (alpha = 0.048, beta = 0.0): inf\n",
      "____________________________________________________________\n",
      "MDE (alpha = 0.05, beta = 0.1): 1.1112886904889456\n",
      "MDE (alpha = 0.05, beta = 0.2): 0.9604673863892587\n",
      "MDE (alpha = 0.05, beta = 0.3): 0.8517146150269004\n"
     ]
    }
   ],
   "source": [
    "# Функция MDE\n",
    "def get_mde(metric_vec, alpha=0.05, beta=0.2):\n",
    "\n",
    "    metric_mean, metric_std, metric_n = metric_vec.mean(), metric_vec.std(), metric_vec.count()\n",
    "\n",
    "    z_alpha = norm.ppf(1 - (alpha / 2), loc=0, scale=1)\n",
    "    z_beta = norm.ppf(1 - beta, loc=0, scale=1)\n",
    "\n",
    "    mde = (z_alpha + z_beta)*metric_std / np.sqrt(metric_n)\n",
    "\n",
    "    return mde*100/metric_mean\n",
    "\n",
    "# Вариант 1. подставление, полученных альфа и бета = (1 - мощность)\n",
    "# в обсуждениях писали, что для бутстрепа такой вариант не подходит (поэтому Вариант 2.)\n",
    "print(f'MDE (alpha = {res_week_2/100}, beta = {round(1-power_1/100, 3)}): {get_mde(week_2[\"total_dur\"], alpha=res_week_2/100, beta=(round(1-power_1/100, 3)))}')\n",
    "print(f'MDE (alpha = {res_week_2/100}, beta = {round(1-power_3/100, 3)}): {get_mde(week_2[\"total_dur\"], alpha=res_week_2/100, beta=(round(1-power_3/100, 3)))}')\n",
    "print(f'MDE (alpha = {res_week_2/100}, beta = {round(1-power_5/100, 3)}): {get_mde(week_2[\"total_dur\"], alpha=res_week_2/100, beta=(round(1-power_5/100, 3)))}')\n",
    "\n",
    "print('_' * 60)\n",
    "\n",
    "# Вариант 2. Фиксированные значения\n",
    "print(f'MDE (alpha = 0.05, beta = 0.1): {get_mde(week_2[\"total_dur\"], alpha=0.05, beta=0.1)}')\n",
    "print(f'MDE (alpha = 0.05, beta = 0.2): {get_mde(week_2[\"total_dur\"], alpha=0.05, beta=0.2)}')\n",
    "print(f'MDE (alpha = 0.05, beta = 0.3): {get_mde(week_2[\"total_dur\"], alpha=0.05, beta=0.3)}')"
   ]
  },
  {
   "cell_type": "markdown",
   "id": "9531f650",
   "metadata": {},
   "source": [
    "<details>\n",
    "  <summary>Вывод по варианту 2</summary>\n",
    "\n",
    "Тест способен обнаружить изменения метрики, превышающие **1%**. \n",
    "\n",
    "- При уменьшении мощности теста (1-beta) MDE снижается:\n",
    "  - 1.11% при beta=0.1,\n",
    "  - 0.96% при beta=0.2,\n",
    "  - 0.85% при beta=0.3.\n",
    "\n",
    "Это показывает, что тест становится более чувствительным при меньшей мощности, но вероятность пропуска эффекта увеличивается. Текущий тест подходит для выявления эффектов средней и высокой величины (> 1%).\n",
    "</details>"
   ]
  },
  {
   "cell_type": "markdown",
   "id": "895929ad",
   "metadata": {},
   "source": [
    "## 🔍 Блок 2: Дизайн продолжение\n",
    "\n",
    "<details>\n",
    "  <summary>📝 Формулировка задания</summary>\n",
    "\n",
    "1. Рассчитать **аналогичный дизайн** для следующих комбинаций:  \n",
    "   - **Бутстреп** + логарифмированная метрика длительности просмотров (**4 балла**).  \n",
    "   - **Манна-Уитни** + метрика длительности просмотров (**4 балла**).  \n",
    "   - **Манна-Уитни** + логарифмированная метрика длительности просмотров (**4 балла**).  \n",
    "   - **t-test** + метрика длительности просмотров (**4 балла**).  \n",
    "   - **t-test** + логарифмированная метрика длительности просмотров (**4 балла**).  \n",
    "\n",
    "2. Подробно **описать выводы** для каждой пары:  \n",
    "   - Какие варианты **точно не подходят** и почему?  \n",
    "   - Объяснить, зачем **логарифмируем метрику** и какую пользу это даёт.  \n",
    "   - Аргументированно выбрать **одну пару (метрика + критерий)**, которая будет использоваться для оценки A/B теста, а также объяснить, **какой эффект** можно будет отловить в этом тесте.  \n",
    "   **(5 баллов)**\n",
    "\n",
    "</details>"
   ]
  },
  {
   "cell_type": "markdown",
   "id": "e5c78b9d",
   "metadata": {},
   "source": [
    "### Анализ предложенных дизайнов для А/Б теста\n",
    "\n",
    "Рассмотрим каждую из комбинаций метрик и критериев для оценки длительности просмотров.\n",
    "\n",
    "#### **1. Бутстреп + логарифмированная метрика длительности просмотров**\n",
    "- **Выводы**: \n",
    "  Бутстреп хорошо подходит для анализа логарифмированной метрики, так как он не требует нормальности распределения. Логарифмирование уменьшает влияние выбросов, сглаживает длинные хвосты и делает распределение ближе к нормальному, что улучшает интерпретируемость результатов.\n",
    "- **Плюсы**:\n",
    "  - Работает с ненормальными распределениями.\n",
    "  - Устойчив к выбросам.\n",
    "  - Позволяет оценить доверительные интервалы для разницы между группами.\n",
    "- **Минусы**:\n",
    "  - Вычислительно затратен при большом объеме данных.\n",
    "  - Требует настройки количества итераций.\n",
    "- **Особенности**: Подходит для данных с сильной асимметрией и длинными хвостами.\n",
    "\n",
    "\n",
    "#### **2. Манна-Уитни + метрика длительности просмотров**\n",
    "- **Выводы**: \n",
    "  Непараметрический критерий Манна-Уитни сравнивает ранги, а не сами значения, что делает его устойчивым к выбросам и подходящим для исходной метрики с асимметричным распределением.\n",
    "- **Плюсы**:\n",
    "  - Не требует нормальности распределения.\n",
    "  - Устойчив к выбросам.\n",
    "- **Минусы**:\n",
    "  - Менее мощный, чем параметрические тесты при нормальном распределении.\n",
    "  - Потеря информации из-за использования рангов вместо значений.\n",
    "- **Особенности**: Лучше использовать, если распределение данных сильно отличается от нормального.\n",
    "\n",
    "\n",
    "#### **3. Манна-Уитни + логарифмированная метрика длительности просмотров**\n",
    "- **Выводы**:\n",
    "  Логарифмирование делает распределение более симметричным, что улучшает применение Манна-Уитни. Однако критерий по-прежнему сравнивает ранги, что может усложнить интерпретацию.\n",
    "- **Плюсы**:\n",
    "  - Работает с ненормальными распределениями.\n",
    "  - Уменьшает влияние выбросов.\n",
    "- **Минусы**:\n",
    "  - Интерпретация результатов усложняется из-за логарифмирования.\n",
    "  - Потеря информации из-за рангов.\n",
    "- **Особенности**: Полезен для данных с выбросами, где важно уменьшить влияние аномальных значений.\n",
    "\n",
    "\n",
    "#### **4. T-test + метрика длительности просмотров**\n",
    "- **Выводы**: \n",
    "  T-test эффективен для нормальных распределений, но исходная метрика (длительность просмотров) обычно имеет длинный правый хвост, что нарушает его предположения.\n",
    "- **Плюсы**:\n",
    "  - Мощный тест при выполнении предположений.\n",
    "  - Легкая интерпретация результатов.\n",
    "- **Минусы**:\n",
    "  - Требует нормальности распределения.\n",
    "  - Чувствителен к выбросам.\n",
    "- **Особенности**: Используется только при условии, что данные нормально распределены.\n",
    "\n",
    "\n",
    "#### **5. T-test + логарифмированная метрика длительности просмотров**\n",
    "- **Выводы**: \n",
    "  Логарифмирование может устранить длинные хвосты и привести распределение к нормальному, что делает применение t-test обоснованным.\n",
    "- **Плюсы**:\n",
    "  - Логарифмирование помогает выполнить предположения t-test.\n",
    "  - Мощный тест при нормализованных данных.\n",
    "- **Минусы**:\n",
    "  - Интерпретация логарифмированных результатов сложнее.\n",
    "  - Даже после логарифмирования распределение может оставаться неидеальным.\n",
    "- **Особенности**: Подходит для метрик с распределением, близким к нормальному после логарифмирования.\n",
    "\n",
    "\n",
    "### Зачем логарифмировать метрику?\n",
    "- **Сглаживание выбросов**: Логарифмирование уменьшает влияние аномальных значений (например, супер большая длина просмотров total_dir), которые могут искажать результаты.\n",
    "- **Уменьшение асимметрии**: Длинные хвосты распределения становятся короче, и данные становятся более симметричными.\n",
    "- **Приближение к нормальному распределению**: Это важно для параметрических тестов, таких как t-test, которые требуют нормальности распределения.\n",
    "\n",
    "\n",
    "### Вывод:\n",
    "Для текущих данных, содержащих длительность просмотров с длинным хвостом и выбросами, наименее подходящим является **T-test + метрика длительности просмотров**. Это связано с тем, что данный тест требует нормального распределения данных, а исходная метрика имеет сильную асимметрию (слева) и выбросы, которые нарушают эти предположения. Кроме того, T-test чувствителен к выбросам, что делает его менее надежным в таких условиях.\n",
    "\n",
    "Что касается остальных вариантов, то необходимо смотреть на результаты. Предположительно хорошо проявит себя **1. Бутстреп + логарифмированная метрика длительности просмотров**"
   ]
  },
  {
   "cell_type": "markdown",
   "id": "9a967d98",
   "metadata": {},
   "source": [
    "### 2.1 Рассчет корректности для каждой комбинации\n",
    "<details>\n",
    "  <summary>Комбинации</summary>\n",
    "\n",
    "   - **Бутстреп** + логарифмированная метрика длительности просмотров\n",
    "   - **Манна-Уитни** + метрика длительности просмотров \n",
    "   - **Манна-Уитни** + логарифмированная метрика длительности просмотров \n",
    "   - **t-test** + метрика длительности просмотров \n",
    "   - **t-test** + логарифмированная метрика длительности просмотров \n",
    "</details>"
   ]
  },
  {
   "cell_type": "code",
   "execution_count": 25,
   "id": "2d606daf",
   "metadata": {},
   "outputs": [
    {
     "data": {
      "text/html": [
       "<div>\n",
       "<style scoped>\n",
       "    .dataframe tbody tr th:only-of-type {\n",
       "        vertical-align: middle;\n",
       "    }\n",
       "\n",
       "    .dataframe tbody tr th {\n",
       "        vertical-align: top;\n",
       "    }\n",
       "\n",
       "    .dataframe thead th {\n",
       "        text-align: right;\n",
       "    }\n",
       "</style>\n",
       "<table border=\"1\" class=\"dataframe\">\n",
       "  <thead>\n",
       "    <tr style=\"text-align: right;\">\n",
       "      <th></th>\n",
       "      <th>user_id</th>\n",
       "      <th>total_dur</th>\n",
       "      <th>total_dur_log</th>\n",
       "    </tr>\n",
       "  </thead>\n",
       "  <tbody>\n",
       "    <tr>\n",
       "      <th>0</th>\n",
       "      <td>1</td>\n",
       "      <td>21172</td>\n",
       "      <td>9.960482</td>\n",
       "    </tr>\n",
       "    <tr>\n",
       "      <th>1</th>\n",
       "      <td>1000</td>\n",
       "      <td>10744</td>\n",
       "      <td>9.282196</td>\n",
       "    </tr>\n",
       "    <tr>\n",
       "      <th>2</th>\n",
       "      <td>1000000</td>\n",
       "      <td>32990</td>\n",
       "      <td>10.403990</td>\n",
       "    </tr>\n",
       "    <tr>\n",
       "      <th>3</th>\n",
       "      <td>1000001</td>\n",
       "      <td>52</td>\n",
       "      <td>3.970292</td>\n",
       "    </tr>\n",
       "    <tr>\n",
       "      <th>4</th>\n",
       "      <td>1000003</td>\n",
       "      <td>625</td>\n",
       "      <td>6.439350</td>\n",
       "    </tr>\n",
       "  </tbody>\n",
       "</table>\n",
       "</div>"
      ],
      "text/plain": [
       "   user_id  total_dur  total_dur_log\n",
       "0        1      21172       9.960482\n",
       "1     1000      10744       9.282196\n",
       "2  1000000      32990      10.403990\n",
       "3  1000001         52       3.970292\n",
       "4  1000003        625       6.439350"
      ]
     },
     "metadata": {},
     "output_type": "display_data"
    }
   ],
   "source": [
    "# возьмем исходные данные (обзовем weeks_design ранее было week_2)\n",
    "weeks_design = interactions[(interactions['last_watch_dt'] >= start_date) & (interactions['last_watch_dt'] <= end_date)]\n",
    "weeks_design = weeks_design.groupby('user_id', as_index=False).agg({'total_dur': 'sum'})\n",
    "\n",
    "# добавим логарифмирование как новый столбец в датасет\n",
    "weeks_design['total_dur_log'] = np.log(1 + weeks_design['total_dur'])\n",
    "display(weeks_design.head(5))"
   ]
  },
  {
   "cell_type": "code",
   "execution_count": 26,
   "id": "fce1d954",
   "metadata": {},
   "outputs": [
    {
     "data": {
      "image/png": "[encoded data removed]",
      "text/plain": [
       "<Figure size 1400x600 with 2 Axes>"
      ]
     },
     "metadata": {},
     "output_type": "display_data"
    }
   ],
   "source": [
    "fig, axs = plt.subplots(1, 2, figsize=(14, 6), dpi=100)\n",
    "\n",
    "# Оригинальная метрика\n",
    "axs[0].hist(week_2['total_dur'], bins=100, color='skyblue', edgecolor='black', alpha=0.8)\n",
    "axs[0].set_title(\"Оригинальная метрика: total_dur\", fontsize=14, fontweight='bold')\n",
    "axs[0].set_ylim([0, 50000])\n",
    "axs[0].set_xlabel(\"total_dur\", fontsize=12)\n",
    "axs[0].set_ylabel(\"Частота\", fontsize=12)\n",
    "axs[0].grid(visible=True, linestyle='--', linewidth=0.5, alpha=0.7)\n",
    "\n",
    "# Логарифмированная метрика\n",
    "axs[1].hist(weeks_design['total_dur_log'], bins=100, color='lightgreen', edgecolor='black', alpha=0.8)\n",
    "axs[1].set_title(\"Логарифмированная метрика: total_dur_log\", fontsize=14, fontweight='bold')\n",
    "axs[1].set_ylim([0, 50000])\n",
    "axs[1].set_xlabel(\"log(total_dur)\", fontsize=12)\n",
    "axs[1].grid(visible=True, linestyle='--', linewidth=0.5, alpha=0.7)\n",
    "\n",
    "# Общая настройка\n",
    "plt.suptitle(\"Сравнение распределений метрик\", fontsize=16, fontweight='bold')\n",
    "plt.tight_layout(rect=[0, 0, 1, 0.95]) \n",
    "plt.show()"
   ]
  },
  {
   "cell_type": "code",
   "execution_count": 29,
   "id": "75587800",
   "metadata": {},
   "outputs": [
    {
     "data": {
      "text/html": [
       "<div>\n",
       "<style scoped>\n",
       "    .dataframe tbody tr th:only-of-type {\n",
       "        vertical-align: middle;\n",
       "    }\n",
       "\n",
       "    .dataframe tbody tr th {\n",
       "        vertical-align: top;\n",
       "    }\n",
       "\n",
       "    .dataframe thead th {\n",
       "        text-align: right;\n",
       "    }\n",
       "</style>\n",
       "<table border=\"1\" class=\"dataframe\">\n",
       "  <thead>\n",
       "    <tr style=\"text-align: right;\">\n",
       "      <th></th>\n",
       "      <th>user_id</th>\n",
       "      <th>total_dur</th>\n",
       "    </tr>\n",
       "  </thead>\n",
       "  <tbody>\n",
       "    <tr>\n",
       "      <th>0</th>\n",
       "      <td>1</td>\n",
       "      <td>9.960482</td>\n",
       "    </tr>\n",
       "    <tr>\n",
       "      <th>1</th>\n",
       "      <td>1000</td>\n",
       "      <td>9.282196</td>\n",
       "    </tr>\n",
       "    <tr>\n",
       "      <th>2</th>\n",
       "      <td>1000000</td>\n",
       "      <td>10.403990</td>\n",
       "    </tr>\n",
       "    <tr>\n",
       "      <th>3</th>\n",
       "      <td>1000001</td>\n",
       "      <td>3.970292</td>\n",
       "    </tr>\n",
       "    <tr>\n",
       "      <th>4</th>\n",
       "      <td>1000003</td>\n",
       "      <td>6.439350</td>\n",
       "    </tr>\n",
       "    <tr>\n",
       "      <th>...</th>\n",
       "      <td>...</td>\n",
       "      <td>...</td>\n",
       "    </tr>\n",
       "    <tr>\n",
       "      <th>266076</th>\n",
       "      <td>999978</td>\n",
       "      <td>9.321255</td>\n",
       "    </tr>\n",
       "    <tr>\n",
       "      <th>266077</th>\n",
       "      <td>999987</td>\n",
       "      <td>10.235988</td>\n",
       "    </tr>\n",
       "    <tr>\n",
       "      <th>266078</th>\n",
       "      <td>999989</td>\n",
       "      <td>8.425955</td>\n",
       "    </tr>\n",
       "    <tr>\n",
       "      <th>266079</th>\n",
       "      <td>999990</td>\n",
       "      <td>6.905753</td>\n",
       "    </tr>\n",
       "    <tr>\n",
       "      <th>266080</th>\n",
       "      <td>999993</td>\n",
       "      <td>9.754349</td>\n",
       "    </tr>\n",
       "  </tbody>\n",
       "</table>\n",
       "<p>266081 rows × 2 columns</p>\n",
       "</div>"
      ],
      "text/plain": [
       "        user_id  total_dur\n",
       "0             1   9.960482\n",
       "1          1000   9.282196\n",
       "2       1000000  10.403990\n",
       "3       1000001   3.970292\n",
       "4       1000003   6.439350\n",
       "...         ...        ...\n",
       "266076   999978   9.321255\n",
       "266077   999987  10.235988\n",
       "266078   999989   8.425955\n",
       "266079   999990   6.905753\n",
       "266080   999993   9.754349\n",
       "\n",
       "[266081 rows x 2 columns]"
      ]
     },
     "execution_count": 29,
     "metadata": {},
     "output_type": "execute_result"
    }
   ],
   "source": [
    "weeks_design.drop(columns=['total_dur'], inplace=True)\n",
    "weeks_design.rename(columns={'total_dur_log': 'total_dur'}, inplace=True)\n",
    "weeks_design"
   ]
  },
  {
   "cell_type": "code",
   "execution_count": 32,
   "id": "1e264f2d",
   "metadata": {},
   "outputs": [
    {
     "name": "stdout",
     "output_type": "stream",
     "text": [
      "Корректность для Бутстреп + логарифмированная метрика длительности просмотров: 5.1%\n",
      "p_value = 0.25203015035214305 - p_values равномерное распределение\n"
     ]
    },
    {
     "data": {
      "image/png": "[encoded data removed]",
      "text/plain": [
       "<Figure size 640x480 with 1 Axes>"
      ]
     },
     "metadata": {},
     "output_type": "display_data"
    }
   ],
   "source": [
    "# Бутстреп + логарифмированная метрика длительности просмотров\n",
    "sign_boot_log, diffs_boot_log = calculate_correctness_with_cache(\n",
    "        data_id=\"Бутстреп + логарифмированная метрика длительности просмотров\",\n",
    "        week=weeks_design,\n",
    "        iterations=1000,     # Увеличиваем количество итераций до 1000\n",
    "        n_jobs=-1            # Используем 8 ядер, чтобы снизить нагрузку\n",
    ")\n",
    "\n",
    "# визуализация\n",
    "p_values_boot_log = [get_p_value(dist) for dist in diffs_boot_log]\n",
    "\n",
    "plt.hist(p_values_boot_log, bins=10, color='purple')\n",
    "plt.title(f\"Распределение p_value: Бутстреп + логарифмированная метрика длительности просмотров\")\n",
    "\n",
    "stat_boot_log, p_value_boot_log = scipy.stats.kstest(p_values_boot_log, scipy.stats.uniform(loc=0.0, scale=1.0).cdf)\n",
    "\n",
    "if p_value_boot_log < 0.05:\n",
    "    print(f'p_value = {p_value_boot_log} - p_values неравномерное распределение')\n",
    "else:\n",
    "    print(f'p_value = {p_value_boot_log} - p_values равномерное распределение')"
   ]
  },
  {
   "cell_type": "code",
   "execution_count": 33,
   "id": "918b595d",
   "metadata": {},
   "outputs": [
    {
     "name": "stderr",
     "output_type": "stream",
     "text": [
      "100%|██████████| 1000/1000 [06:17<00:00,  2.65it/s]"
     ]
    },
    {
     "name": "stdout",
     "output_type": "stream",
     "text": [
      "p_value = 0.8198959913999354 - p_values равномерное распределение\n",
      "Корректность = 0.042\n"
     ]
    },
    {
     "name": "stderr",
     "output_type": "stream",
     "text": [
      "\n"
     ]
    },
    {
     "data": {
      "image/png": "[encoded data removed]",
      "text/plain": [
       "<Figure size 640x480 with 1 Axes>"
      ]
     },
     "metadata": {},
     "output_type": "display_data"
    }
   ],
   "source": [
    "# Манна-Уитни + метрика длительности просмотров \n",
    "pvalues_man_ut = []\n",
    "\n",
    "for i in tqdm(range(1000)):\n",
    "    week_2_hash = groups_splitter(week_2, columns=['user_id', 'total_dur', 'group'])\n",
    "    u, p = mannwhitneyu(\n",
    "        week_2_hash[week_2_hash['group'] == 'A']['total_dur'].values,\n",
    "        week_2_hash[week_2_hash['group'] == 'B']['total_dur'].values\n",
    "    )\n",
    "    pvalues_man_ut.append(p)\n",
    "\n",
    "pvalues_man_ut = np.array(pvalues_man_ut)\n",
    "plt.hist(pvalues_man_ut, bins=10, color='purple')\n",
    "\n",
    "stat_man_ut, p_value_man_ut = scipy.stats.kstest(pvalues_man_ut, scipy.stats.uniform(loc=0.0, scale=1.0).cdf)\n",
    "\n",
    "if p_value_man_ut < 0.05:\n",
    "    print(f'p_value = {p_value_man_ut} - p_values неравномерное распределение')\n",
    "else:\n",
    "    print(f'p_value = {p_value_man_ut} - p_values равномерное распределение')\n",
    "\n",
    "print(f\"Корректность = {pvalues_man_ut[pvalues_man_ut < 0.05].shape[0] / pvalues_man_ut.shape[0]:.3f}\")"
   ]
  },
  {
   "cell_type": "code",
   "execution_count": 34,
   "id": "46304ab3",
   "metadata": {},
   "outputs": [
    {
     "name": "stderr",
     "output_type": "stream",
     "text": [
      "100%|██████████| 1000/1000 [06:26<00:00,  2.59it/s]\n"
     ]
    },
    {
     "data": {
      "image/png": "[encoded data removed]",
      "text/plain": [
       "<Figure size 640x480 with 1 Axes>"
      ]
     },
     "metadata": {},
     "output_type": "display_data"
    },
    {
     "name": "stdout",
     "output_type": "stream",
     "text": [
      "p_value = 0.28251206484396696 - p_values равномерное распределение\n",
      "Корректность = 0.051\n"
     ]
    }
   ],
   "source": [
    "# Манна-Уитни + логарифмированная метрика длительности просмотров \n",
    "pvalues_man_ut_log = []\n",
    "\n",
    "for i in tqdm(range(1000)):\n",
    "    week_2_hash = groups_splitter(weeks_design, columns=['user_id', 'total_dur', 'group'])\n",
    "\n",
    "    # Манна-Уитни тест\n",
    "    u, p = mannwhitneyu(\n",
    "        np.log(1 + week_2_hash[week_2_hash['group'] == 'A']['total_dur'].values),\n",
    "        np.log(1 + week_2_hash[week_2_hash['group'] == 'B']['total_dur'].values)\n",
    "    )\n",
    "    pvalues_man_ut_log.append(p)\n",
    "\n",
    "# Преобразование в массив\n",
    "pvalues_man_ut_log = np.array(pvalues_man_ut_log)\n",
    "\n",
    "# Построение гистограммы\n",
    "plt.hist(pvalues_man_ut_log, bins=10, color='purple', edgecolor='black')\n",
    "plt.title(\"Распределение p-values (логарифмированная метрика)\")\n",
    "plt.xlabel(\"p-value\")\n",
    "plt.ylabel(\"Частота\")\n",
    "plt.show()\n",
    "\n",
    "# Проверка на равномерное распределение\n",
    "stat_man_ut_log, p_value_man_ut_log = kstest(\n",
    "    pvalues_man_ut_log, uniform(loc=0.0, scale=1.0).cdf\n",
    ")\n",
    "\n",
    "if p_value_man_ut_log < 0.05:\n",
    "    print(f'p_value = {p_value_man_ut_log} - p_values неравномерное распределение')\n",
    "else:\n",
    "    print(f'p_value = {p_value_man_ut_log} - p_values равномерное распределение')\n",
    "\n",
    "# Расчет корректности\n",
    "correctness_log = pvalues_man_ut_log[pvalues_man_ut_log < 0.05].shape[0] / pvalues_man_ut_log.shape[0]\n",
    "print(f\"Корректность = {correctness_log:.3f}\")"
   ]
  },
  {
   "cell_type": "code",
   "execution_count": 37,
   "id": "666004a9",
   "metadata": {},
   "outputs": [
    {
     "name": "stderr",
     "output_type": "stream",
     "text": [
      "100%|██████████| 1000/1000 [06:08<00:00,  2.71it/s]\n"
     ]
    },
    {
     "data": {
      "image/png": "[encoded data removed]",
      "text/plain": [
       "<Figure size 640x480 with 1 Axes>"
      ]
     },
     "metadata": {},
     "output_type": "display_data"
    },
    {
     "name": "stdout",
     "output_type": "stream",
     "text": [
      "p_value = 0.32810297736867566 - p_values равномерное распределение\n",
      "Корректность = 0.054\n"
     ]
    }
   ],
   "source": [
    "# t-test + метрика длительности просмотров \n",
    "p_values_tt = []\n",
    "\n",
    "for i in tqdm(range(1000)):  # 1000\n",
    "  two_weeks_hash = groups_splitter(week_2, columns=['user_id', 'total_dur', 'group'])\n",
    "\n",
    "  u, p = ttest_ind(\n",
    "        two_weeks_hash[two_weeks_hash['group'] == 'A']['total_dur'].values,\n",
    "        two_weeks_hash[two_weeks_hash['group'] == 'B']['total_dur'].values\n",
    "    )\n",
    "  p_values_tt.append(p)\n",
    "\n",
    "# Преобразуем в numpy массив\n",
    "p_values_tt = np.array(p_values_tt)\n",
    "\n",
    "# Построение гистограммы распределения p-values\n",
    "plt.hist(p_values_tt, bins=10, color='purple', edgecolor='black')\n",
    "plt.title(\"Распределение p-values (t-test)\")\n",
    "plt.show()\n",
    "\n",
    "# Проверка равномерности распределения p-values\n",
    "stat_tt, p_value_tt = kstest(p_values_tt, uniform(loc=0.0, scale=1.0).cdf)\n",
    "\n",
    "if p_value_tt < 0.05:\n",
    "    print(f'p_value = {p_value_tt} - p_values неравномерное распределение')\n",
    "else:\n",
    "    print(f'p_value = {p_value_tt} - p_values равномерное распределение')\n",
    "\n",
    "# Расчет корректности\n",
    "correctness_tt = p_values_tt[p_values_tt < 0.05].shape[0] / p_values_tt.shape[0]\n",
    "print(f\"Корректность = {correctness_tt:.3f}\")"
   ]
  },
  {
   "cell_type": "code",
   "execution_count": 36,
   "id": "ced81ac3",
   "metadata": {},
   "outputs": [
    {
     "name": "stderr",
     "output_type": "stream",
     "text": [
      "100%|██████████| 1000/1000 [06:06<00:00,  2.73it/s]\n"
     ]
    },
    {
     "data": {
      "image/png": "[encoded data removed]",
      "text/plain": [
       "<Figure size 640x480 with 1 Axes>"
      ]
     },
     "metadata": {},
     "output_type": "display_data"
    },
    {
     "name": "stdout",
     "output_type": "stream",
     "text": [
      "p_value = 0.8313550672358833 - p_values равномерное распределение\n",
      "Корректность = 0.041\n"
     ]
    }
   ],
   "source": [
    "# t-test + логарифмированная метрика длительности просмотров \n",
    "p_values_tt_log = []\n",
    "\n",
    "for i in tqdm(range(1000)):  # 1000 итераций\n",
    "    # Разделение данных\n",
    "    two_weeks_hash = groups_splitter(weeks_design, columns=['user_id', 'total_dur', 'group'])\n",
    "\n",
    "    # t-test\n",
    "    u, p = ttest_ind(\n",
    "        np.log(1 + two_weeks_hash[two_weeks_hash['group'] == 'A']['total_dur'].values),\n",
    "        np.log(1 + two_weeks_hash[two_weeks_hash['group'] == 'B']['total_dur'].values)\n",
    "    )\n",
    "    p_values_tt_log.append(p)\n",
    "\n",
    "# Преобразуем в numpy массив\n",
    "p_values_tt_log = np.array(p_values_tt_log)\n",
    "\n",
    "# Построение гистограммы распределения p-values\n",
    "plt.hist(p_values_tt_log, bins=10, color='purple', edgecolor='black')\n",
    "plt.title(\"Распределение p-values (t-test, логарифмированная метрика)\")\n",
    "plt.xlabel(\"p-value\")\n",
    "plt.ylabel(\"Частота\")\n",
    "plt.show()\n",
    "\n",
    "# Проверка равномерности распределения p-values\n",
    "stat_tt_log, p_value_tt_log = kstest(p_values_tt_log, uniform(loc=0.0, scale=1.0).cdf)\n",
    "\n",
    "if p_value_tt_log < 0.05:\n",
    "    print(f'p_value = {p_value_tt_log} - p_values неравномерное распределение')\n",
    "else:\n",
    "    print(f'p_value = {p_value_tt_log} - p_values равномерное распределение')\n",
    "\n",
    "# Расчет корректности\n",
    "correctness_tt_log = p_values_tt_log[p_values_tt_log < 0.05].shape[0] / p_values_tt_log.shape[0]\n",
    "print(f\"Корректность = {correctness_tt_log:.3f}\")"
   ]
  },
  {
   "cell_type": "markdown",
   "id": "741af077",
   "metadata": {},
   "source": [
    "#### Вывод по расчету корректности\n",
    "Наилучшую корректность проверки A/A теста показали комбинации (если считать альфа = 0.05):\n",
    "- Манна-Уитни + метрика длительности просмотров: 0.042 \n",
    "- t-test + логарифмированная метрика длительности просмотров: 0.041 \n",
    "\n",
    "Соответственно, проведем дальнейшее вычисление мощности на этих комбинациях. (Логарифмирование не всегда сработывало хорошо, как ожидалось...)"
   ]
  },
  {
   "cell_type": "markdown",
   "id": "878e9944",
   "metadata": {},
   "source": [
    "### 2.2 Рассчет мощности для комбинаций\n",
    "Будем докидывать эффект 1 % или 3%, эти значения оптимальны. (Например, в первом блоке исследований, было видно, что тест очень чувствителен к эффекту, выдавая при 3% уже мощность под 100%)\n",
    "\n",
    "<details>\n",
    "  <summary>Комбинации</summary>\n",
    "\n",
    "   - **Манна-Уитни** + метрика длительности просмотров \n",
    "   - **t-test** + логарифмированная метрика длительности просмотров \n",
    "   \n",
    "</details>"
   ]
  },
  {
   "cell_type": "markdown",
   "id": "010a11aa",
   "metadata": {},
   "source": [
    "#### Расчет мощности для Манна-Уитни + метрика длительности просмотров"
   ]
  },
  {
   "cell_type": "code",
   "execution_count": 38,
   "id": "156e73f6",
   "metadata": {},
   "outputs": [
    {
     "name": "stderr",
     "output_type": "stream",
     "text": [
      "100%|██████████| 1000/1000 [06:26<00:00,  2.59it/s]"
     ]
    },
    {
     "name": "stdout",
     "output_type": "stream",
     "text": [
      "Мощность = 0.240\n"
     ]
    },
    {
     "name": "stderr",
     "output_type": "stream",
     "text": [
      "\n"
     ]
    }
   ],
   "source": [
    "# манна-уитни + метрика длительности просмотров\n",
    "effect = 0.01\n",
    "p_values = []\n",
    "\n",
    "for i in tqdm(range(1000)):\n",
    "    week_2_hash = groups_splitter(week_2, columns=['user_id', 'total_dur', 'group'])\n",
    "    \n",
    "    u, p = mannwhitneyu(\n",
    "        week_2_hash[week_2_hash['group'] == 'A']['total_dur'].values,\n",
    "        week_2_hash[week_2_hash['group'] == 'B']['total_dur'].values * (1 + effect)\n",
    "    )\n",
    "    p_values.append(p)   \n",
    "\n",
    "p_values = np.array(p_values)\n",
    "power_1_m = p_values[p_values < 0.05].shape[0] / p_values.shape[0]\n",
    "print(f\"Мощность = {power_1_m:.3f}\")"
   ]
  },
  {
   "cell_type": "code",
   "execution_count": 39,
   "id": "061945b7",
   "metadata": {},
   "outputs": [
    {
     "name": "stderr",
     "output_type": "stream",
     "text": [
      "100%|██████████| 1000/1000 [06:27<00:00,  2.58it/s]"
     ]
    },
    {
     "name": "stdout",
     "output_type": "stream",
     "text": [
      "Мощность = 0.954\n"
     ]
    },
    {
     "name": "stderr",
     "output_type": "stream",
     "text": [
      "\n"
     ]
    }
   ],
   "source": [
    "# манна-уитни + метрика длительности просмотров\n",
    "effect = 0.03\n",
    "p_values = []\n",
    "\n",
    "for i in tqdm(range(1000)):\n",
    "    week_2_hash = groups_splitter(week_2, columns=['user_id', 'total_dur', 'group'])\n",
    "    \n",
    "    u, p = mannwhitneyu(\n",
    "        week_2_hash[week_2_hash['group'] == 'A']['total_dur'].values,\n",
    "        week_2_hash[week_2_hash['group'] == 'B']['total_dur'].values * (1 + effect)\n",
    "    )\n",
    "    p_values.append(p)   \n",
    "\n",
    "p_values = np.array(p_values)\n",
    "power_3_m = p_values[p_values < 0.05].shape[0] / p_values.shape[0]\n",
    "print(f\"Мощность = {power_3_m:.3f}\")"
   ]
  },
  {
   "cell_type": "markdown",
   "id": "a516e220",
   "metadata": {},
   "source": [
    "#### Расчет мощности для t-test + логарифмированная метрика длительности просмотров"
   ]
  },
  {
   "cell_type": "code",
   "execution_count": 40,
   "id": "fdb871ee",
   "metadata": {},
   "outputs": [
    {
     "name": "stderr",
     "output_type": "stream",
     "text": [
      "100%|██████████| 1000/1000 [06:08<00:00,  2.71it/s]"
     ]
    },
    {
     "name": "stdout",
     "output_type": "stream",
     "text": [
      "Мощность = 0.187\n"
     ]
    },
    {
     "name": "stderr",
     "output_type": "stream",
     "text": [
      "\n"
     ]
    }
   ],
   "source": [
    "# t-test + логарифмированная метрика длительности просмотров\n",
    "effect = 0.01\n",
    "p_values = []\n",
    "\n",
    "for i in tqdm(range(1000)):\n",
    "\n",
    "  two_weeks_hash = groups_splitter(week_2, columns=['user_id', 'total_dur', 'group'])\n",
    "\n",
    "  u, p = ttest_ind(\n",
    "        np.log(1 + two_weeks_hash[two_weeks_hash['group'] == 'A']['total_dur'].values),\n",
    "        np.log(1 + two_weeks_hash[two_weeks_hash['group'] == 'B']['total_dur'].values  * (1+effect))\n",
    "    )\n",
    "  p_values.append(p)\n",
    "\n",
    "p_values = np.array(p_values)\n",
    "power_1_t = p_values[p_values < 0.05].shape[0] / p_values.shape[0]\n",
    "print(f\"Мощность = {power_1_t:.3f}\")"
   ]
  },
  {
   "cell_type": "code",
   "execution_count": 41,
   "id": "8ad5fd54",
   "metadata": {},
   "outputs": [
    {
     "name": "stderr",
     "output_type": "stream",
     "text": [
      "100%|██████████| 1000/1000 [06:12<00:00,  2.69it/s]"
     ]
    },
    {
     "name": "stdout",
     "output_type": "stream",
     "text": [
      "Мощность = 0.882\n"
     ]
    },
    {
     "name": "stderr",
     "output_type": "stream",
     "text": [
      "\n"
     ]
    }
   ],
   "source": [
    "# t-test + логарифмированная метрика длительности просмотров\n",
    "effect = 0.03\n",
    "p_values = []\n",
    "\n",
    "for i in tqdm(range(1000)):\n",
    "\n",
    "  two_weeks_hash = groups_splitter(week_2, columns=['user_id', 'total_dur', 'group'])\n",
    "\n",
    "  u, p = ttest_ind(\n",
    "        np.log(1 + two_weeks_hash[two_weeks_hash['group'] == 'A']['total_dur'].values),\n",
    "        np.log(1 + two_weeks_hash[two_weeks_hash['group'] == 'B']['total_dur'].values  * (1+effect))\n",
    "    )\n",
    "  p_values.append(p)\n",
    "\n",
    "p_values = np.array(p_values)\n",
    "power_3_t = p_values[p_values < 0.05].shape[0] / p_values.shape[0]\n",
    "print(f\"Мощность = {power_3_t:.3f}\")"
   ]
  },
  {
   "cell_type": "markdown",
   "id": "c0d29508",
   "metadata": {},
   "source": [
    "#### Результаты \n",
    "\n",
    "Расчитанные мощности на 1000 итерациях с добавлением 1% эффекта:\n",
    "- манна-уитни + метрика длительности просмотров: 0.240\n",
    "- t-test + логарифмированная метрика длительности просмотров: 0.187\n",
    "\n",
    "Расчитанные мощности на 1000 итерациях с добавлением 3% эффекта:\n",
    "- манна-уитни + метрика длительности просмотров: 0.954\n",
    "- t-test + логарифмированная метрика длительности просмотров: 0.882\n",
    "\n",
    "Выбрана комбинация `манна-уитни + метрика длительности просмотров` поскольку показывает лучший результат на тестах."
   ]
  },
  {
   "cell_type": "code",
   "execution_count": 42,
   "id": "4b86cf29",
   "metadata": {},
   "outputs": [
    {
     "name": "stdout",
     "output_type": "stream",
     "text": [
      "MDE (alpha = 0.042, beta = 0.04600000000000004): 1.2747998580843485\n"
     ]
    }
   ],
   "source": [
    "# Расчет MDE для выбранной пары \n",
    "alpha_res = 0.042\n",
    "beta_res = 0.954\n",
    "\n",
    "print(f\"MDE (alpha = {alpha_res}, beta = {1 - beta_res}): {get_mde(week_2['total_dur'], alpha=alpha_res, beta=1 - beta_res)}\")"
   ]
  },
  {
   "cell_type": "markdown",
   "id": "310ba9eb",
   "metadata": {},
   "source": [
    "<details>\n",
    "  <summary> Про MDE</summary>\n",
    "\n",
    "При MDE = 1.2748, тест способен обнаружить минимальный эффект в размере 1.2748 единиц total_dur с вероятностью 95.4%, сохраняя уровень значимости 4.2%. Соответственно для эффекта 3$ он рабочий.\n",
    "\n",
    "</details>"
   ]
  },
  {
   "cell_type": "markdown",
   "id": "876ffcfd",
   "metadata": {},
   "source": [
    "## 🎯 Блок 3:  A/B Тест\n",
    "\n",
    "<details>\n",
    "  <summary>📝 Формулировка задания</summary>\n",
    "\n",
    "1. **Предположим, что тест уже прошёл**, используем те же самые данные за 2 недели.  \n",
    "2. **Обнулите значения `total_dur`** для всех пользователей, у которых `total_dur < 500`.  \n",
    "   - Эти значения принимаем за нулевые, но пользователей НЕ исключаем из эксперимента.  \n",
    "   **(2 балла)**  \n",
    "3. **Разбейте пользователей на две равные группы**:  \n",
    "   - Используйте функцию `groups_splitter`.  \n",
    "   - В качестве соли используйте `'kiontestmodel20210805'`.  \n",
    "   **(1 балл)**  \n",
    "4. **Добавьте эффект в группу B:**  \n",
    "   - Модель в группе B показала результат на **2.5% лучше**, чем в группе A.  \n",
    "   - Эффект распределён неравномерно, преимущественно на **10% самых активных пользователей**.  \n",
    "   - Увеличьте метрику `total_dur` на **2.5%** для этих 10%.  \n",
    "   **(2 балла)**  \n",
    "5. **Рассчитайте результаты теста и сделайте выводы.**  \n",
    "   **(10 баллов)**\n",
    "\n",
    "</details>"
   ]
  },
  {
   "cell_type": "code",
   "execution_count": 159,
   "id": "ba5aea45",
   "metadata": {},
   "outputs": [
    {
     "data": {
      "text/html": [
       "<div>\n",
       "<style scoped>\n",
       "    .dataframe tbody tr th:only-of-type {\n",
       "        vertical-align: middle;\n",
       "    }\n",
       "\n",
       "    .dataframe tbody tr th {\n",
       "        vertical-align: top;\n",
       "    }\n",
       "\n",
       "    .dataframe thead th {\n",
       "        text-align: right;\n",
       "    }\n",
       "</style>\n",
       "<table border=\"1\" class=\"dataframe\">\n",
       "  <thead>\n",
       "    <tr style=\"text-align: right;\">\n",
       "      <th></th>\n",
       "      <th>user_id</th>\n",
       "      <th>total_dur</th>\n",
       "    </tr>\n",
       "  </thead>\n",
       "  <tbody>\n",
       "    <tr>\n",
       "      <th>0</th>\n",
       "      <td>1</td>\n",
       "      <td>21172</td>\n",
       "    </tr>\n",
       "    <tr>\n",
       "      <th>1</th>\n",
       "      <td>1000</td>\n",
       "      <td>10744</td>\n",
       "    </tr>\n",
       "    <tr>\n",
       "      <th>2</th>\n",
       "      <td>1000000</td>\n",
       "      <td>32990</td>\n",
       "    </tr>\n",
       "    <tr>\n",
       "      <th>3</th>\n",
       "      <td>1000001</td>\n",
       "      <td>0</td>\n",
       "    </tr>\n",
       "    <tr>\n",
       "      <th>4</th>\n",
       "      <td>1000003</td>\n",
       "      <td>625</td>\n",
       "    </tr>\n",
       "  </tbody>\n",
       "</table>\n",
       "</div>"
      ],
      "text/plain": [
       "   user_id  total_dur\n",
       "0        1      21172\n",
       "1     1000      10744\n",
       "2  1000000      32990\n",
       "3  1000001          0\n",
       "4  1000003        625"
      ]
     },
     "metadata": {},
     "output_type": "display_data"
    },
    {
     "data": {
      "text/plain": [
       "<Axes: >"
      ]
     },
     "execution_count": 159,
     "metadata": {},
     "output_type": "execute_result"
    },
    {
     "data": {
      "image/png": "[encoded data removed]",
      "text/plain": [
       "<Figure size 500x500 with 1 Axes>"
      ]
     },
     "metadata": {},
     "output_type": "display_data"
    }
   ],
   "source": [
    "# 3.1 подтянем данные (чтобы работать на чистых)\n",
    "weeks = interactions[(interactions['last_watch_dt'] >= start_date) & (interactions['last_watch_dt'] <= end_date)]\n",
    "weeks = weeks.groupby('user_id', as_index=False).agg({'total_dur': 'sum'})\n",
    "weeks = weeks[(weeks['total_dur'] < weeks['total_dur'].std() * 3)]\n",
    "\n",
    "# 3.2 Обнуление значений total_dur для пользователей, где total_dur < 500\n",
    "weeks['total_dur'] = weeks['total_dur'].where(weeks['total_dur'] >= 500, 0)\n",
    "display(weeks.head(5))\n",
    "\n",
    "# визуализация\n",
    "weeks['total_dur'].hist(bins=50, figsize=(5,5))"
   ]
  },
  {
   "cell_type": "code",
   "execution_count": 160,
   "id": "2c79d35e",
   "metadata": {},
   "outputs": [
    {
     "data": {
      "text/html": [
       "<div>\n",
       "<style scoped>\n",
       "    .dataframe tbody tr th:only-of-type {\n",
       "        vertical-align: middle;\n",
       "    }\n",
       "\n",
       "    .dataframe tbody tr th {\n",
       "        vertical-align: top;\n",
       "    }\n",
       "\n",
       "    .dataframe thead th {\n",
       "        text-align: right;\n",
       "    }\n",
       "</style>\n",
       "<table border=\"1\" class=\"dataframe\">\n",
       "  <thead>\n",
       "    <tr style=\"text-align: right;\">\n",
       "      <th></th>\n",
       "      <th>user_id</th>\n",
       "      <th>total_dur</th>\n",
       "      <th>group</th>\n",
       "    </tr>\n",
       "  </thead>\n",
       "  <tbody>\n",
       "    <tr>\n",
       "      <th>0</th>\n",
       "      <td>1</td>\n",
       "      <td>21172</td>\n",
       "      <td>B</td>\n",
       "    </tr>\n",
       "    <tr>\n",
       "      <th>1</th>\n",
       "      <td>1000</td>\n",
       "      <td>10744</td>\n",
       "      <td>B</td>\n",
       "    </tr>\n",
       "    <tr>\n",
       "      <th>2</th>\n",
       "      <td>1000000</td>\n",
       "      <td>32990</td>\n",
       "      <td>B</td>\n",
       "    </tr>\n",
       "    <tr>\n",
       "      <th>3</th>\n",
       "      <td>1000001</td>\n",
       "      <td>0</td>\n",
       "      <td>B</td>\n",
       "    </tr>\n",
       "    <tr>\n",
       "      <th>4</th>\n",
       "      <td>1000003</td>\n",
       "      <td>625</td>\n",
       "      <td>A</td>\n",
       "    </tr>\n",
       "    <tr>\n",
       "      <th>...</th>\n",
       "      <td>...</td>\n",
       "      <td>...</td>\n",
       "      <td>...</td>\n",
       "    </tr>\n",
       "    <tr>\n",
       "      <th>266076</th>\n",
       "      <td>999978</td>\n",
       "      <td>11172</td>\n",
       "      <td>A</td>\n",
       "    </tr>\n",
       "    <tr>\n",
       "      <th>266077</th>\n",
       "      <td>999987</td>\n",
       "      <td>27888</td>\n",
       "      <td>A</td>\n",
       "    </tr>\n",
       "    <tr>\n",
       "      <th>266078</th>\n",
       "      <td>999989</td>\n",
       "      <td>4563</td>\n",
       "      <td>B</td>\n",
       "    </tr>\n",
       "    <tr>\n",
       "      <th>266079</th>\n",
       "      <td>999990</td>\n",
       "      <td>997</td>\n",
       "      <td>B</td>\n",
       "    </tr>\n",
       "    <tr>\n",
       "      <th>266080</th>\n",
       "      <td>999993</td>\n",
       "      <td>17228</td>\n",
       "      <td>A</td>\n",
       "    </tr>\n",
       "  </tbody>\n",
       "</table>\n",
       "<p>262794 rows × 3 columns</p>\n",
       "</div>"
      ],
      "text/plain": [
       "        user_id  total_dur group\n",
       "0             1      21172     B\n",
       "1          1000      10744     B\n",
       "2       1000000      32990     B\n",
       "3       1000001          0     B\n",
       "4       1000003        625     A\n",
       "...         ...        ...   ...\n",
       "266076   999978      11172     A\n",
       "266077   999987      27888     A\n",
       "266078   999989       4563     B\n",
       "266079   999990        997     B\n",
       "266080   999993      17228     A\n",
       "\n",
       "[262794 rows x 3 columns]"
      ]
     },
     "execution_count": 160,
     "metadata": {},
     "output_type": "execute_result"
    }
   ],
   "source": [
    "# 3.3 Применение функции groups_splitter для разделения на группы\n",
    "weeks_group = groups_splitter(weeks.copy(), columns=['user_id', 'total_dur', 'group'], user_salt='kiontestmodel20210805')\n",
    "weeks_group"
   ]
  },
  {
   "cell_type": "code",
   "execution_count": 161,
   "id": "8d5145fe",
   "metadata": {},
   "outputs": [],
   "source": [
    "# 3.4 Добавьте эффект в группу B\n",
    "\n",
    "# Преобразуем total_dur в float64\n",
    "weeks_group['total_dur'] = weeks_group['total_dur'].astype(float)\n",
    "\n",
    "# Отбор группы B\n",
    "group_b = weeks_group[weeks_group['group'] == \"B\"]\n",
    "\n",
    "# Находим порог для 10% самых активных пользователей\n",
    "top_10_percent_threshold = group_b['total_dur'].quantile(0.9)\n",
    "\n",
    "# Увеличиваем метрику для этих пользователей\n",
    "weeks_group.loc[(weeks_group['group'] == \"B\") & (weeks_group['total_dur'] >= top_10_percent_threshold), 'total_dur'] *= 1.025\n",
    "\n",
    "# Разделяем данные по группам\n",
    "group_a = weeks_group[weeks_group['group'] == \"A\"]['total_dur']\n",
    "group_b = weeks_group[weeks_group['group'] == \"B\"]['total_dur']"
   ]
  },
  {
   "cell_type": "code",
   "execution_count": 171,
   "id": "3f03ce40",
   "metadata": {},
   "outputs": [
    {
     "name": "stdout",
     "output_type": "stream",
     "text": [
      "T-test: p-value = 0.033496527241656165\n",
      "Mann-Whitney U Test: p-value = 0.09187290419766353\n",
      "Среднее группы A: 15808.00\n",
      "Среднее группы B: 16041.82\n",
      "Разница: 1.48%\n"
     ]
    }
   ],
   "source": [
    "# 3.5 Рассчитайте результаты теста и сделайте выводы\n",
    "\n",
    "# t-test\n",
    "_, p_value_t = ttest_ind(group_a, group_b)\n",
    "\n",
    "# Mann-Whitney test\n",
    "_, p_value_mw = mannwhitneyu(group_a, group_b)\n",
    "\n",
    "print(f\"T-test: p-value = {p_value_t}\")\n",
    "print(f\"Mann-Whitney: p-value = {p_value_mw}\")\n",
    "\n",
    "# 2. Вычисление среднего значения и разницы\n",
    "mean_a = group_a.mean()\n",
    "mean_b = group_b.mean()\n",
    "effect = (mean_b - mean_a) / mean_a * 100\n",
    "print(f\"Среднее группы A: {mean_a:.2f}\")\n",
    "print(f\"Среднее группы B: {mean_b:.2f}\")\n",
    "print(f\"Разница: {effect:.2f}%\")"
   ]
  },
  {
   "cell_type": "code",
   "execution_count": 178,
   "id": "2cc6cfa1",
   "metadata": {},
   "outputs": [
    {
     "data": {
      "image/png": "[encoded data removed]",
      "text/plain": [
       "<Figure size 1400x600 with 2 Axes>"
      ]
     },
     "metadata": {},
     "output_type": "display_data"
    }
   ],
   "source": [
    "# Настройка стиля\n",
    "sns.set_theme(style=\"whitegrid\")\n",
    "\n",
    "# Создание фигуры с двумя графиками рядом\n",
    "fig, axes = plt.subplots(1, 2, figsize=(14, 6))  # Увеличенный размер для красивого отображения\n",
    "\n",
    "# Гистограмма\n",
    "axes[0].hist(group_a, bins=50, alpha=0.6, label='Группа A', color='blue', density=True, edgecolor='white', linewidth=0.5)\n",
    "axes[0].hist(group_b, bins=50, alpha=0.6, label='Группа B', color='violet', density=True, edgecolor='white', linewidth=0.5)\n",
    "axes[0].set_title('Распределение общей длительности', fontsize=14, fontweight='bold')\n",
    "axes[0].set_xlabel('Общая длительность (Total Duration)', fontsize=12)\n",
    "axes[0].set_ylabel('Плотность (Density)', fontsize=12)\n",
    "axes[0].grid(axis='y', linestyle='--', alpha=0.6)\n",
    "axes[0].legend(loc='upper right', fontsize=11)\n",
    "\n",
    "# Boxplot\n",
    "sns.boxplot(data=weeks_group, x='group', y='total_dur', ax=axes[1], palette={'A': 'blue', 'B': 'violet'}, linewidth=1.2, hue='group')\n",
    "axes[1].set_title('Распределение длительности по группам', fontsize=14, fontweight='bold')\n",
    "axes[1].set_xlabel('Группа', fontsize=12)\n",
    "axes[1].set_ylabel('Общая длительность (Total Duration)', fontsize=12)\n",
    "axes[1].grid(axis='y', linestyle='--', alpha=0.6)\n",
    "\n",
    "# Удаление лишних рамок\n",
    "sns.despine(left=True)\n",
    "\n",
    "# Подгонка расстояний между графиками\n",
    "plt.tight_layout()\n",
    "\n",
    "# Отображение графиков\n",
    "plt.show()"
   ]
  },
  {
   "cell_type": "markdown",
   "id": "0d457d1e",
   "metadata": {},
   "source": [
    "### Выводы\n",
    "\n",
    "1. **Статистическая значимость**:  \n",
    "   - T-test (\\(p = 0.033\\)) показал статистически значимую разницу между группами A и B на уровне значимости \\(0.05\\). Это подтверждает влияние изменений в группе B (увеличение на 2.5% для активных пользователей).  \n",
    "   - Манна-Уитни (\\(p = 0.092\\)) значимость не подтвердил, возможно, из-за высокой вариативности данных.\n",
    "\n",
    "2. **Практическая значимость**:  \n",
    "   - Среднее значение `total_dur` в группе B на 1.48% выше, чем в группе A. Этот эффект может быть полезен, если его масштабировать на всех пользователей.\n",
    "\n",
    "3. **Графический анализ**:  \n",
    "   - Гистограмма показывает схожесть распределений, но группа B демонстрирует небольшое улучшение.  \n",
    "   - Boxplot подчёркивает близость медианных значений и влияние выбросов.\n",
    "\n",
    "4. **Рекомендации**:  \n",
    "   - Масштабировать изменения для всех пользователей, если эффект в 1.48% важен для бизнеса.  \n",
    "   - Провести дополнительные эксперименты, чтобы учесть вариативность данных и проверить их соответствие предположениям T-test.\n",
    "\n",
    "**Общий вывод**:  \n",
    "Эффект в группе B увеличил метрику `total_dur` на 1.48%. T-test подтверждает статистическую значимость, что делает эффект перспективным для масштабирования. Однако, для большей уверенности, рекомендуется провести дополнительные проверки и эксперименты."
   ]
  }
 ],
 "metadata": {
  "kernelspec": {
   "display_name": ".venv",
   "language": "python",
   "name": "python3"
  },
  "language_info": {
   "codemirror_mode": {
    "name": "ipython",
    "version": 3
   },
   "file_extension": ".py",
   "mimetype": "text/x-python",
   "name": "python",
   "nbconvert_exporter": "python",
   "pygments_lexer": "ipython3",
   "version": "3.10.14"
  }
 },
 "nbformat": 4,
 "nbformat_minor": 5
}
