{
  "cells": [
    {
      "cell_type": "code",
      "execution_count": 146,
      "metadata": {
        "id": "2pCsLT3BAJQy"
      },
      "outputs": [],
      "source": [
        "import numpy as np\n",
        "import scipy\n",
        "import matplotlib.pyplot as plt\n",
        "import scipy.stats as stats\n",
        "import statsmodels\n",
        "import statsmodels.sandbox.stats.multicomp\n",
        "import pandas as pd\n",
        "import datetime\n",
        "from statsmodels.stats.weightstats import ztest\n",
        "\n",
        "import matplotlib.pyplot as plt\n",
        "import seaborn as sns\n",
        "\n",
        "from tqdm import tqdm\n",
        "from sklearn.utils import shuffle\n",
        "import hashlib\n",
        "from base64 import b64encode\n",
        "import collections"
      ]
    },
    {
      "cell_type": "markdown",
      "metadata": {
        "id": "b2bQzN9VASjU"
      },
      "source": [
        "* Разбивка пользователей на группы: генерация соли, создание функции для разбивки пользователей\n",
        "* Дизайн теста: MDE, пример дизайна\n",
        "\n"
      ]
    },
    {
      "cell_type": "markdown",
      "metadata": {
        "id": "0DHX7E75AhiO"
      },
      "source": [
        "# Разбивка пользователей на группы"
      ]
    },
    {
      "cell_type": "code",
      "execution_count": 147,
      "metadata": {
        "colab": {
          "base_uri": "https://localhost:8080/"
        },
        "id": "a_wDMQBJAQcI",
        "outputId": "6ebdf88f-9283-4fc1-9b7a-5ff154032210"
      },
      "outputs": [
        {
          "name": "stdout",
          "output_type": "stream",
          "text": [
            "  % Total    % Received % Xferd  Average Speed   Time    Time     Time  Current\n",
            "                                 Dload  Upload   Total   Spent    Left  Speed\n",
            "100 73.7M  100 73.7M    0     0  8181k      0  0:00:09  0:00:09 --:--:-- 10.6M\n"
          ]
        }
      ],
      "source": [
        "!curl -O https://raw.githubusercontent.com/YuriyKotov/datasets/master/2019-Dec.csv.zip >> 2019-Dec.csv.zip"
      ]
    },
    {
      "cell_type": "code",
      "execution_count": 150,
      "metadata": {
        "id": "hjdTUFObBDyH"
      },
      "outputs": [
        {
          "data": {
            "text/html": [
              "<div>\n",
              "<style scoped>\n",
              "    .dataframe tbody tr th:only-of-type {\n",
              "        vertical-align: middle;\n",
              "    }\n",
              "\n",
              "    .dataframe tbody tr th {\n",
              "        vertical-align: top;\n",
              "    }\n",
              "\n",
              "    .dataframe thead th {\n",
              "        text-align: right;\n",
              "    }\n",
              "</style>\n",
              "<table border=\"1\" class=\"dataframe\">\n",
              "  <thead>\n",
              "    <tr style=\"text-align: right;\">\n",
              "      <th></th>\n",
              "      <th>event_time</th>\n",
              "      <th>event_type</th>\n",
              "      <th>product_id</th>\n",
              "      <th>category_id</th>\n",
              "      <th>category_code</th>\n",
              "      <th>brand</th>\n",
              "      <th>price</th>\n",
              "      <th>user_id</th>\n",
              "      <th>user_session</th>\n",
              "    </tr>\n",
              "  </thead>\n",
              "  <tbody>\n",
              "    <tr>\n",
              "      <th>0</th>\n",
              "      <td>2019-12-01 00:00:00 UTC</td>\n",
              "      <td>remove_from_cart</td>\n",
              "      <td>5712790</td>\n",
              "      <td>1487580005268456287</td>\n",
              "      <td>NaN</td>\n",
              "      <td>f.o.x</td>\n",
              "      <td>6.27</td>\n",
              "      <td>576802932</td>\n",
              "      <td>51d85cb0-897f-48d2-918b-ad63965c12dc</td>\n",
              "    </tr>\n",
              "    <tr>\n",
              "      <th>1</th>\n",
              "      <td>2019-12-01 00:00:00 UTC</td>\n",
              "      <td>view</td>\n",
              "      <td>5764655</td>\n",
              "      <td>1487580005411062629</td>\n",
              "      <td>NaN</td>\n",
              "      <td>cnd</td>\n",
              "      <td>29.05</td>\n",
              "      <td>412120092</td>\n",
              "      <td>8adff31e-2051-4894-9758-224bfa8aec18</td>\n",
              "    </tr>\n",
              "    <tr>\n",
              "      <th>2</th>\n",
              "      <td>2019-12-01 00:00:02 UTC</td>\n",
              "      <td>cart</td>\n",
              "      <td>4958</td>\n",
              "      <td>1487580009471148064</td>\n",
              "      <td>NaN</td>\n",
              "      <td>runail</td>\n",
              "      <td>1.19</td>\n",
              "      <td>494077766</td>\n",
              "      <td>c99a50e8-2fac-4c4d-89ec-41c05f114554</td>\n",
              "    </tr>\n",
              "    <tr>\n",
              "      <th>3</th>\n",
              "      <td>2019-12-01 00:00:05 UTC</td>\n",
              "      <td>view</td>\n",
              "      <td>5848413</td>\n",
              "      <td>1487580007675986893</td>\n",
              "      <td>NaN</td>\n",
              "      <td>freedecor</td>\n",
              "      <td>0.79</td>\n",
              "      <td>348405118</td>\n",
              "      <td>722ffea5-73c0-4924-8e8f-371ff8031af4</td>\n",
              "    </tr>\n",
              "    <tr>\n",
              "      <th>4</th>\n",
              "      <td>2019-12-01 00:00:07 UTC</td>\n",
              "      <td>view</td>\n",
              "      <td>5824148</td>\n",
              "      <td>1487580005511725929</td>\n",
              "      <td>NaN</td>\n",
              "      <td>NaN</td>\n",
              "      <td>5.56</td>\n",
              "      <td>576005683</td>\n",
              "      <td>28172809-7e4a-45ce-bab0-5efa90117cd5</td>\n",
              "    </tr>\n",
              "  </tbody>\n",
              "</table>\n",
              "</div>"
            ],
            "text/plain": [
              "                event_time        event_type  product_id          category_id  \\\n",
              "0  2019-12-01 00:00:00 UTC  remove_from_cart     5712790  1487580005268456287   \n",
              "1  2019-12-01 00:00:00 UTC              view     5764655  1487580005411062629   \n",
              "2  2019-12-01 00:00:02 UTC              cart        4958  1487580009471148064   \n",
              "3  2019-12-01 00:00:05 UTC              view     5848413  1487580007675986893   \n",
              "4  2019-12-01 00:00:07 UTC              view     5824148  1487580005511725929   \n",
              "\n",
              "  category_code      brand  price    user_id  \\\n",
              "0           NaN      f.o.x   6.27  576802932   \n",
              "1           NaN        cnd  29.05  412120092   \n",
              "2           NaN     runail   1.19  494077766   \n",
              "3           NaN  freedecor   0.79  348405118   \n",
              "4           NaN        NaN   5.56  576005683   \n",
              "\n",
              "                           user_session  \n",
              "0  51d85cb0-897f-48d2-918b-ad63965c12dc  \n",
              "1  8adff31e-2051-4894-9758-224bfa8aec18  \n",
              "2  c99a50e8-2fac-4c4d-89ec-41c05f114554  \n",
              "3  722ffea5-73c0-4924-8e8f-371ff8031af4  \n",
              "4  28172809-7e4a-45ce-bab0-5efa90117cd5  "
            ]
          },
          "execution_count": 150,
          "metadata": {},
          "output_type": "execute_result"
        }
      ],
      "source": [
        "shop_df = pd.read_csv('2019-Dec.csv.zip')\n",
        "shop_df.head()"
      ]
    },
    {
      "cell_type": "markdown",
      "metadata": {
        "id": "0Vuvc0qYBlOM"
      },
      "source": [
        "У нас есть пользовательские логи. Допустим, мы хотим провести дизайн теста на этих данных. Необходимо разбить пользователей на группы\n",
        "\n",
        "1. Проверяем тип данных в колонке, по которой будем разбивать\n",
        "2. Выбираем хэш-функцию, соль и создаем новую колонку хэшированного айди\n",
        "3. Конвертируем в числовой вид и берем остаток от целочисленного деления на 2. По остатку выставляем группу"
      ]
    },
    {
      "cell_type": "markdown",
      "metadata": {
        "id": "BE6KKkUkBwLJ"
      },
      "source": [
        "https://python.readthedocs.io/en/stable/library/hashlib.html"
      ]
    },
    {
      "cell_type": "code",
      "execution_count": 151,
      "metadata": {
        "id": "v2vi0FT6BLE1"
      },
      "outputs": [
        {
          "data": {
            "text/html": [
              "<div>\n",
              "<style scoped>\n",
              "    .dataframe tbody tr th:only-of-type {\n",
              "        vertical-align: middle;\n",
              "    }\n",
              "\n",
              "    .dataframe tbody tr th {\n",
              "        vertical-align: top;\n",
              "    }\n",
              "\n",
              "    .dataframe thead th {\n",
              "        text-align: right;\n",
              "    }\n",
              "</style>\n",
              "<table border=\"1\" class=\"dataframe\">\n",
              "  <thead>\n",
              "    <tr style=\"text-align: right;\">\n",
              "      <th></th>\n",
              "      <th>event_time</th>\n",
              "      <th>event_type</th>\n",
              "      <th>product_id</th>\n",
              "      <th>category_id</th>\n",
              "      <th>category_code</th>\n",
              "      <th>brand</th>\n",
              "      <th>price</th>\n",
              "      <th>user_id</th>\n",
              "      <th>user_session</th>\n",
              "      <th>hash</th>\n",
              "      <th>hash_int</th>\n",
              "      <th>group</th>\n",
              "    </tr>\n",
              "  </thead>\n",
              "  <tbody>\n",
              "    <tr>\n",
              "      <th>0</th>\n",
              "      <td>2019-12-01 00:00:00 UTC</td>\n",
              "      <td>remove_from_cart</td>\n",
              "      <td>5712790</td>\n",
              "      <td>1487580005268456287</td>\n",
              "      <td>NaN</td>\n",
              "      <td>f.o.x</td>\n",
              "      <td>6.27</td>\n",
              "      <td>576802932</td>\n",
              "      <td>51d85cb0-897f-48d2-918b-ad63965c12dc</td>\n",
              "      <td>6c6abc4f2077ee735acc10873aeec1e84c73fdc61368db...</td>\n",
              "      <td>484344</td>\n",
              "      <td>A</td>\n",
              "    </tr>\n",
              "    <tr>\n",
              "      <th>1</th>\n",
              "      <td>2019-12-01 00:00:00 UTC</td>\n",
              "      <td>view</td>\n",
              "      <td>5764655</td>\n",
              "      <td>1487580005411062629</td>\n",
              "      <td>NaN</td>\n",
              "      <td>cnd</td>\n",
              "      <td>29.05</td>\n",
              "      <td>412120092</td>\n",
              "      <td>8adff31e-2051-4894-9758-224bfa8aec18</td>\n",
              "      <td>1d801c27dc25cc0d23e8807a40e5b67b598ba43f953845...</td>\n",
              "      <td>3251533</td>\n",
              "      <td>B</td>\n",
              "    </tr>\n",
              "    <tr>\n",
              "      <th>2</th>\n",
              "      <td>2019-12-01 00:00:02 UTC</td>\n",
              "      <td>cart</td>\n",
              "      <td>4958</td>\n",
              "      <td>1487580009471148064</td>\n",
              "      <td>NaN</td>\n",
              "      <td>runail</td>\n",
              "      <td>1.19</td>\n",
              "      <td>494077766</td>\n",
              "      <td>c99a50e8-2fac-4c4d-89ec-41c05f114554</td>\n",
              "      <td>fe7130fd86b413dba79ce99577835460ab1d98a665f962...</td>\n",
              "      <td>7807910</td>\n",
              "      <td>A</td>\n",
              "    </tr>\n",
              "    <tr>\n",
              "      <th>3</th>\n",
              "      <td>2019-12-01 00:00:05 UTC</td>\n",
              "      <td>view</td>\n",
              "      <td>5848413</td>\n",
              "      <td>1487580007675986893</td>\n",
              "      <td>NaN</td>\n",
              "      <td>freedecor</td>\n",
              "      <td>0.79</td>\n",
              "      <td>348405118</td>\n",
              "      <td>722ffea5-73c0-4924-8e8f-371ff8031af4</td>\n",
              "      <td>ebbd986195fccc1fdd7193a8218b612bbe752ee6a2ecc1...</td>\n",
              "      <td>8920812</td>\n",
              "      <td>A</td>\n",
              "    </tr>\n",
              "    <tr>\n",
              "      <th>4</th>\n",
              "      <td>2019-12-01 00:00:07 UTC</td>\n",
              "      <td>view</td>\n",
              "      <td>5824148</td>\n",
              "      <td>1487580005511725929</td>\n",
              "      <td>NaN</td>\n",
              "      <td>NaN</td>\n",
              "      <td>5.56</td>\n",
              "      <td>576005683</td>\n",
              "      <td>28172809-7e4a-45ce-bab0-5efa90117cd5</td>\n",
              "      <td>36d2843862fbcf92392839a9cba65b6522717b91f514f8...</td>\n",
              "      <td>12591374</td>\n",
              "      <td>A</td>\n",
              "    </tr>\n",
              "  </tbody>\n",
              "</table>\n",
              "</div>"
            ],
            "text/plain": [
              "                event_time        event_type  product_id          category_id  \\\n",
              "0  2019-12-01 00:00:00 UTC  remove_from_cart     5712790  1487580005268456287   \n",
              "1  2019-12-01 00:00:00 UTC              view     5764655  1487580005411062629   \n",
              "2  2019-12-01 00:00:02 UTC              cart        4958  1487580009471148064   \n",
              "3  2019-12-01 00:00:05 UTC              view     5848413  1487580007675986893   \n",
              "4  2019-12-01 00:00:07 UTC              view     5824148  1487580005511725929   \n",
              "\n",
              "  category_code      brand  price    user_id  \\\n",
              "0           NaN      f.o.x   6.27  576802932   \n",
              "1           NaN        cnd  29.05  412120092   \n",
              "2           NaN     runail   1.19  494077766   \n",
              "3           NaN  freedecor   0.79  348405118   \n",
              "4           NaN        NaN   5.56  576005683   \n",
              "\n",
              "                           user_session  \\\n",
              "0  51d85cb0-897f-48d2-918b-ad63965c12dc   \n",
              "1  8adff31e-2051-4894-9758-224bfa8aec18   \n",
              "2  c99a50e8-2fac-4c4d-89ec-41c05f114554   \n",
              "3  722ffea5-73c0-4924-8e8f-371ff8031af4   \n",
              "4  28172809-7e4a-45ce-bab0-5efa90117cd5   \n",
              "\n",
              "                                                hash  hash_int group  \n",
              "0  6c6abc4f2077ee735acc10873aeec1e84c73fdc61368db...    484344     A  \n",
              "1  1d801c27dc25cc0d23e8807a40e5b67b598ba43f953845...   3251533     B  \n",
              "2  fe7130fd86b413dba79ce99577835460ab1d98a665f962...   7807910     A  \n",
              "3  ebbd986195fccc1fdd7193a8218b612bbe752ee6a2ecc1...   8920812     A  \n",
              "4  36d2843862fbcf92392839a9cba65b6522717b91f514f8...  12591374     A  "
            ]
          },
          "execution_count": 151,
          "metadata": {},
          "output_type": "execute_result"
        }
      ],
      "source": [
        "shop_df['hash'] = ((shop_df['user_id'].astype(str)) + '#' + 'av8MC4yMseo=').apply(lambda x: hashlib.sha256(x.encode('utf-8')).hexdigest())\n",
        "shop_df['hash_int'] = shop_df['hash'].str.slice(start=-6).apply(int, base=16)\n",
        "shop_df['group'] = ((shop_df['hash'].str.slice(start=-6).apply(int, base=16) % 2).map(lambda x: 'A' if x == 0 else 'B'))\n",
        "shop_df.head(5)"
      ]
    },
    {
      "cell_type": "code",
      "execution_count": 152,
      "metadata": {
        "colab": {
          "base_uri": "https://localhost:8080/",
          "height": 112
        },
        "id": "gYZa-TJeCBF0",
        "outputId": "be14e3b9-110c-404d-b1f2-ab2f23fbb308"
      },
      "outputs": [
        {
          "data": {
            "text/html": [
              "<div>\n",
              "<style scoped>\n",
              "    .dataframe tbody tr th:only-of-type {\n",
              "        vertical-align: middle;\n",
              "    }\n",
              "\n",
              "    .dataframe tbody tr th {\n",
              "        vertical-align: top;\n",
              "    }\n",
              "\n",
              "    .dataframe thead th {\n",
              "        text-align: right;\n",
              "    }\n",
              "</style>\n",
              "<table border=\"1\" class=\"dataframe\">\n",
              "  <thead>\n",
              "    <tr style=\"text-align: right;\">\n",
              "      <th></th>\n",
              "      <th>group</th>\n",
              "      <th>event_time</th>\n",
              "      <th>event_type</th>\n",
              "      <th>product_id</th>\n",
              "      <th>category_id</th>\n",
              "      <th>category_code</th>\n",
              "      <th>brand</th>\n",
              "      <th>price</th>\n",
              "      <th>user_id</th>\n",
              "      <th>user_session</th>\n",
              "      <th>hash</th>\n",
              "      <th>hash_int</th>\n",
              "    </tr>\n",
              "  </thead>\n",
              "  <tbody>\n",
              "    <tr>\n",
              "      <th>0</th>\n",
              "      <td>A</td>\n",
              "      <td>1752819</td>\n",
              "      <td>1752819</td>\n",
              "      <td>1752819</td>\n",
              "      <td>1752819</td>\n",
              "      <td>29077</td>\n",
              "      <td>1005037</td>\n",
              "      <td>1752819</td>\n",
              "      <td>1752819</td>\n",
              "      <td>1752419</td>\n",
              "      <td>1752819</td>\n",
              "      <td>1752819</td>\n",
              "    </tr>\n",
              "    <tr>\n",
              "      <th>1</th>\n",
              "      <td>B</td>\n",
              "      <td>1780467</td>\n",
              "      <td>1780467</td>\n",
              "      <td>1780467</td>\n",
              "      <td>1780467</td>\n",
              "      <td>29388</td>\n",
              "      <td>1017960</td>\n",
              "      <td>1780467</td>\n",
              "      <td>1780467</td>\n",
              "      <td>1780088</td>\n",
              "      <td>1780467</td>\n",
              "      <td>1780467</td>\n",
              "    </tr>\n",
              "  </tbody>\n",
              "</table>\n",
              "</div>"
            ],
            "text/plain": [
              "  group  event_time  event_type  product_id  category_id  category_code  \\\n",
              "0     A     1752819     1752819     1752819      1752819          29077   \n",
              "1     B     1780467     1780467     1780467      1780467          29388   \n",
              "\n",
              "     brand    price  user_id  user_session     hash  hash_int  \n",
              "0  1005037  1752819  1752819       1752419  1752819   1752819  \n",
              "1  1017960  1780467  1780467       1780088  1780467   1780467  "
            ]
          },
          "execution_count": 152,
          "metadata": {},
          "output_type": "execute_result"
        }
      ],
      "source": [
        "shop_df.groupby(['group'], as_index=False).count()"
      ]
    },
    {
      "cell_type": "code",
      "execution_count": 153,
      "metadata": {
        "colab": {
          "base_uri": "https://localhost:8080/",
          "height": 112
        },
        "id": "0doBTeJICEQV",
        "outputId": "9e74d4fc-e748-4520-a2bf-885ad8cdb081"
      },
      "outputs": [
        {
          "data": {
            "text/html": [
              "<div>\n",
              "<style scoped>\n",
              "    .dataframe tbody tr th:only-of-type {\n",
              "        vertical-align: middle;\n",
              "    }\n",
              "\n",
              "    .dataframe tbody tr th {\n",
              "        vertical-align: top;\n",
              "    }\n",
              "\n",
              "    .dataframe thead th {\n",
              "        text-align: right;\n",
              "    }\n",
              "</style>\n",
              "<table border=\"1\" class=\"dataframe\">\n",
              "  <thead>\n",
              "    <tr style=\"text-align: right;\">\n",
              "      <th></th>\n",
              "      <th>group</th>\n",
              "      <th>event_time</th>\n",
              "      <th>event_type</th>\n",
              "      <th>product_id</th>\n",
              "      <th>category_id</th>\n",
              "      <th>category_code</th>\n",
              "      <th>brand</th>\n",
              "      <th>price</th>\n",
              "      <th>user_id</th>\n",
              "      <th>user_session</th>\n",
              "      <th>hash</th>\n",
              "      <th>hash_int</th>\n",
              "    </tr>\n",
              "  </thead>\n",
              "  <tbody>\n",
              "    <tr>\n",
              "      <th>0</th>\n",
              "      <td>A</td>\n",
              "      <td>1098371</td>\n",
              "      <td>4</td>\n",
              "      <td>41325</td>\n",
              "      <td>467</td>\n",
              "      <td>10</td>\n",
              "      <td>249</td>\n",
              "      <td>2061</td>\n",
              "      <td>184843</td>\n",
              "      <td>415021</td>\n",
              "      <td>184843</td>\n",
              "      <td>182859</td>\n",
              "    </tr>\n",
              "    <tr>\n",
              "      <th>1</th>\n",
              "      <td>B</td>\n",
              "      <td>1104935</td>\n",
              "      <td>4</td>\n",
              "      <td>41902</td>\n",
              "      <td>471</td>\n",
              "      <td>10</td>\n",
              "      <td>251</td>\n",
              "      <td>2061</td>\n",
              "      <td>185311</td>\n",
              "      <td>424821</td>\n",
              "      <td>185311</td>\n",
              "      <td>183287</td>\n",
              "    </tr>\n",
              "  </tbody>\n",
              "</table>\n",
              "</div>"
            ],
            "text/plain": [
              "  group  event_time  event_type  product_id  category_id  category_code  \\\n",
              "0     A     1098371           4       41325          467             10   \n",
              "1     B     1104935           4       41902          471             10   \n",
              "\n",
              "   brand  price  user_id  user_session    hash  hash_int  \n",
              "0    249   2061   184843        415021  184843    182859  \n",
              "1    251   2061   185311        424821  185311    183287  "
            ]
          },
          "execution_count": 153,
          "metadata": {},
          "output_type": "execute_result"
        }
      ],
      "source": [
        "shop_df.groupby(['group'], as_index=False).nunique()"
      ]
    },
    {
      "cell_type": "code",
      "execution_count": 155,
      "metadata": {
        "id": "AE5e1mgICLsF"
      },
      "outputs": [],
      "source": [
        "import os\n",
        "from base64 import b64encode \n",
        "\n",
        "def salt_generator(salt=None):  \n",
        "    # кодирует байтоподобный объект с помощью Base64 и возвращает закодированную байтовую строку.\n",
        "    salt = os.urandom(8)\n",
        "\n",
        "    return b64encode(salt).decode('ascii')\n",
        "\n",
        "# '''os.urandom() method is used to generate a string of size random bytes suitable for cryptographic use\n",
        "#    or we can say this method generates a string containing random characters.'''\n",
        "# https://www.geeksforgeeks.org/python-os-urandom-method/"
      ]
    },
    {
      "cell_type": "code",
      "execution_count": 160,
      "metadata": {
        "id": "HG3GY05mCg31"
      },
      "outputs": [
        {
          "data": {
            "text/plain": [
              "['I6swlle65xE=',\n",
              " 'l4Z9cXmtc3w=',\n",
              " 'IPK0YKN8kl4=',\n",
              " '2JWsmMgnwsw=',\n",
              " '7tP8RZiUObM=',\n",
              " '2CO1cD3VAQU=',\n",
              " 'yHRYPzK4AX4=',\n",
              " '5KHrZ2dsIOU=',\n",
              " 'hKiHU3fTG7c=',\n",
              " 'z4IMBUxkXII=']"
            ]
          },
          "execution_count": 160,
          "metadata": {},
          "output_type": "execute_result"
        }
      ],
      "source": [
        "M = [salt_generator() for _ in range(10)]\n",
        "M"
      ]
    },
    {
      "cell_type": "code",
      "execution_count": 161,
      "metadata": {},
      "outputs": [
        {
          "data": {
            "text/html": [
              "<div>\n",
              "<style scoped>\n",
              "    .dataframe tbody tr th:only-of-type {\n",
              "        vertical-align: middle;\n",
              "    }\n",
              "\n",
              "    .dataframe tbody tr th {\n",
              "        vertical-align: top;\n",
              "    }\n",
              "\n",
              "    .dataframe thead th {\n",
              "        text-align: right;\n",
              "    }\n",
              "</style>\n",
              "<table border=\"1\" class=\"dataframe\">\n",
              "  <thead>\n",
              "    <tr style=\"text-align: right;\">\n",
              "      <th></th>\n",
              "      <th>event_time</th>\n",
              "      <th>event_type</th>\n",
              "      <th>product_id</th>\n",
              "      <th>category_id</th>\n",
              "      <th>category_code</th>\n",
              "      <th>brand</th>\n",
              "      <th>price</th>\n",
              "      <th>user_id</th>\n",
              "      <th>user_session</th>\n",
              "      <th>hash</th>\n",
              "      <th>hash_int</th>\n",
              "      <th>group</th>\n",
              "    </tr>\n",
              "  </thead>\n",
              "  <tbody>\n",
              "    <tr>\n",
              "      <th>0</th>\n",
              "      <td>2019-12-01 00:00:00 UTC</td>\n",
              "      <td>remove_from_cart</td>\n",
              "      <td>5712790</td>\n",
              "      <td>1487580005268456287</td>\n",
              "      <td>NaN</td>\n",
              "      <td>f.o.x</td>\n",
              "      <td>6.27</td>\n",
              "      <td>576802932</td>\n",
              "      <td>51d85cb0-897f-48d2-918b-ad63965c12dc</td>\n",
              "      <td>6c6abc4f2077ee735acc10873aeec1e84c73fdc61368db...</td>\n",
              "      <td>484344</td>\n",
              "      <td>A</td>\n",
              "    </tr>\n",
              "    <tr>\n",
              "      <th>1</th>\n",
              "      <td>2019-12-01 00:00:00 UTC</td>\n",
              "      <td>view</td>\n",
              "      <td>5764655</td>\n",
              "      <td>1487580005411062629</td>\n",
              "      <td>NaN</td>\n",
              "      <td>cnd</td>\n",
              "      <td>29.05</td>\n",
              "      <td>412120092</td>\n",
              "      <td>8adff31e-2051-4894-9758-224bfa8aec18</td>\n",
              "      <td>1d801c27dc25cc0d23e8807a40e5b67b598ba43f953845...</td>\n",
              "      <td>3251533</td>\n",
              "      <td>B</td>\n",
              "    </tr>\n",
              "    <tr>\n",
              "      <th>2</th>\n",
              "      <td>2019-12-01 00:00:02 UTC</td>\n",
              "      <td>cart</td>\n",
              "      <td>4958</td>\n",
              "      <td>1487580009471148064</td>\n",
              "      <td>NaN</td>\n",
              "      <td>runail</td>\n",
              "      <td>1.19</td>\n",
              "      <td>494077766</td>\n",
              "      <td>c99a50e8-2fac-4c4d-89ec-41c05f114554</td>\n",
              "      <td>fe7130fd86b413dba79ce99577835460ab1d98a665f962...</td>\n",
              "      <td>7807910</td>\n",
              "      <td>A</td>\n",
              "    </tr>\n",
              "  </tbody>\n",
              "</table>\n",
              "</div>"
            ],
            "text/plain": [
              "                event_time        event_type  product_id          category_id  \\\n",
              "0  2019-12-01 00:00:00 UTC  remove_from_cart     5712790  1487580005268456287   \n",
              "1  2019-12-01 00:00:00 UTC              view     5764655  1487580005411062629   \n",
              "2  2019-12-01 00:00:02 UTC              cart        4958  1487580009471148064   \n",
              "\n",
              "  category_code   brand  price    user_id  \\\n",
              "0           NaN   f.o.x   6.27  576802932   \n",
              "1           NaN     cnd  29.05  412120092   \n",
              "2           NaN  runail   1.19  494077766   \n",
              "\n",
              "                           user_session  \\\n",
              "0  51d85cb0-897f-48d2-918b-ad63965c12dc   \n",
              "1  8adff31e-2051-4894-9758-224bfa8aec18   \n",
              "2  c99a50e8-2fac-4c4d-89ec-41c05f114554   \n",
              "\n",
              "                                                hash  hash_int group  \n",
              "0  6c6abc4f2077ee735acc10873aeec1e84c73fdc61368db...    484344     A  \n",
              "1  1d801c27dc25cc0d23e8807a40e5b67b598ba43f953845...   3251533     B  \n",
              "2  fe7130fd86b413dba79ce99577835460ab1d98a665f962...   7807910     A  "
            ]
          },
          "execution_count": 161,
          "metadata": {},
          "output_type": "execute_result"
        }
      ],
      "source": [
        "shop_df.head(3)"
      ]
    },
    {
      "cell_type": "code",
      "execution_count": 162,
      "metadata": {
        "id": "EhNhdo7pCsaF"
      },
      "outputs": [
        {
          "data": {
            "text/html": [
              "<div>\n",
              "<style scoped>\n",
              "    .dataframe tbody tr th:only-of-type {\n",
              "        vertical-align: middle;\n",
              "    }\n",
              "\n",
              "    .dataframe tbody tr th {\n",
              "        vertical-align: top;\n",
              "    }\n",
              "\n",
              "    .dataframe thead th {\n",
              "        text-align: right;\n",
              "    }\n",
              "</style>\n",
              "<table border=\"1\" class=\"dataframe\">\n",
              "  <thead>\n",
              "    <tr style=\"text-align: right;\">\n",
              "      <th></th>\n",
              "      <th>event_time</th>\n",
              "      <th>event_type</th>\n",
              "      <th>product_id</th>\n",
              "      <th>category_id</th>\n",
              "      <th>category_code</th>\n",
              "      <th>brand</th>\n",
              "      <th>price</th>\n",
              "      <th>user_id</th>\n",
              "      <th>user_session</th>\n",
              "      <th>hash</th>\n",
              "      <th>hash_int</th>\n",
              "      <th>group</th>\n",
              "    </tr>\n",
              "  </thead>\n",
              "  <tbody>\n",
              "    <tr>\n",
              "      <th>0</th>\n",
              "      <td>2019-12-01 00:00:00 UTC</td>\n",
              "      <td>remove_from_cart</td>\n",
              "      <td>5712790</td>\n",
              "      <td>1487580005268456287</td>\n",
              "      <td>NaN</td>\n",
              "      <td>f.o.x</td>\n",
              "      <td>6.27</td>\n",
              "      <td>576802932</td>\n",
              "      <td>51d85cb0-897f-48d2-918b-ad63965c12dc</td>\n",
              "      <td>6c6abc4f2077ee735acc10873aeec1e84c73fdc61368db...</td>\n",
              "      <td>484344</td>\n",
              "      <td>A</td>\n",
              "    </tr>\n",
              "    <tr>\n",
              "      <th>1</th>\n",
              "      <td>2019-12-01 00:00:00 UTC</td>\n",
              "      <td>view</td>\n",
              "      <td>5764655</td>\n",
              "      <td>1487580005411062629</td>\n",
              "      <td>NaN</td>\n",
              "      <td>cnd</td>\n",
              "      <td>29.05</td>\n",
              "      <td>412120092</td>\n",
              "      <td>8adff31e-2051-4894-9758-224bfa8aec18</td>\n",
              "      <td>1d801c27dc25cc0d23e8807a40e5b67b598ba43f953845...</td>\n",
              "      <td>3251533</td>\n",
              "      <td>B</td>\n",
              "    </tr>\n",
              "    <tr>\n",
              "      <th>2</th>\n",
              "      <td>2019-12-01 00:00:02 UTC</td>\n",
              "      <td>cart</td>\n",
              "      <td>4958</td>\n",
              "      <td>1487580009471148064</td>\n",
              "      <td>NaN</td>\n",
              "      <td>runail</td>\n",
              "      <td>1.19</td>\n",
              "      <td>494077766</td>\n",
              "      <td>c99a50e8-2fac-4c4d-89ec-41c05f114554</td>\n",
              "      <td>fe7130fd86b413dba79ce99577835460ab1d98a665f962...</td>\n",
              "      <td>7807910</td>\n",
              "      <td>A</td>\n",
              "    </tr>\n",
              "  </tbody>\n",
              "</table>\n",
              "</div>"
            ],
            "text/plain": [
              "                event_time        event_type  product_id          category_id  \\\n",
              "0  2019-12-01 00:00:00 UTC  remove_from_cart     5712790  1487580005268456287   \n",
              "1  2019-12-01 00:00:00 UTC              view     5764655  1487580005411062629   \n",
              "2  2019-12-01 00:00:02 UTC              cart        4958  1487580009471148064   \n",
              "\n",
              "  category_code   brand  price    user_id  \\\n",
              "0           NaN   f.o.x   6.27  576802932   \n",
              "1           NaN     cnd  29.05  412120092   \n",
              "2           NaN  runail   1.19  494077766   \n",
              "\n",
              "                           user_session  \\\n",
              "0  51d85cb0-897f-48d2-918b-ad63965c12dc   \n",
              "1  8adff31e-2051-4894-9758-224bfa8aec18   \n",
              "2  c99a50e8-2fac-4c4d-89ec-41c05f114554   \n",
              "\n",
              "                                                hash  hash_int group  \n",
              "0  6c6abc4f2077ee735acc10873aeec1e84c73fdc61368db...    484344     A  \n",
              "1  1d801c27dc25cc0d23e8807a40e5b67b598ba43f953845...   3251533     B  \n",
              "2  fe7130fd86b413dba79ce99577835460ab1d98a665f962...   7807910     A  "
            ]
          },
          "execution_count": 162,
          "metadata": {},
          "output_type": "execute_result"
        }
      ],
      "source": [
        "# Делим на 2 равные группы\n",
        "def groups_splitter(df, columns, user_salt=None):\n",
        "\n",
        "    if user_salt == None:\n",
        "        salt = salt_generator()\n",
        "    else:\n",
        "        salt = user_salt\n",
        "\n",
        "    df['hash'] = ((df['user_id'].astype(str)) + '#' + salt).apply(lambda x: hashlib.sha256(x.encode('utf-8')).hexdigest())\n",
        "    df['group'] = ((df['hash'].str.slice(start=-6).apply(int, base=16) % 2).map(lambda x: 'A' if x == 0 else 'B'))\n",
        "\n",
        "    return df[columns].drop_duplicates()\n",
        "\n",
        "shop_df.head(3)"
      ]
    },
    {
      "cell_type": "markdown",
      "metadata": {
        "id": "QcCMPIKdEy63"
      },
      "source": [
        "Проверим, как функция работает"
      ]
    },
    {
      "cell_type": "code",
      "execution_count": null,
      "metadata": {
        "id": "Cd7VXBOKEwT9"
      },
      "outputs": [],
      "source": [
        "# дропаем колонки, если они остались от предыдущих упражнений\n",
        "shop_df = shop_df.drop(columns=['hash', 'hash_int', 'group'])\n",
        "# проверяем, все ли окей\n",
        "shop_df.head(3) "
      ]
    },
    {
      "cell_type": "code",
      "execution_count": 178,
      "metadata": {
        "id": "XR-RuGP7E2lE"
      },
      "outputs": [
        {
          "data": {
            "text/html": [
              "<div>\n",
              "<style scoped>\n",
              "    .dataframe tbody tr th:only-of-type {\n",
              "        vertical-align: middle;\n",
              "    }\n",
              "\n",
              "    .dataframe tbody tr th {\n",
              "        vertical-align: top;\n",
              "    }\n",
              "\n",
              "    .dataframe thead th {\n",
              "        text-align: right;\n",
              "    }\n",
              "</style>\n",
              "<table border=\"1\" class=\"dataframe\">\n",
              "  <thead>\n",
              "    <tr style=\"text-align: right;\">\n",
              "      <th></th>\n",
              "      <th>event_time</th>\n",
              "      <th>event_type</th>\n",
              "      <th>product_id</th>\n",
              "      <th>category_id</th>\n",
              "      <th>category_code</th>\n",
              "      <th>brand</th>\n",
              "      <th>price</th>\n",
              "      <th>user_id</th>\n",
              "      <th>user_session</th>\n",
              "      <th>group</th>\n",
              "    </tr>\n",
              "  </thead>\n",
              "  <tbody>\n",
              "    <tr>\n",
              "      <th>0</th>\n",
              "      <td>2019-12-01 00:00:00 UTC</td>\n",
              "      <td>remove_from_cart</td>\n",
              "      <td>5712790</td>\n",
              "      <td>1487580005268456287</td>\n",
              "      <td>NaN</td>\n",
              "      <td>f.o.x</td>\n",
              "      <td>6.27</td>\n",
              "      <td>576802932</td>\n",
              "      <td>51d85cb0-897f-48d2-918b-ad63965c12dc</td>\n",
              "      <td>A</td>\n",
              "    </tr>\n",
              "    <tr>\n",
              "      <th>1</th>\n",
              "      <td>2019-12-01 00:00:00 UTC</td>\n",
              "      <td>view</td>\n",
              "      <td>5764655</td>\n",
              "      <td>1487580005411062629</td>\n",
              "      <td>NaN</td>\n",
              "      <td>cnd</td>\n",
              "      <td>29.05</td>\n",
              "      <td>412120092</td>\n",
              "      <td>8adff31e-2051-4894-9758-224bfa8aec18</td>\n",
              "      <td>A</td>\n",
              "    </tr>\n",
              "    <tr>\n",
              "      <th>2</th>\n",
              "      <td>2019-12-01 00:00:02 UTC</td>\n",
              "      <td>cart</td>\n",
              "      <td>4958</td>\n",
              "      <td>1487580009471148064</td>\n",
              "      <td>NaN</td>\n",
              "      <td>runail</td>\n",
              "      <td>1.19</td>\n",
              "      <td>494077766</td>\n",
              "      <td>c99a50e8-2fac-4c4d-89ec-41c05f114554</td>\n",
              "      <td>A</td>\n",
              "    </tr>\n",
              "    <tr>\n",
              "      <th>3</th>\n",
              "      <td>2019-12-01 00:00:05 UTC</td>\n",
              "      <td>view</td>\n",
              "      <td>5848413</td>\n",
              "      <td>1487580007675986893</td>\n",
              "      <td>NaN</td>\n",
              "      <td>freedecor</td>\n",
              "      <td>0.79</td>\n",
              "      <td>348405118</td>\n",
              "      <td>722ffea5-73c0-4924-8e8f-371ff8031af4</td>\n",
              "      <td>B</td>\n",
              "    </tr>\n",
              "    <tr>\n",
              "      <th>4</th>\n",
              "      <td>2019-12-01 00:00:07 UTC</td>\n",
              "      <td>view</td>\n",
              "      <td>5824148</td>\n",
              "      <td>1487580005511725929</td>\n",
              "      <td>NaN</td>\n",
              "      <td>NaN</td>\n",
              "      <td>5.56</td>\n",
              "      <td>576005683</td>\n",
              "      <td>28172809-7e4a-45ce-bab0-5efa90117cd5</td>\n",
              "      <td>B</td>\n",
              "    </tr>\n",
              "  </tbody>\n",
              "</table>\n",
              "</div>"
            ],
            "text/plain": [
              "                event_time        event_type  product_id          category_id  \\\n",
              "0  2019-12-01 00:00:00 UTC  remove_from_cart     5712790  1487580005268456287   \n",
              "1  2019-12-01 00:00:00 UTC              view     5764655  1487580005411062629   \n",
              "2  2019-12-01 00:00:02 UTC              cart        4958  1487580009471148064   \n",
              "3  2019-12-01 00:00:05 UTC              view     5848413  1487580007675986893   \n",
              "4  2019-12-01 00:00:07 UTC              view     5824148  1487580005511725929   \n",
              "\n",
              "  category_code      brand  price    user_id  \\\n",
              "0           NaN      f.o.x   6.27  576802932   \n",
              "1           NaN        cnd  29.05  412120092   \n",
              "2           NaN     runail   1.19  494077766   \n",
              "3           NaN  freedecor   0.79  348405118   \n",
              "4           NaN        NaN   5.56  576005683   \n",
              "\n",
              "                           user_session group  \n",
              "0  51d85cb0-897f-48d2-918b-ad63965c12dc     A  \n",
              "1  8adff31e-2051-4894-9758-224bfa8aec18     A  \n",
              "2  c99a50e8-2fac-4c4d-89ec-41c05f114554     A  \n",
              "3  722ffea5-73c0-4924-8e8f-371ff8031af4     B  \n",
              "4  28172809-7e4a-45ce-bab0-5efa90117cd5     B  "
            ]
          },
          "execution_count": 178,
          "metadata": {},
          "output_type": "execute_result"
        }
      ],
      "source": [
        "groups = groups_splitter(shop_df.copy(), ['user_id', 'group'])      # передаем копию датафрейма, чтобы исходный не менялся\n",
        "shop_df = pd.merge(shop_df, groups, how='left', on=['user_id'])     # джойним датафрейм с логами с датафреймом юзер-группа\n",
        "shop_df.head(5)"
      ]
    },
    {
      "cell_type": "code",
      "execution_count": 167,
      "metadata": {
        "colab": {
          "base_uri": "https://localhost:8080/"
        },
        "id": "ZabKTwnjSJb0",
        "outputId": "3c265780-6b2f-40f8-d1bb-e14d5fce10bc"
      },
      "outputs": [
        {
          "name": "stdout",
          "output_type": "stream",
          "text": [
            "2019-12-01 00:00:00 UTC 2019-12-31 23:59:57 UTC\n"
          ]
        }
      ],
      "source": [
        "max_date = shop_df['event_time'].max()\n",
        "min_date = shop_df['event_time'].min()\n",
        "print(min_date, max_date)"
      ]
    },
    {
      "cell_type": "markdown",
      "metadata": {
        "id": "Qc58qODPatp7"
      },
      "source": [
        "# Дизайн АВ-теста: формула MDE"
      ]
    },
    {
      "cell_type": "markdown",
      "metadata": {
        "id": "nS4qBVyNau3I"
      },
      "source": [
        "<center>\n",
        "<img src=\"https://raw.githubusercontent.com/YuriyKotov/datasets/master/mde.png\" height=\"150\" width=\"500\">\n",
        "</center>"
      ]
    },
    {
      "cell_type": "markdown",
      "metadata": {
        "id": "VaWv7V_Xbhtf"
      },
      "source": [
        "Как вычислить квантили нормального распределения?\n",
        "\n",
        "Таблицы со значениями можно посмотреть здесь: https://studfile.net/preview/3795082/page:2/"
      ]
    },
    {
      "cell_type": "code",
      "execution_count": 171,
      "metadata": {
        "id": "fd_KDZ6aE9rU"
      },
      "outputs": [
        {
          "name": "stdout",
          "output_type": "stream",
          "text": [
            "1.959963984540054\n",
            "0.8416212335729143\n"
          ]
        }
      ],
      "source": [
        "from scipy.stats import norm\n",
        "print(norm.ppf(1-(0.05 / 2), loc=0, scale=1))\n",
        "print(norm.ppf(1-0.2, loc=0, scale=1))"
      ]
    },
    {
      "cell_type": "code",
      "execution_count": 169,
      "metadata": {
        "id": "a2VaveJJbotT"
      },
      "outputs": [
        {
          "data": {
            "text/html": [
              "<div>\n",
              "<style scoped>\n",
              "    .dataframe tbody tr th:only-of-type {\n",
              "        vertical-align: middle;\n",
              "    }\n",
              "\n",
              "    .dataframe tbody tr th {\n",
              "        vertical-align: top;\n",
              "    }\n",
              "\n",
              "    .dataframe thead th {\n",
              "        text-align: right;\n",
              "    }\n",
              "</style>\n",
              "<table border=\"1\" class=\"dataframe\">\n",
              "  <thead>\n",
              "    <tr style=\"text-align: right;\">\n",
              "      <th></th>\n",
              "      <th>event_time</th>\n",
              "      <th>event_type</th>\n",
              "      <th>product_id</th>\n",
              "      <th>category_id</th>\n",
              "      <th>category_code</th>\n",
              "      <th>brand</th>\n",
              "      <th>price</th>\n",
              "      <th>user_id</th>\n",
              "      <th>user_session</th>\n",
              "      <th>group_x</th>\n",
              "      <th>group_y</th>\n",
              "    </tr>\n",
              "  </thead>\n",
              "  <tbody>\n",
              "    <tr>\n",
              "      <th>0</th>\n",
              "      <td>2019-12-01 00:00:00 UTC</td>\n",
              "      <td>remove_from_cart</td>\n",
              "      <td>5712790</td>\n",
              "      <td>1487580005268456287</td>\n",
              "      <td>NaN</td>\n",
              "      <td>f.o.x</td>\n",
              "      <td>6.27</td>\n",
              "      <td>576802932</td>\n",
              "      <td>51d85cb0-897f-48d2-918b-ad63965c12dc</td>\n",
              "      <td>A</td>\n",
              "      <td>A</td>\n",
              "    </tr>\n",
              "    <tr>\n",
              "      <th>1</th>\n",
              "      <td>2019-12-01 00:00:00 UTC</td>\n",
              "      <td>view</td>\n",
              "      <td>5764655</td>\n",
              "      <td>1487580005411062629</td>\n",
              "      <td>NaN</td>\n",
              "      <td>cnd</td>\n",
              "      <td>29.05</td>\n",
              "      <td>412120092</td>\n",
              "      <td>8adff31e-2051-4894-9758-224bfa8aec18</td>\n",
              "      <td>A</td>\n",
              "      <td>B</td>\n",
              "    </tr>\n",
              "    <tr>\n",
              "      <th>2</th>\n",
              "      <td>2019-12-01 00:00:02 UTC</td>\n",
              "      <td>cart</td>\n",
              "      <td>4958</td>\n",
              "      <td>1487580009471148064</td>\n",
              "      <td>NaN</td>\n",
              "      <td>runail</td>\n",
              "      <td>1.19</td>\n",
              "      <td>494077766</td>\n",
              "      <td>c99a50e8-2fac-4c4d-89ec-41c05f114554</td>\n",
              "      <td>B</td>\n",
              "      <td>A</td>\n",
              "    </tr>\n",
              "    <tr>\n",
              "      <th>3</th>\n",
              "      <td>2019-12-01 00:00:05 UTC</td>\n",
              "      <td>view</td>\n",
              "      <td>5848413</td>\n",
              "      <td>1487580007675986893</td>\n",
              "      <td>NaN</td>\n",
              "      <td>freedecor</td>\n",
              "      <td>0.79</td>\n",
              "      <td>348405118</td>\n",
              "      <td>722ffea5-73c0-4924-8e8f-371ff8031af4</td>\n",
              "      <td>A</td>\n",
              "      <td>A</td>\n",
              "    </tr>\n",
              "    <tr>\n",
              "      <th>4</th>\n",
              "      <td>2019-12-01 00:00:07 UTC</td>\n",
              "      <td>view</td>\n",
              "      <td>5824148</td>\n",
              "      <td>1487580005511725929</td>\n",
              "      <td>NaN</td>\n",
              "      <td>NaN</td>\n",
              "      <td>5.56</td>\n",
              "      <td>576005683</td>\n",
              "      <td>28172809-7e4a-45ce-bab0-5efa90117cd5</td>\n",
              "      <td>B</td>\n",
              "      <td>A</td>\n",
              "    </tr>\n",
              "  </tbody>\n",
              "</table>\n",
              "</div>"
            ],
            "text/plain": [
              "                event_time        event_type  product_id          category_id  \\\n",
              "0  2019-12-01 00:00:00 UTC  remove_from_cart     5712790  1487580005268456287   \n",
              "1  2019-12-01 00:00:00 UTC              view     5764655  1487580005411062629   \n",
              "2  2019-12-01 00:00:02 UTC              cart        4958  1487580009471148064   \n",
              "3  2019-12-01 00:00:05 UTC              view     5848413  1487580007675986893   \n",
              "4  2019-12-01 00:00:07 UTC              view     5824148  1487580005511725929   \n",
              "\n",
              "  category_code      brand  price    user_id  \\\n",
              "0           NaN      f.o.x   6.27  576802932   \n",
              "1           NaN        cnd  29.05  412120092   \n",
              "2           NaN     runail   1.19  494077766   \n",
              "3           NaN  freedecor   0.79  348405118   \n",
              "4           NaN        NaN   5.56  576005683   \n",
              "\n",
              "                           user_session group_x group_y  \n",
              "0  51d85cb0-897f-48d2-918b-ad63965c12dc       A       A  \n",
              "1  8adff31e-2051-4894-9758-224bfa8aec18       A       B  \n",
              "2  c99a50e8-2fac-4c4d-89ec-41c05f114554       B       A  \n",
              "3  722ffea5-73c0-4924-8e8f-371ff8031af4       A       A  \n",
              "4  28172809-7e4a-45ce-bab0-5efa90117cd5       B       A  "
            ]
          },
          "execution_count": 169,
          "metadata": {},
          "output_type": "execute_result"
        }
      ],
      "source": [
        "# Теперь можем написать функцию:\n",
        "def get_mde(metric_vec, alpha=0.05, beta=0.2):\n",
        "\n",
        "    metric_mean, metric_std, metric_n = metric_vec.mean(), metric_vec.std(), metric_vec.count()\n",
        "\n",
        "    z_alpha = norm.ppf(1 - (alpha / 2), loc=0, scale=1)\n",
        "    z_beta = norm.ppf(1 - beta, loc=0, scale=1)\n",
        "\n",
        "    mde = (z_alpha + z_beta)*metric_std / np.sqrt(metric_n)\n",
        "\n",
        "    return mde*100/metric_mean\n",
        "\n",
        "shop_df.head(5)"
      ]
    },
    {
      "cell_type": "code",
      "execution_count": null,
      "metadata": {},
      "outputs": [],
      "source": [
        "# shop_df = shop_df.drop(columns=['group_x', 'group_y'])"
      ]
    },
    {
      "cell_type": "code",
      "execution_count": 176,
      "metadata": {},
      "outputs": [
        {
          "data": {
            "text/html": [
              "<div>\n",
              "<style scoped>\n",
              "    .dataframe tbody tr th:only-of-type {\n",
              "        vertical-align: middle;\n",
              "    }\n",
              "\n",
              "    .dataframe tbody tr th {\n",
              "        vertical-align: top;\n",
              "    }\n",
              "\n",
              "    .dataframe thead th {\n",
              "        text-align: right;\n",
              "    }\n",
              "</style>\n",
              "<table border=\"1\" class=\"dataframe\">\n",
              "  <thead>\n",
              "    <tr style=\"text-align: right;\">\n",
              "      <th></th>\n",
              "      <th>event_time</th>\n",
              "      <th>event_type</th>\n",
              "      <th>product_id</th>\n",
              "      <th>category_id</th>\n",
              "      <th>category_code</th>\n",
              "      <th>brand</th>\n",
              "      <th>price</th>\n",
              "      <th>user_id</th>\n",
              "      <th>user_session</th>\n",
              "    </tr>\n",
              "  </thead>\n",
              "  <tbody>\n",
              "    <tr>\n",
              "      <th>0</th>\n",
              "      <td>2019-12-01 00:00:00 UTC</td>\n",
              "      <td>remove_from_cart</td>\n",
              "      <td>5712790</td>\n",
              "      <td>1487580005268456287</td>\n",
              "      <td>NaN</td>\n",
              "      <td>f.o.x</td>\n",
              "      <td>6.27</td>\n",
              "      <td>576802932</td>\n",
              "      <td>51d85cb0-897f-48d2-918b-ad63965c12dc</td>\n",
              "    </tr>\n",
              "    <tr>\n",
              "      <th>1</th>\n",
              "      <td>2019-12-01 00:00:00 UTC</td>\n",
              "      <td>view</td>\n",
              "      <td>5764655</td>\n",
              "      <td>1487580005411062629</td>\n",
              "      <td>NaN</td>\n",
              "      <td>cnd</td>\n",
              "      <td>29.05</td>\n",
              "      <td>412120092</td>\n",
              "      <td>8adff31e-2051-4894-9758-224bfa8aec18</td>\n",
              "    </tr>\n",
              "    <tr>\n",
              "      <th>2</th>\n",
              "      <td>2019-12-01 00:00:02 UTC</td>\n",
              "      <td>cart</td>\n",
              "      <td>4958</td>\n",
              "      <td>1487580009471148064</td>\n",
              "      <td>NaN</td>\n",
              "      <td>runail</td>\n",
              "      <td>1.19</td>\n",
              "      <td>494077766</td>\n",
              "      <td>c99a50e8-2fac-4c4d-89ec-41c05f114554</td>\n",
              "    </tr>\n",
              "    <tr>\n",
              "      <th>3</th>\n",
              "      <td>2019-12-01 00:00:05 UTC</td>\n",
              "      <td>view</td>\n",
              "      <td>5848413</td>\n",
              "      <td>1487580007675986893</td>\n",
              "      <td>NaN</td>\n",
              "      <td>freedecor</td>\n",
              "      <td>0.79</td>\n",
              "      <td>348405118</td>\n",
              "      <td>722ffea5-73c0-4924-8e8f-371ff8031af4</td>\n",
              "    </tr>\n",
              "    <tr>\n",
              "      <th>4</th>\n",
              "      <td>2019-12-01 00:00:07 UTC</td>\n",
              "      <td>view</td>\n",
              "      <td>5824148</td>\n",
              "      <td>1487580005511725929</td>\n",
              "      <td>NaN</td>\n",
              "      <td>NaN</td>\n",
              "      <td>5.56</td>\n",
              "      <td>576005683</td>\n",
              "      <td>28172809-7e4a-45ce-bab0-5efa90117cd5</td>\n",
              "    </tr>\n",
              "    <tr>\n",
              "      <th>...</th>\n",
              "      <td>...</td>\n",
              "      <td>...</td>\n",
              "      <td>...</td>\n",
              "      <td>...</td>\n",
              "      <td>...</td>\n",
              "      <td>...</td>\n",
              "      <td>...</td>\n",
              "      <td>...</td>\n",
              "      <td>...</td>\n",
              "    </tr>\n",
              "    <tr>\n",
              "      <th>3533281</th>\n",
              "      <td>2019-12-31 23:59:39 UTC</td>\n",
              "      <td>view</td>\n",
              "      <td>5683350</td>\n",
              "      <td>1487580005671109489</td>\n",
              "      <td>NaN</td>\n",
              "      <td>masura</td>\n",
              "      <td>2.84</td>\n",
              "      <td>536812729</td>\n",
              "      <td>e4a2d47c-a956-4c46-8176-745f52ea664b</td>\n",
              "    </tr>\n",
              "    <tr>\n",
              "      <th>3533282</th>\n",
              "      <td>2019-12-31 23:59:46 UTC</td>\n",
              "      <td>view</td>\n",
              "      <td>5888097</td>\n",
              "      <td>1487580013388628160</td>\n",
              "      <td>NaN</td>\n",
              "      <td>shik</td>\n",
              "      <td>179.05</td>\n",
              "      <td>503658154</td>\n",
              "      <td>2dde9867-9e71-4a64-880d-aa68b66aae6d</td>\n",
              "    </tr>\n",
              "    <tr>\n",
              "      <th>3533283</th>\n",
              "      <td>2019-12-31 23:59:51 UTC</td>\n",
              "      <td>view</td>\n",
              "      <td>59975</td>\n",
              "      <td>1487580012096782476</td>\n",
              "      <td>NaN</td>\n",
              "      <td>NaN</td>\n",
              "      <td>7.14</td>\n",
              "      <td>595414541</td>\n",
              "      <td>4c6d80bb-5dd3-4fbb-b592-187b51db2753</td>\n",
              "    </tr>\n",
              "    <tr>\n",
              "      <th>3533284</th>\n",
              "      <td>2019-12-31 23:59:52 UTC</td>\n",
              "      <td>view</td>\n",
              "      <td>5775982</td>\n",
              "      <td>1783999063314661546</td>\n",
              "      <td>NaN</td>\n",
              "      <td>NaN</td>\n",
              "      <td>11.90</td>\n",
              "      <td>397780878</td>\n",
              "      <td>7e8a2b85-153a-44eb-a71f-b748fde14fcc</td>\n",
              "    </tr>\n",
              "    <tr>\n",
              "      <th>3533285</th>\n",
              "      <td>2019-12-31 23:59:57 UTC</td>\n",
              "      <td>view</td>\n",
              "      <td>5635090</td>\n",
              "      <td>1487580005754995573</td>\n",
              "      <td>NaN</td>\n",
              "      <td>NaN</td>\n",
              "      <td>4.44</td>\n",
              "      <td>420652863</td>\n",
              "      <td>546f6af3-a517-4752-a98b-80c4c5860711</td>\n",
              "    </tr>\n",
              "  </tbody>\n",
              "</table>\n",
              "<p>3533286 rows × 9 columns</p>\n",
              "</div>"
            ],
            "text/plain": [
              "                      event_time        event_type  product_id  \\\n",
              "0        2019-12-01 00:00:00 UTC  remove_from_cart     5712790   \n",
              "1        2019-12-01 00:00:00 UTC              view     5764655   \n",
              "2        2019-12-01 00:00:02 UTC              cart        4958   \n",
              "3        2019-12-01 00:00:05 UTC              view     5848413   \n",
              "4        2019-12-01 00:00:07 UTC              view     5824148   \n",
              "...                          ...               ...         ...   \n",
              "3533281  2019-12-31 23:59:39 UTC              view     5683350   \n",
              "3533282  2019-12-31 23:59:46 UTC              view     5888097   \n",
              "3533283  2019-12-31 23:59:51 UTC              view       59975   \n",
              "3533284  2019-12-31 23:59:52 UTC              view     5775982   \n",
              "3533285  2019-12-31 23:59:57 UTC              view     5635090   \n",
              "\n",
              "                 category_id category_code      brand   price    user_id  \\\n",
              "0        1487580005268456287           NaN      f.o.x    6.27  576802932   \n",
              "1        1487580005411062629           NaN        cnd   29.05  412120092   \n",
              "2        1487580009471148064           NaN     runail    1.19  494077766   \n",
              "3        1487580007675986893           NaN  freedecor    0.79  348405118   \n",
              "4        1487580005511725929           NaN        NaN    5.56  576005683   \n",
              "...                      ...           ...        ...     ...        ...   \n",
              "3533281  1487580005671109489           NaN     masura    2.84  536812729   \n",
              "3533282  1487580013388628160           NaN       shik  179.05  503658154   \n",
              "3533283  1487580012096782476           NaN        NaN    7.14  595414541   \n",
              "3533284  1783999063314661546           NaN        NaN   11.90  397780878   \n",
              "3533285  1487580005754995573           NaN        NaN    4.44  420652863   \n",
              "\n",
              "                                 user_session  \n",
              "0        51d85cb0-897f-48d2-918b-ad63965c12dc  \n",
              "1        8adff31e-2051-4894-9758-224bfa8aec18  \n",
              "2        c99a50e8-2fac-4c4d-89ec-41c05f114554  \n",
              "3        722ffea5-73c0-4924-8e8f-371ff8031af4  \n",
              "4        28172809-7e4a-45ce-bab0-5efa90117cd5  \n",
              "...                                       ...  \n",
              "3533281  e4a2d47c-a956-4c46-8176-745f52ea664b  \n",
              "3533282  2dde9867-9e71-4a64-880d-aa68b66aae6d  \n",
              "3533283  4c6d80bb-5dd3-4fbb-b592-187b51db2753  \n",
              "3533284  7e8a2b85-153a-44eb-a71f-b748fde14fcc  \n",
              "3533285  546f6af3-a517-4752-a98b-80c4c5860711  \n",
              "\n",
              "[3533286 rows x 9 columns]"
            ]
          },
          "execution_count": 176,
          "metadata": {},
          "output_type": "execute_result"
        }
      ],
      "source": [
        "shop_df"
      ]
    },
    {
      "cell_type": "code",
      "execution_count": 179,
      "metadata": {
        "id": "Pd_C9-u6bqwb"
      },
      "outputs": [],
      "source": [
        "# Опробуем на сгенерированной поюзерной метрике\n",
        "shop_df_users = shop_df[['user_id', 'group']].drop_duplicates()\n",
        "shop_df_users['metric'] = np.random.randint(100, size=shop_df_users.shape[0])"
      ]
    },
    {
      "cell_type": "code",
      "execution_count": 180,
      "metadata": {
        "id": "R2r-_DY5bwh7"
      },
      "outputs": [
        {
          "data": {
            "text/html": [
              "<div>\n",
              "<style scoped>\n",
              "    .dataframe tbody tr th:only-of-type {\n",
              "        vertical-align: middle;\n",
              "    }\n",
              "\n",
              "    .dataframe tbody tr th {\n",
              "        vertical-align: top;\n",
              "    }\n",
              "\n",
              "    .dataframe thead th {\n",
              "        text-align: right;\n",
              "    }\n",
              "</style>\n",
              "<table border=\"1\" class=\"dataframe\">\n",
              "  <thead>\n",
              "    <tr style=\"text-align: right;\">\n",
              "      <th></th>\n",
              "      <th>user_id</th>\n",
              "      <th>group</th>\n",
              "      <th>metric</th>\n",
              "    </tr>\n",
              "  </thead>\n",
              "  <tbody>\n",
              "    <tr>\n",
              "      <th>0</th>\n",
              "      <td>576802932</td>\n",
              "      <td>A</td>\n",
              "      <td>26</td>\n",
              "    </tr>\n",
              "    <tr>\n",
              "      <th>1</th>\n",
              "      <td>412120092</td>\n",
              "      <td>A</td>\n",
              "      <td>94</td>\n",
              "    </tr>\n",
              "    <tr>\n",
              "      <th>2</th>\n",
              "      <td>494077766</td>\n",
              "      <td>A</td>\n",
              "      <td>14</td>\n",
              "    </tr>\n",
              "    <tr>\n",
              "      <th>3</th>\n",
              "      <td>348405118</td>\n",
              "      <td>B</td>\n",
              "      <td>33</td>\n",
              "    </tr>\n",
              "    <tr>\n",
              "      <th>4</th>\n",
              "      <td>576005683</td>\n",
              "      <td>B</td>\n",
              "      <td>86</td>\n",
              "    </tr>\n",
              "  </tbody>\n",
              "</table>\n",
              "</div>"
            ],
            "text/plain": [
              "     user_id group  metric\n",
              "0  576802932     A      26\n",
              "1  412120092     A      94\n",
              "2  494077766     A      14\n",
              "3  348405118     B      33\n",
              "4  576005683     B      86"
            ]
          },
          "execution_count": 180,
          "metadata": {},
          "output_type": "execute_result"
        }
      ],
      "source": [
        "shop_df_users.head()"
      ]
    },
    {
      "cell_type": "code",
      "execution_count": 210,
      "metadata": {
        "colab": {
          "base_uri": "https://localhost:8080/"
        },
        "id": "nX1StaQqbzC7",
        "outputId": "5b19223c-2a7e-46a2-839b-d95525b2e82d"
      },
      "outputs": [
        {
          "name": "stdout",
          "output_type": "stream",
          "text": [
            "MDE : 0.26850286450754307\n",
            "MDE : 0.2381005509592383\n"
          ]
        }
      ],
      "source": [
        "print(f'MDE : {get_mde(shop_df_users[\"metric\"], alpha=0.05, beta=0.2)}')\n",
        "print(f'MDE : {get_mde(shop_df_users[\"metric\"], alpha=0.05, beta=0.3)}')"
      ]
    },
    {
      "cell_type": "markdown",
      "metadata": {},
      "source": [
        "    1.\tЕсли MDE в 0.2685% устраивает бизнес и доступен достаточный объём данных, выбирайте мощность 80%.\n",
        "\t2.\tЕсли важна экономия времени или данных, а тест нужен для высоких эффектов, мощность 70% и MDE = 0.2381\\% — компромиссный вариант."
      ]
    },
    {
      "cell_type": "markdown",
      "metadata": {
        "id": "_KLCPdKWb66A"
      },
      "source": [
        "# Пример дизайна"
      ]
    },
    {
      "cell_type": "code",
      "execution_count": null,
      "metadata": {
        "colab": {
          "base_uri": "https://localhost:8080/"
        },
        "id": "HkQyonkvcPl-",
        "outputId": "7d3d776a-ba05-4333-d05f-bac1a0547de0"
      },
      "outputs": [
        {
          "name": "stderr",
          "output_type": "stream",
          "text": [
            "kion dataset download: 100%|██████████| 78.8M/78.8M [3:34:07<00:00, 6.13kiB/s]\n"
          ]
        },
        {
          "name": "stderr",
          "output_type": "stream",
          "text": []
        }
      ],
      "source": [
        "import requests\n",
        "\n",
        "# download dataset by chunks\n",
        "url = \"https://github.com/sharthZ23/your-second-recsys/raw/master/data_kion.zip\"\n",
        "\n",
        "req = requests.get(url, stream=True)\n",
        "\n",
        "with open('data_kion.zip', \"wb\") as fd:\n",
        "    total_size_in_bytes = int(req.headers.get('Content-Length', 0))\n",
        "    progress_bar = tqdm(desc='kion dataset download', total=total_size_in_bytes, unit='iB', unit_scale=True)\n",
        "    for chunk in req.iter_content(chunk_size=2 ** 20):\n",
        "        progress_bar.update(len(chunk))\n",
        "        fd.write(chunk)"
      ]
    },
    {
      "cell_type": "code",
      "execution_count": 77,
      "metadata": {
        "id": "lmjmbJvYcJTr"
      },
      "outputs": [],
      "source": [
        "# Распаковываем архив из 3 файлов\n",
        "import zipfile\n",
        "\n",
        "with zipfile.ZipFile('data_kion.zip', 'r') as zip_ref:\n",
        "    zip_ref.extractall()"
      ]
    },
    {
      "cell_type": "markdown",
      "metadata": {
        "id": "zdSMxgjbcu0R"
      },
      "source": [
        "## 📺 Данные: датасет КИОН\n",
        "- **просмотры** фильмов и сериалов в приложении KION\n",
        "- данные о пользователях\n",
        "- данные об айтемах (фильмы, сериалы и т.д.)"
      ]
    },
    {
      "cell_type": "code",
      "execution_count": 78,
      "metadata": {
        "colab": {
          "base_uri": "https://localhost:8080/"
        },
        "id": "YvaQfSVBcLvK",
        "outputId": "7e278b03-f76d-4fb6-c747-e605b5d6f309"
      },
      "outputs": [],
      "source": [
        "interactions = pd.read_csv('data_kion/interactions_df.csv')\n",
        "users = pd.read_csv('data_kion/users.csv')\n",
        "items = pd.read_csv('data_kion/items.csv')"
      ]
    },
    {
      "cell_type": "code",
      "execution_count": 81,
      "metadata": {
        "colab": {
          "base_uri": "https://localhost:8080/",
          "height": 206
        },
        "id": "OIYgzmwScxzj",
        "outputId": "cc48f29c-85c8-4690-99df-80c1e517040b"
      },
      "outputs": [
        {
          "data": {
            "text/html": [
              "<div>\n",
              "<style scoped>\n",
              "    .dataframe tbody tr th:only-of-type {\n",
              "        vertical-align: middle;\n",
              "    }\n",
              "\n",
              "    .dataframe tbody tr th {\n",
              "        vertical-align: top;\n",
              "    }\n",
              "\n",
              "    .dataframe thead th {\n",
              "        text-align: right;\n",
              "    }\n",
              "</style>\n",
              "<table border=\"1\" class=\"dataframe\">\n",
              "  <thead>\n",
              "    <tr style=\"text-align: right;\">\n",
              "      <th></th>\n",
              "      <th>user_id</th>\n",
              "      <th>item_id</th>\n",
              "      <th>last_watch_dt</th>\n",
              "      <th>total_dur</th>\n",
              "      <th>watched_pct</th>\n",
              "    </tr>\n",
              "  </thead>\n",
              "  <tbody>\n",
              "    <tr>\n",
              "      <th>0</th>\n",
              "      <td>176549</td>\n",
              "      <td>9506</td>\n",
              "      <td>2021-05-11</td>\n",
              "      <td>4250</td>\n",
              "      <td>72.0</td>\n",
              "    </tr>\n",
              "    <tr>\n",
              "      <th>1</th>\n",
              "      <td>699317</td>\n",
              "      <td>1659</td>\n",
              "      <td>2021-05-29</td>\n",
              "      <td>8317</td>\n",
              "      <td>100.0</td>\n",
              "    </tr>\n",
              "    <tr>\n",
              "      <th>2</th>\n",
              "      <td>656683</td>\n",
              "      <td>7107</td>\n",
              "      <td>2021-05-09</td>\n",
              "      <td>10</td>\n",
              "      <td>0.0</td>\n",
              "    </tr>\n",
              "    <tr>\n",
              "      <th>3</th>\n",
              "      <td>864613</td>\n",
              "      <td>7638</td>\n",
              "      <td>2021-07-05</td>\n",
              "      <td>14483</td>\n",
              "      <td>100.0</td>\n",
              "    </tr>\n",
              "    <tr>\n",
              "      <th>4</th>\n",
              "      <td>964868</td>\n",
              "      <td>9506</td>\n",
              "      <td>2021-04-30</td>\n",
              "      <td>6725</td>\n",
              "      <td>100.0</td>\n",
              "    </tr>\n",
              "  </tbody>\n",
              "</table>\n",
              "</div>"
            ],
            "text/plain": [
              "   user_id  item_id last_watch_dt  total_dur  watched_pct\n",
              "0   176549     9506    2021-05-11       4250         72.0\n",
              "1   699317     1659    2021-05-29       8317        100.0\n",
              "2   656683     7107    2021-05-09         10          0.0\n",
              "3   864613     7638    2021-07-05      14483        100.0\n",
              "4   964868     9506    2021-04-30       6725        100.0"
            ]
          },
          "execution_count": 81,
          "metadata": {},
          "output_type": "execute_result"
        }
      ],
      "source": [
        "interactions.head(5)\n",
        "\n",
        "# user_id - уникальный идентификатор пользователя\n",
        "# item_id - уникальный идентификатор контента\n",
        "# last_watch_dt - последняя дата просмотра юзером определенного контента\n",
        "# total_dur - суммарная продолжительность просмотра определенного контента юзером (в секундах)\n",
        "# watched_pct - процент просмотренного контента от общей продолжительности"
      ]
    },
    {
      "cell_type": "code",
      "execution_count": 82,
      "metadata": {
        "colab": {
          "base_uri": "https://localhost:8080/"
        },
        "id": "uTZTbul0c1VE",
        "outputId": "d190ddfb-9410-41b0-d695-b8b05fa5f3cb"
      },
      "outputs": [
        {
          "data": {
            "text/plain": [
              "(5476251, 5)"
            ]
          },
          "execution_count": 82,
          "metadata": {},
          "output_type": "execute_result"
        }
      ],
      "source": [
        "interactions.shape"
      ]
    },
    {
      "cell_type": "code",
      "execution_count": 83,
      "metadata": {
        "colab": {
          "base_uri": "https://localhost:8080/",
          "height": 206
        },
        "id": "l_4SmTE_c8ID",
        "outputId": "89fced34-15f8-45b2-f69e-aa8b5d84476b"
      },
      "outputs": [
        {
          "data": {
            "text/html": [
              "<div>\n",
              "<style scoped>\n",
              "    .dataframe tbody tr th:only-of-type {\n",
              "        vertical-align: middle;\n",
              "    }\n",
              "\n",
              "    .dataframe tbody tr th {\n",
              "        vertical-align: top;\n",
              "    }\n",
              "\n",
              "    .dataframe thead th {\n",
              "        text-align: right;\n",
              "    }\n",
              "</style>\n",
              "<table border=\"1\" class=\"dataframe\">\n",
              "  <thead>\n",
              "    <tr style=\"text-align: right;\">\n",
              "      <th></th>\n",
              "      <th>user_id</th>\n",
              "      <th>age</th>\n",
              "      <th>income</th>\n",
              "      <th>sex</th>\n",
              "      <th>kids_flg</th>\n",
              "    </tr>\n",
              "  </thead>\n",
              "  <tbody>\n",
              "    <tr>\n",
              "      <th>0</th>\n",
              "      <td>973171</td>\n",
              "      <td>age_25_34</td>\n",
              "      <td>income_60_90</td>\n",
              "      <td>М</td>\n",
              "      <td>1</td>\n",
              "    </tr>\n",
              "    <tr>\n",
              "      <th>1</th>\n",
              "      <td>962099</td>\n",
              "      <td>age_18_24</td>\n",
              "      <td>income_20_40</td>\n",
              "      <td>М</td>\n",
              "      <td>0</td>\n",
              "    </tr>\n",
              "    <tr>\n",
              "      <th>2</th>\n",
              "      <td>1047345</td>\n",
              "      <td>age_45_54</td>\n",
              "      <td>income_40_60</td>\n",
              "      <td>Ж</td>\n",
              "      <td>0</td>\n",
              "    </tr>\n",
              "    <tr>\n",
              "      <th>3</th>\n",
              "      <td>721985</td>\n",
              "      <td>age_45_54</td>\n",
              "      <td>income_20_40</td>\n",
              "      <td>Ж</td>\n",
              "      <td>0</td>\n",
              "    </tr>\n",
              "    <tr>\n",
              "      <th>4</th>\n",
              "      <td>704055</td>\n",
              "      <td>age_35_44</td>\n",
              "      <td>income_60_90</td>\n",
              "      <td>Ж</td>\n",
              "      <td>0</td>\n",
              "    </tr>\n",
              "  </tbody>\n",
              "</table>\n",
              "</div>"
            ],
            "text/plain": [
              "   user_id        age        income sex  kids_flg\n",
              "0   973171  age_25_34  income_60_90   М         1\n",
              "1   962099  age_18_24  income_20_40   М         0\n",
              "2  1047345  age_45_54  income_40_60   Ж         0\n",
              "3   721985  age_45_54  income_20_40   Ж         0\n",
              "4   704055  age_35_44  income_60_90   Ж         0"
            ]
          },
          "execution_count": 83,
          "metadata": {},
          "output_type": "execute_result"
        }
      ],
      "source": [
        "users.head()\n",
        "\n",
        "# user_id - уникальный идентификатор пользователя\n",
        "# kids_flg = 0 - детей нет, если 1 - дети есть\n",
        "# income - группа, в которую юзер отнесен по доходу\n",
        "# age - группа, в которую юзер отнесен по возрасту\n",
        "# sex - пол"
      ]
    },
    {
      "cell_type": "code",
      "execution_count": 84,
      "metadata": {
        "colab": {
          "base_uri": "https://localhost:8080/"
        },
        "id": "6S5IrN2tc-wq",
        "outputId": "d9470f9b-adf3-4646-c2a3-529d14c71fce"
      },
      "outputs": [
        {
          "data": {
            "text/plain": [
              "(840197, 5)"
            ]
          },
          "execution_count": 84,
          "metadata": {},
          "output_type": "execute_result"
        }
      ],
      "source": [
        "users.shape"
      ]
    },
    {
      "cell_type": "code",
      "execution_count": 85,
      "metadata": {
        "colab": {
          "base_uri": "https://localhost:8080/",
          "height": 237
        },
        "id": "bpHuTFpgdBFj",
        "outputId": "530ea28d-5d78-4a0e-ad52-36751781b640"
      },
      "outputs": [
        {
          "data": {
            "text/html": [
              "<div>\n",
              "<style scoped>\n",
              "    .dataframe tbody tr th:only-of-type {\n",
              "        vertical-align: middle;\n",
              "    }\n",
              "\n",
              "    .dataframe tbody tr th {\n",
              "        vertical-align: top;\n",
              "    }\n",
              "\n",
              "    .dataframe thead th {\n",
              "        text-align: right;\n",
              "    }\n",
              "</style>\n",
              "<table border=\"1\" class=\"dataframe\">\n",
              "  <thead>\n",
              "    <tr style=\"text-align: right;\">\n",
              "      <th></th>\n",
              "      <th>age</th>\n",
              "      <th>user_id</th>\n",
              "    </tr>\n",
              "  </thead>\n",
              "  <tbody>\n",
              "    <tr>\n",
              "      <th>0</th>\n",
              "      <td>age_18_24</td>\n",
              "      <td>127672</td>\n",
              "    </tr>\n",
              "    <tr>\n",
              "      <th>1</th>\n",
              "      <td>age_25_34</td>\n",
              "      <td>233926</td>\n",
              "    </tr>\n",
              "    <tr>\n",
              "      <th>2</th>\n",
              "      <td>age_35_44</td>\n",
              "      <td>207043</td>\n",
              "    </tr>\n",
              "    <tr>\n",
              "      <th>3</th>\n",
              "      <td>age_45_54</td>\n",
              "      <td>135925</td>\n",
              "    </tr>\n",
              "    <tr>\n",
              "      <th>4</th>\n",
              "      <td>age_55_64</td>\n",
              "      <td>75265</td>\n",
              "    </tr>\n",
              "    <tr>\n",
              "      <th>5</th>\n",
              "      <td>age_65_inf</td>\n",
              "      <td>46271</td>\n",
              "    </tr>\n",
              "  </tbody>\n",
              "</table>\n",
              "</div>"
            ],
            "text/plain": [
              "          age  user_id\n",
              "0   age_18_24   127672\n",
              "1   age_25_34   233926\n",
              "2   age_35_44   207043\n",
              "3   age_45_54   135925\n",
              "4   age_55_64    75265\n",
              "5  age_65_inf    46271"
            ]
          },
          "execution_count": 85,
          "metadata": {},
          "output_type": "execute_result"
        }
      ],
      "source": [
        "users.groupby('age', as_index=False).count()[['age', 'user_id']]"
      ]
    },
    {
      "cell_type": "code",
      "execution_count": 86,
      "metadata": {
        "colab": {
          "base_uri": "https://localhost:8080/",
          "height": 293
        },
        "id": "g_mRttRNdEWS",
        "outputId": "f5c0e1db-3fab-46fa-e1d4-075df443a3ff"
      },
      "outputs": [
        {
          "data": {
            "text/html": [
              "<div>\n",
              "<style scoped>\n",
              "    .dataframe tbody tr th:only-of-type {\n",
              "        vertical-align: middle;\n",
              "    }\n",
              "\n",
              "    .dataframe tbody tr th {\n",
              "        vertical-align: top;\n",
              "    }\n",
              "\n",
              "    .dataframe thead th {\n",
              "        text-align: right;\n",
              "    }\n",
              "</style>\n",
              "<table border=\"1\" class=\"dataframe\">\n",
              "  <thead>\n",
              "    <tr style=\"text-align: right;\">\n",
              "      <th></th>\n",
              "      <th>item_id</th>\n",
              "      <th>content_type</th>\n",
              "      <th>title</th>\n",
              "      <th>title_orig</th>\n",
              "      <th>release_year</th>\n",
              "      <th>genres</th>\n",
              "      <th>countries</th>\n",
              "      <th>for_kids</th>\n",
              "      <th>age_rating</th>\n",
              "      <th>studios</th>\n",
              "      <th>directors</th>\n",
              "      <th>actors</th>\n",
              "      <th>description</th>\n",
              "      <th>keywords</th>\n",
              "    </tr>\n",
              "  </thead>\n",
              "  <tbody>\n",
              "    <tr>\n",
              "      <th>0</th>\n",
              "      <td>10711</td>\n",
              "      <td>film</td>\n",
              "      <td>Поговори с ней</td>\n",
              "      <td>Hable con ella</td>\n",
              "      <td>2002.0</td>\n",
              "      <td>драмы, зарубежные, детективы, мелодрамы</td>\n",
              "      <td>Испания</td>\n",
              "      <td>NaN</td>\n",
              "      <td>16.0</td>\n",
              "      <td>NaN</td>\n",
              "      <td>Педро Альмодовар</td>\n",
              "      <td>Адольфо Фернандес, Ана Фернандес, Дарио Гранди...</td>\n",
              "      <td>Мелодрама легендарного Педро Альмодовара «Пого...</td>\n",
              "      <td>Поговори, ней, 2002, Испания, друзья, любовь, ...</td>\n",
              "    </tr>\n",
              "    <tr>\n",
              "      <th>1</th>\n",
              "      <td>2508</td>\n",
              "      <td>film</td>\n",
              "      <td>Голые перцы</td>\n",
              "      <td>Search Party</td>\n",
              "      <td>2014.0</td>\n",
              "      <td>зарубежные, приключения, комедии</td>\n",
              "      <td>США</td>\n",
              "      <td>NaN</td>\n",
              "      <td>16.0</td>\n",
              "      <td>NaN</td>\n",
              "      <td>Скот Армстронг</td>\n",
              "      <td>Адам Палли, Брайан Хаски, Дж.Б. Смув, Джейсон ...</td>\n",
              "      <td>Уморительная современная комедия на популярную...</td>\n",
              "      <td>Голые, перцы, 2014, США, друзья, свадьбы, прео...</td>\n",
              "    </tr>\n",
              "    <tr>\n",
              "      <th>2</th>\n",
              "      <td>10716</td>\n",
              "      <td>film</td>\n",
              "      <td>Тактическая сила</td>\n",
              "      <td>Tactical Force</td>\n",
              "      <td>2011.0</td>\n",
              "      <td>криминал, зарубежные, триллеры, боевики, комедии</td>\n",
              "      <td>Канада</td>\n",
              "      <td>NaN</td>\n",
              "      <td>16.0</td>\n",
              "      <td>NaN</td>\n",
              "      <td>Адам П. Калтраро</td>\n",
              "      <td>Адриан Холмс, Даррен Шалави, Джерри Вассерман,...</td>\n",
              "      <td>Профессиональный рестлер Стив Остин («Все или ...</td>\n",
              "      <td>Тактическая, сила, 2011, Канада, бандиты, ганг...</td>\n",
              "    </tr>\n",
              "    <tr>\n",
              "      <th>3</th>\n",
              "      <td>7868</td>\n",
              "      <td>film</td>\n",
              "      <td>45 лет</td>\n",
              "      <td>45 Years</td>\n",
              "      <td>2015.0</td>\n",
              "      <td>драмы, зарубежные, мелодрамы</td>\n",
              "      <td>Великобритания</td>\n",
              "      <td>NaN</td>\n",
              "      <td>16.0</td>\n",
              "      <td>NaN</td>\n",
              "      <td>Эндрю Хэй</td>\n",
              "      <td>Александра Риддлстон-Барретт, Джеральдин Джейм...</td>\n",
              "      <td>Шарлотта Рэмплинг, Том Кортни, Джеральдин Джей...</td>\n",
              "      <td>45, лет, 2015, Великобритания, брак, жизнь, лю...</td>\n",
              "    </tr>\n",
              "    <tr>\n",
              "      <th>4</th>\n",
              "      <td>16268</td>\n",
              "      <td>film</td>\n",
              "      <td>Все решает мгновение</td>\n",
              "      <td>NaN</td>\n",
              "      <td>1978.0</td>\n",
              "      <td>драмы, спорт, советские, мелодрамы</td>\n",
              "      <td>СССР</td>\n",
              "      <td>NaN</td>\n",
              "      <td>12.0</td>\n",
              "      <td>Ленфильм</td>\n",
              "      <td>Виктор Садовский</td>\n",
              "      <td>Александр Абдулов, Александр Демьяненко, Алекс...</td>\n",
              "      <td>Расчетливая чаровница из советского кинохита «...</td>\n",
              "      <td>Все, решает, мгновение, 1978, СССР, сильные, ж...</td>\n",
              "    </tr>\n",
              "  </tbody>\n",
              "</table>\n",
              "</div>"
            ],
            "text/plain": [
              "   item_id content_type                 title      title_orig  release_year  \\\n",
              "0    10711         film        Поговори с ней  Hable con ella        2002.0   \n",
              "1     2508         film           Голые перцы    Search Party        2014.0   \n",
              "2    10716         film      Тактическая сила  Tactical Force        2011.0   \n",
              "3     7868         film                45 лет        45 Years        2015.0   \n",
              "4    16268         film  Все решает мгновение             NaN        1978.0   \n",
              "\n",
              "                                             genres       countries  for_kids  \\\n",
              "0           драмы, зарубежные, детективы, мелодрамы         Испания       NaN   \n",
              "1                  зарубежные, приключения, комедии             США       NaN   \n",
              "2  криминал, зарубежные, триллеры, боевики, комедии          Канада       NaN   \n",
              "3                      драмы, зарубежные, мелодрамы  Великобритания       NaN   \n",
              "4                драмы, спорт, советские, мелодрамы            СССР       NaN   \n",
              "\n",
              "   age_rating   studios         directors  \\\n",
              "0        16.0       NaN  Педро Альмодовар   \n",
              "1        16.0       NaN    Скот Армстронг   \n",
              "2        16.0       NaN  Адам П. Калтраро   \n",
              "3        16.0       NaN         Эндрю Хэй   \n",
              "4        12.0  Ленфильм  Виктор Садовский   \n",
              "\n",
              "                                              actors  \\\n",
              "0  Адольфо Фернандес, Ана Фернандес, Дарио Гранди...   \n",
              "1  Адам Палли, Брайан Хаски, Дж.Б. Смув, Джейсон ...   \n",
              "2  Адриан Холмс, Даррен Шалави, Джерри Вассерман,...   \n",
              "3  Александра Риддлстон-Барретт, Джеральдин Джейм...   \n",
              "4  Александр Абдулов, Александр Демьяненко, Алекс...   \n",
              "\n",
              "                                         description  \\\n",
              "0  Мелодрама легендарного Педро Альмодовара «Пого...   \n",
              "1  Уморительная современная комедия на популярную...   \n",
              "2  Профессиональный рестлер Стив Остин («Все или ...   \n",
              "3  Шарлотта Рэмплинг, Том Кортни, Джеральдин Джей...   \n",
              "4  Расчетливая чаровница из советского кинохита «...   \n",
              "\n",
              "                                            keywords  \n",
              "0  Поговори, ней, 2002, Испания, друзья, любовь, ...  \n",
              "1  Голые, перцы, 2014, США, друзья, свадьбы, прео...  \n",
              "2  Тактическая, сила, 2011, Канада, бандиты, ганг...  \n",
              "3  45, лет, 2015, Великобритания, брак, жизнь, лю...  \n",
              "4  Все, решает, мгновение, 1978, СССР, сильные, ж...  "
            ]
          },
          "execution_count": 86,
          "metadata": {},
          "output_type": "execute_result"
        }
      ],
      "source": [
        "items.head(5)"
      ]
    },
    {
      "cell_type": "code",
      "execution_count": 87,
      "metadata": {
        "colab": {
          "base_uri": "https://localhost:8080/"
        },
        "id": "RKEKEsdffTLT",
        "outputId": "7dbf7000-317a-4333-8511-aa3ed4e89a60"
      },
      "outputs": [
        {
          "data": {
            "text/plain": [
              "(15963, 14)"
            ]
          },
          "execution_count": 87,
          "metadata": {},
          "output_type": "execute_result"
        }
      ],
      "source": [
        "items.shape"
      ]
    },
    {
      "cell_type": "code",
      "execution_count": 88,
      "metadata": {
        "colab": {
          "base_uri": "https://localhost:8080/",
          "height": 112
        },
        "id": "BF8pNTEEfbwK",
        "outputId": "14560e1a-3c0a-4c99-e2b6-416f4b92949f"
      },
      "outputs": [
        {
          "data": {
            "text/html": [
              "<div>\n",
              "<style scoped>\n",
              "    .dataframe tbody tr th:only-of-type {\n",
              "        vertical-align: middle;\n",
              "    }\n",
              "\n",
              "    .dataframe tbody tr th {\n",
              "        vertical-align: top;\n",
              "    }\n",
              "\n",
              "    .dataframe thead th {\n",
              "        text-align: right;\n",
              "    }\n",
              "</style>\n",
              "<table border=\"1\" class=\"dataframe\">\n",
              "  <thead>\n",
              "    <tr style=\"text-align: right;\">\n",
              "      <th></th>\n",
              "      <th>content_type</th>\n",
              "      <th>item_id</th>\n",
              "    </tr>\n",
              "  </thead>\n",
              "  <tbody>\n",
              "    <tr>\n",
              "      <th>0</th>\n",
              "      <td>film</td>\n",
              "      <td>12002</td>\n",
              "    </tr>\n",
              "    <tr>\n",
              "      <th>1</th>\n",
              "      <td>series</td>\n",
              "      <td>3961</td>\n",
              "    </tr>\n",
              "  </tbody>\n",
              "</table>\n",
              "</div>"
            ],
            "text/plain": [
              "  content_type  item_id\n",
              "0         film    12002\n",
              "1       series     3961"
            ]
          },
          "execution_count": 88,
          "metadata": {},
          "output_type": "execute_result"
        }
      ],
      "source": [
        "items.groupby('content_type', as_index=False).count()[['content_type', 'item_id']]"
      ]
    },
    {
      "cell_type": "code",
      "execution_count": 89,
      "metadata": {
        "colab": {
          "base_uri": "https://localhost:8080/"
        },
        "id": "7j8ykDkSfnTK",
        "outputId": "09f2b348-78af-486f-b920-08407295c884"
      },
      "outputs": [
        {
          "name": "stdout",
          "output_type": "stream",
          "text": [
            "Уникальных юзеров в interactions: 962_179\n",
            "Уникальных айтемов в interactions: 15_706\n"
          ]
        }
      ],
      "source": [
        "# предобработка данных\n",
        "interactions['last_watch_dt'] = pd.to_datetime(interactions['last_watch_dt']).map(lambda x: x.date())\n",
        "interactions['user_id'] = interactions['user_id'].astype(str)\n",
        "\n",
        "print(f\"Уникальных юзеров в interactions: {interactions['user_id'].nunique():_}\")\n",
        "print(f\"Уникальных айтемов в interactions: {interactions['item_id'].nunique():_}\")"
      ]
    },
    {
      "cell_type": "code",
      "execution_count": 90,
      "metadata": {
        "id": "HwEAUf1Wf8ty"
      },
      "outputs": [],
      "source": [
        "# Оценим сколько у нас пользователей за 1 и 2 недели"
      ]
    },
    {
      "cell_type": "code",
      "execution_count": 91,
      "metadata": {
        "colab": {
          "base_uri": "https://localhost:8080/"
        },
        "id": "DrYAcoVXgpoK",
        "outputId": "871d7bb3-2e36-49f7-b84d-65e9a1c6fcbb"
      },
      "outputs": [
        {
          "name": "stdout",
          "output_type": "stream",
          "text": [
            "2021-03-13 2021-08-22\n"
          ]
        }
      ],
      "source": [
        "max_date = interactions['last_watch_dt'].max()\n",
        "min_date = interactions['last_watch_dt'].min()\n",
        "print(min_date, max_date)"
      ]
    },
    {
      "cell_type": "code",
      "execution_count": 92,
      "metadata": {
        "colab": {
          "base_uri": "https://localhost:8080/"
        },
        "id": "Oqyc2GMLgrR6",
        "outputId": "1c823403-8edb-40f8-a30a-1a343c29180b"
      },
      "outputs": [
        {
          "data": {
            "text/plain": [
              "185907"
            ]
          },
          "execution_count": 92,
          "metadata": {},
          "output_type": "execute_result"
        }
      ],
      "source": [
        "interactions[interactions['last_watch_dt'] >= max_date - datetime.timedelta(days=7)]['user_id'].nunique()"
      ]
    },
    {
      "cell_type": "code",
      "execution_count": 93,
      "metadata": {
        "colab": {
          "base_uri": "https://localhost:8080/"
        },
        "id": "iACm20Oagtl0",
        "outputId": "0b43db29-d88f-453c-804f-6f84eb27eb0d"
      },
      "outputs": [
        {
          "data": {
            "text/plain": [
              "279129"
            ]
          },
          "execution_count": 93,
          "metadata": {},
          "output_type": "execute_result"
        }
      ],
      "source": [
        "interactions[interactions['last_watch_dt'] >= max_date - datetime.timedelta(days=14)]['user_id'].nunique()"
      ]
    },
    {
      "cell_type": "code",
      "execution_count": 94,
      "metadata": {
        "colab": {
          "base_uri": "https://localhost:8080/"
        },
        "id": "WQ3qn32WgyCS",
        "outputId": "dbfcea6e-36d7-48b9-8481-9f0856422e35"
      },
      "outputs": [
        {
          "name": "stderr",
          "output_type": "stream",
          "text": [
            "/var/folders/rf/r9_1j8lj3m72m2lv3v1tp3rh0000gn/T/ipykernel_47883/1971851732.py:3: FutureWarning: The provided callable <built-in function sum> is currently using SeriesGroupBy.sum. In a future version of pandas, the provided callable will be used directly. To keep current behavior pass the string \"sum\" instead.\n",
            "  week = week.groupby('user_id', as_index=False).agg({'total_dur': sum})\n"
          ]
        }
      ],
      "source": [
        "# выделим данные за одну (последнюю) неделю\n",
        "week = interactions[interactions['last_watch_dt'] >= max_date - datetime.timedelta(days=7)]\n",
        "week = week.groupby('user_id', as_index=False).agg({'total_dur': sum})"
      ]
    },
    {
      "cell_type": "code",
      "execution_count": 95,
      "metadata": {
        "colab": {
          "base_uri": "https://localhost:8080/",
          "height": 206
        },
        "id": "uLYECoAdg_aq",
        "outputId": "133281b6-d292-435e-8311-3438dd67c319"
      },
      "outputs": [
        {
          "data": {
            "text/html": [
              "<div>\n",
              "<style scoped>\n",
              "    .dataframe tbody tr th:only-of-type {\n",
              "        vertical-align: middle;\n",
              "    }\n",
              "\n",
              "    .dataframe tbody tr th {\n",
              "        vertical-align: top;\n",
              "    }\n",
              "\n",
              "    .dataframe thead th {\n",
              "        text-align: right;\n",
              "    }\n",
              "</style>\n",
              "<table border=\"1\" class=\"dataframe\">\n",
              "  <thead>\n",
              "    <tr style=\"text-align: right;\">\n",
              "      <th></th>\n",
              "      <th>user_id</th>\n",
              "      <th>total_dur</th>\n",
              "    </tr>\n",
              "  </thead>\n",
              "  <tbody>\n",
              "    <tr>\n",
              "      <th>0</th>\n",
              "      <td>1</td>\n",
              "      <td>1593</td>\n",
              "    </tr>\n",
              "    <tr>\n",
              "      <th>1</th>\n",
              "      <td>1000001</td>\n",
              "      <td>52</td>\n",
              "    </tr>\n",
              "    <tr>\n",
              "      <th>2</th>\n",
              "      <td>1000003</td>\n",
              "      <td>625</td>\n",
              "    </tr>\n",
              "    <tr>\n",
              "      <th>3</th>\n",
              "      <td>1000008</td>\n",
              "      <td>3691</td>\n",
              "    </tr>\n",
              "    <tr>\n",
              "      <th>4</th>\n",
              "      <td>1000009</td>\n",
              "      <td>2444</td>\n",
              "    </tr>\n",
              "  </tbody>\n",
              "</table>\n",
              "</div>"
            ],
            "text/plain": [
              "   user_id  total_dur\n",
              "0        1       1593\n",
              "1  1000001         52\n",
              "2  1000003        625\n",
              "3  1000008       3691\n",
              "4  1000009       2444"
            ]
          },
          "execution_count": 95,
          "metadata": {},
          "output_type": "execute_result"
        }
      ],
      "source": [
        "week.head()\n",
        "# TVTu"
      ]
    },
    {
      "cell_type": "markdown",
      "metadata": {
        "id": "2dRVkGLdocdL"
      },
      "source": [
        "## Выбор метрики\n",
        "\n",
        "- хотим использовать метрику длину просмотра на пользователя (total_dur в датасете) - так как это основная метрика, на которую смотрит бизнес\n",
        "\n",
        "- То есть хотим, чтобы в тесте в группе B средняя длина просмотра на пользователя увеличилась\n",
        "\n",
        "# Выбор эффекта\n",
        "\n",
        "Пусть на первом этапе решили, что интересует эффект = 5% как разница между группами\n",
        "\n",
        "### Посмотрим на распределение метрики\n",
        "\n",
        "(помним: дисперсия должна быть невысокая)"
      ]
    },
    {
      "cell_type": "code",
      "execution_count": 193,
      "metadata": {
        "colab": {
          "base_uri": "https://localhost:8080/",
          "height": 444
        },
        "id": "yy5ut6sGhGdJ",
        "outputId": "5b4eeab6-bded-4c94-934a-031e83705b2f"
      },
      "outputs": [
        {
          "data": {
            "text/plain": [
              "<Axes: >"
            ]
          },
          "execution_count": 193,
          "metadata": {},
          "output_type": "execute_result"
        },
        {
          "data": {
            "image/png": "[encoded data removed]",
            "text/plain": [
              "<Figure size 640x480 with 1 Axes>"
            ]
          },
          "metadata": {},
          "output_type": "display_data"
        }
      ],
      "source": [
        "sns.boxplot(week['total_dur'].values, fliersize=3)"
      ]
    },
    {
      "cell_type": "code",
      "execution_count": 97,
      "metadata": {
        "colab": {
          "base_uri": "https://localhost:8080/"
        },
        "id": "kUqO7o3WoewB",
        "outputId": "44f92df3-8dcd-4ee3-ef22-0054839678df"
      },
      "outputs": [
        {
          "data": {
            "text/plain": [
              "np.int64(9731801)"
            ]
          },
          "execution_count": 97,
          "metadata": {},
          "output_type": "execute_result"
        }
      ],
      "source": [
        "week['total_dur'].max()"
      ]
    },
    {
      "cell_type": "code",
      "execution_count": 98,
      "metadata": {
        "colab": {
          "base_uri": "https://localhost:8080/"
        },
        "id": "uLyxDQa1oiVI",
        "outputId": "129603f9-72f1-4732-e2f7-b0f499765d59"
      },
      "outputs": [
        {
          "data": {
            "text/plain": [
              "np.float64(62639.864877425716)"
            ]
          },
          "execution_count": 98,
          "metadata": {},
          "output_type": "execute_result"
        }
      ],
      "source": [
        "week['total_dur'].std()"
      ]
    },
    {
      "cell_type": "code",
      "execution_count": 99,
      "metadata": {
        "colab": {
          "base_uri": "https://localhost:8080/"
        },
        "id": "qbvzlziYokTq",
        "outputId": "1b5be384-3165-4ff4-e941-c51c2d065d32"
      },
      "outputs": [
        {
          "name": "stdout",
          "output_type": "stream",
          "text": [
            "(185907, 2)\n",
            "(183790, 2)\n"
          ]
        }
      ],
      "source": [
        "print(week.shape)\n",
        "week = week[(week['total_dur'] < week['total_dur'].std() * 3)]\n",
        "print(week.shape)"
      ]
    },
    {
      "cell_type": "code",
      "execution_count": 100,
      "metadata": {
        "colab": {
          "base_uri": "https://localhost:8080/",
          "height": 605
        },
        "id": "joQHzS6Eoo7B",
        "outputId": "f0090bc0-2e02-4b76-c061-7a120ea58555"
      },
      "outputs": [
        {
          "data": {
            "image/png": "[encoded data removed]",
            "text/plain": [
              "<Figure size 700x700 with 1 Axes>"
            ]
          },
          "metadata": {},
          "output_type": "display_data"
        }
      ],
      "source": [
        "week['total_dur'].hist(bins=100, figsize=(7,7))\n",
        "plt.ylim([0, 10000])\n",
        "plt.grid(False)"
      ]
    },
    {
      "cell_type": "markdown",
      "metadata": {
        "id": "SGxWFiI3o99r"
      },
      "source": [
        "<details>\n",
        "  <summary>📝 Подсказка </summary>\n",
        "    \n",
        "Данные не похожи на нормальное распределение: большинство людей смотрят понемногу, распределение не симметричное.\n",
        "\n",
        "Что это значит? Что самые популярные критерии (t-test, z-test) для нашей метрики \"длина просмотра\" не подойдут, так как они требуют условия на нормальность распределения\n",
        "    \n",
        "</details>"
      ]
    },
    {
      "cell_type": "markdown",
      "metadata": {
        "id": "NwrfRX3apTCP"
      },
      "source": [
        "## Выбор критерия\n",
        "<details>\n",
        "  <summary>📝 Подсказка </summary>\n",
        "А что если использовать критерий Манна-Уитни?\n",
        "\n",
        "- Нормальность данных не требуется\n",
        "- Для него нужен ряд неповторяющихся уникальных значений\n",
        "    \n",
        "</details>"
      ]
    },
    {
      "cell_type": "markdown",
      "metadata": {
        "id": "tXmum7Ripc_U"
      },
      "source": [
        "## Алгоритм подбора похожих групп\n",
        "\n",
        "- Используем хэш функцию для этого. Посчитаем хэш от айди, найдем остаток от деления на 2 (так как 2 группы) и по остатку определим к какой группе относится пользователь. То есть по айди пользователя она разобьет всех пользователей на 2 группы."
      ]
    },
    {
      "cell_type": "markdown",
      "metadata": {
        "id": "ic-hI1J-pc3t"
      },
      "source": [
        "\n",
        "## Переходим к валидации критерия\n",
        "- оценка распределения p_value\n",
        "- оценка мощности\n",
        "- корректности\n",
        "\n",
        "**Распределения p_value** при корректном подборе пары метрика + критерий -  равномерное распределение\n",
        "\n",
        "**Достоверность (Корректность)** - вероятность того, что найдет различие, когда его нет\n",
        "\n",
        "$$significance = Pr(\\text{reject }H_0 | H_0 \\text{ is true})$$\n",
        "\n",
        "**Мощность** - вероятность того, что критерий найдет различие в случае, когда оно есть\n",
        "\n",
        "$$power = Pr(\\text{reject }H_0 | H_1 \\text{ is true})$$"
      ]
    },
    {
      "cell_type": "code",
      "execution_count": 101,
      "metadata": {
        "colab": {
          "base_uri": "https://localhost:8080/",
          "height": 206
        },
        "id": "Oil79uAtpPzJ",
        "outputId": "fdcba18e-38a4-4a51-9666-b39391c260c6"
      },
      "outputs": [
        {
          "data": {
            "text/html": [
              "<div>\n",
              "<style scoped>\n",
              "    .dataframe tbody tr th:only-of-type {\n",
              "        vertical-align: middle;\n",
              "    }\n",
              "\n",
              "    .dataframe tbody tr th {\n",
              "        vertical-align: top;\n",
              "    }\n",
              "\n",
              "    .dataframe thead th {\n",
              "        text-align: right;\n",
              "    }\n",
              "</style>\n",
              "<table border=\"1\" class=\"dataframe\">\n",
              "  <thead>\n",
              "    <tr style=\"text-align: right;\">\n",
              "      <th></th>\n",
              "      <th>user_id</th>\n",
              "      <th>total_dur</th>\n",
              "      <th>group</th>\n",
              "    </tr>\n",
              "  </thead>\n",
              "  <tbody>\n",
              "    <tr>\n",
              "      <th>0</th>\n",
              "      <td>1</td>\n",
              "      <td>1593</td>\n",
              "      <td>A</td>\n",
              "    </tr>\n",
              "    <tr>\n",
              "      <th>1</th>\n",
              "      <td>1000001</td>\n",
              "      <td>52</td>\n",
              "      <td>A</td>\n",
              "    </tr>\n",
              "    <tr>\n",
              "      <th>2</th>\n",
              "      <td>1000003</td>\n",
              "      <td>625</td>\n",
              "      <td>B</td>\n",
              "    </tr>\n",
              "    <tr>\n",
              "      <th>3</th>\n",
              "      <td>1000008</td>\n",
              "      <td>3691</td>\n",
              "      <td>B</td>\n",
              "    </tr>\n",
              "    <tr>\n",
              "      <th>4</th>\n",
              "      <td>1000009</td>\n",
              "      <td>2444</td>\n",
              "      <td>B</td>\n",
              "    </tr>\n",
              "  </tbody>\n",
              "</table>\n",
              "</div>"
            ],
            "text/plain": [
              "   user_id  total_dur group\n",
              "0        1       1593     A\n",
              "1  1000001         52     A\n",
              "2  1000003        625     B\n",
              "3  1000008       3691     B\n",
              "4  1000009       2444     B"
            ]
          },
          "execution_count": 101,
          "metadata": {},
          "output_type": "execute_result"
        }
      ],
      "source": [
        "week1_group = groups_splitter(week, columns=['user_id', 'total_dur', 'group'], user_salt='20241204')\n",
        "week1_group.head()"
      ]
    },
    {
      "cell_type": "code",
      "execution_count": 102,
      "metadata": {
        "colab": {
          "base_uri": "https://localhost:8080/",
          "height": 112
        },
        "id": "4farl0AQpmDI",
        "outputId": "13cffbb6-d775-4c15-8023-d06e6b68b04d"
      },
      "outputs": [
        {
          "data": {
            "text/html": [
              "<div>\n",
              "<style scoped>\n",
              "    .dataframe tbody tr th:only-of-type {\n",
              "        vertical-align: middle;\n",
              "    }\n",
              "\n",
              "    .dataframe tbody tr th {\n",
              "        vertical-align: top;\n",
              "    }\n",
              "\n",
              "    .dataframe thead th {\n",
              "        text-align: right;\n",
              "    }\n",
              "</style>\n",
              "<table border=\"1\" class=\"dataframe\">\n",
              "  <thead>\n",
              "    <tr style=\"text-align: right;\">\n",
              "      <th></th>\n",
              "      <th>group</th>\n",
              "      <th>user_id</th>\n",
              "      <th>total_dur</th>\n",
              "      <th>hash</th>\n",
              "    </tr>\n",
              "  </thead>\n",
              "  <tbody>\n",
              "    <tr>\n",
              "      <th>0</th>\n",
              "      <td>A</td>\n",
              "      <td>91903</td>\n",
              "      <td>91903</td>\n",
              "      <td>91903</td>\n",
              "    </tr>\n",
              "    <tr>\n",
              "      <th>1</th>\n",
              "      <td>B</td>\n",
              "      <td>91887</td>\n",
              "      <td>91887</td>\n",
              "      <td>91887</td>\n",
              "    </tr>\n",
              "  </tbody>\n",
              "</table>\n",
              "</div>"
            ],
            "text/plain": [
              "  group  user_id  total_dur   hash\n",
              "0     A    91903      91903  91903\n",
              "1     B    91887      91887  91887"
            ]
          },
          "execution_count": 102,
          "metadata": {},
          "output_type": "execute_result"
        }
      ],
      "source": [
        "week.groupby(by='group', as_index=False).count()"
      ]
    },
    {
      "cell_type": "code",
      "execution_count": 103,
      "metadata": {
        "colab": {
          "base_uri": "https://localhost:8080/"
        },
        "id": "4n1hxCxLpofY",
        "outputId": "ba1308bc-474e-41cc-be95-248e8400f6a8"
      },
      "outputs": [
        {
          "name": "stdout",
          "output_type": "stream",
          "text": [
            "p_value = 0.09960455835462702\n"
          ]
        }
      ],
      "source": [
        "from scipy.stats import mannwhitneyu\n",
        "\n",
        "# проверим, как работает код критерия\n",
        "u, p = mannwhitneyu(week[week['group'] == 'A']['total_dur'].values,\n",
        "                    week[week['group'] == 'B']['total_dur'].values)\n",
        "\n",
        "print(f\"p_value = {p}\")"
      ]
    },
    {
      "cell_type": "markdown",
      "metadata": {
        "id": "ILFAp676pyhB"
      },
      "source": [
        "Проверка распределения p_value - должно быть равномерное"
      ]
    },
    {
      "cell_type": "code",
      "execution_count": 104,
      "metadata": {
        "colab": {
          "base_uri": "https://localhost:8080/"
        },
        "id": "p290ONuupsCo",
        "outputId": "b3d415a2-96e0-43a0-c0a4-3f3476c25438"
      },
      "outputs": [
        {
          "name": "stderr",
          "output_type": "stream",
          "text": [
            "100%|██████████| 50/50 [00:13<00:00,  3.66it/s]\n"
          ]
        }
      ],
      "source": [
        "pvalues = []\n",
        "\n",
        "for i in tqdm(range(50)):  # 1000\n",
        "\n",
        "  week1_hash = groups_splitter(week, columns=['user_id', 'total_dur', 'group'])\n",
        "\n",
        "  u, p = mannwhitneyu(\n",
        "        week1_hash[week1_hash['group'] == 'A']['total_dur'].values,\n",
        "        week1_hash[week1_hash['group'] == 'B']['total_dur'].values\n",
        "    )\n",
        "  pvalues.append(p)"
      ]
    },
    {
      "cell_type": "code",
      "execution_count": 105,
      "metadata": {
        "colab": {
          "base_uri": "https://localhost:8080/",
          "height": 430
        },
        "id": "7zdRlZWVp0eQ",
        "outputId": "9f88030f-c6bb-4ec4-90ad-641d632c9e3f"
      },
      "outputs": [
        {
          "data": {
            "image/png": "[encoded data removed]",
            "text/plain": [
              "<Figure size 640x480 with 1 Axes>"
            ]
          },
          "metadata": {},
          "output_type": "display_data"
        }
      ],
      "source": [
        "plt.hist(pvalues, bins=10, color='purple');"
      ]
    },
    {
      "cell_type": "markdown",
      "metadata": {
        "id": "FM3Szn6CqVfP"
      },
      "source": [
        "<details>\n",
        "  <summary>📝 Подсказка </summary>\n",
        "Ой. Кажется критерий Манна-Уитни не подходит. А почему так произошло?\n",
        "    </details>"
      ]
    },
    {
      "cell_type": "markdown",
      "metadata": {
        "id": "je-UB0IgqYQ9"
      },
      "source": [
        "<details>\n",
        "  <summary>📝 Подсказка </summary>\n",
        "Давайте еще проверим критерием Колмогорова-Смирнова (о том, что получившееся распределение pvalues есть равномерное распределение).\n",
        "    </details>"
      ]
    },
    {
      "cell_type": "code",
      "execution_count": 196,
      "metadata": {
        "colab": {
          "base_uri": "https://localhost:8080/"
        },
        "id": "sBi5fLabp6XK",
        "outputId": "ab487dab-9731-4414-934a-937ce10aad12"
      },
      "outputs": [
        {
          "name": "stdout",
          "output_type": "stream",
          "text": [
            "p_value = 0.9732253110013148 - p_values равномерное распределение\n"
          ]
        }
      ],
      "source": [
        "import scipy.stats\n",
        "\n",
        "stat, p_value = scipy.stats.kstest(pvalues, scipy.stats.uniform(loc=0.0, scale=1.0).cdf)\n",
        "\n",
        "if p_value < 0.05:\n",
        "    print(f'p_value = {p_value} - p_values неравномерное распределение')\n",
        "else:\n",
        "    print(f'p_value = {p_value} - p_values равномерное распределение')"
      ]
    },
    {
      "cell_type": "markdown",
      "metadata": {
        "id": "ayncFAyRs9eO"
      },
      "source": [
        "<details>\n",
        "  <summary>📝 Подсказка </summary>\n",
        "Посмотрим количество уникальных значений в выборке\n",
        "</details>"
      ]
    },
    {
      "cell_type": "code",
      "execution_count": 107,
      "metadata": {
        "colab": {
          "base_uri": "https://localhost:8080/"
        },
        "id": "ElHZ3y4mqj_8",
        "outputId": "25b6770d-e909-4b8a-ea13-48db3c907140"
      },
      "outputs": [
        {
          "name": "stdout",
          "output_type": "stream",
          "text": [
            "% уник. значений группы А = 34.41\n",
            "% уник. значений группы B = 34.42\n"
          ]
        }
      ],
      "source": [
        "print(f\"% уник. значений группы А = {round(week1_hash[week1_hash['group'] == 'A']['total_dur'].nunique() / week1_hash[week1_hash['group'] == 'A'].shape[0] * 100, 2)}\")\n",
        "print(f\"% уник. значений группы B = {round(week1_hash[week1_hash['group'] == 'B']['total_dur'].nunique() / week1_hash[week1_hash['group'] == 'B'].shape[0] * 100, 2)}\")"
      ]
    },
    {
      "cell_type": "code",
      "execution_count": 108,
      "metadata": {
        "id": "z2LB2Kwxs_QH"
      },
      "outputs": [
        {
          "data": {
            "text/html": [
              "<div>\n",
              "<style scoped>\n",
              "    .dataframe tbody tr th:only-of-type {\n",
              "        vertical-align: middle;\n",
              "    }\n",
              "\n",
              "    .dataframe tbody tr th {\n",
              "        vertical-align: top;\n",
              "    }\n",
              "\n",
              "    .dataframe thead th {\n",
              "        text-align: right;\n",
              "    }\n",
              "</style>\n",
              "<table border=\"1\" class=\"dataframe\">\n",
              "  <thead>\n",
              "    <tr style=\"text-align: right;\">\n",
              "      <th></th>\n",
              "      <th>total_dur</th>\n",
              "      <th>user_id</th>\n",
              "    </tr>\n",
              "  </thead>\n",
              "  <tbody>\n",
              "    <tr>\n",
              "      <th>7</th>\n",
              "      <td>8</td>\n",
              "      <td>592</td>\n",
              "    </tr>\n",
              "    <tr>\n",
              "      <th>5</th>\n",
              "      <td>6</td>\n",
              "      <td>590</td>\n",
              "    </tr>\n",
              "    <tr>\n",
              "      <th>6</th>\n",
              "      <td>7</td>\n",
              "      <td>568</td>\n",
              "    </tr>\n",
              "    <tr>\n",
              "      <th>8</th>\n",
              "      <td>9</td>\n",
              "      <td>565</td>\n",
              "    </tr>\n",
              "    <tr>\n",
              "      <th>4</th>\n",
              "      <td>5</td>\n",
              "      <td>559</td>\n",
              "    </tr>\n",
              "    <tr>\n",
              "      <th>3</th>\n",
              "      <td>4</td>\n",
              "      <td>534</td>\n",
              "    </tr>\n",
              "    <tr>\n",
              "      <th>2</th>\n",
              "      <td>3</td>\n",
              "      <td>526</td>\n",
              "    </tr>\n",
              "    <tr>\n",
              "      <th>9</th>\n",
              "      <td>10</td>\n",
              "      <td>510</td>\n",
              "    </tr>\n",
              "    <tr>\n",
              "      <th>11</th>\n",
              "      <td>12</td>\n",
              "      <td>463</td>\n",
              "    </tr>\n",
              "    <tr>\n",
              "      <th>10</th>\n",
              "      <td>11</td>\n",
              "      <td>452</td>\n",
              "    </tr>\n",
              "    <tr>\n",
              "      <th>1</th>\n",
              "      <td>2</td>\n",
              "      <td>435</td>\n",
              "    </tr>\n",
              "    <tr>\n",
              "      <th>12</th>\n",
              "      <td>13</td>\n",
              "      <td>432</td>\n",
              "    </tr>\n",
              "    <tr>\n",
              "      <th>14</th>\n",
              "      <td>15</td>\n",
              "      <td>404</td>\n",
              "    </tr>\n",
              "    <tr>\n",
              "      <th>0</th>\n",
              "      <td>1</td>\n",
              "      <td>393</td>\n",
              "    </tr>\n",
              "    <tr>\n",
              "      <th>15</th>\n",
              "      <td>16</td>\n",
              "      <td>386</td>\n",
              "    </tr>\n",
              "    <tr>\n",
              "      <th>13</th>\n",
              "      <td>14</td>\n",
              "      <td>378</td>\n",
              "    </tr>\n",
              "    <tr>\n",
              "      <th>16</th>\n",
              "      <td>17</td>\n",
              "      <td>365</td>\n",
              "    </tr>\n",
              "    <tr>\n",
              "      <th>17</th>\n",
              "      <td>18</td>\n",
              "      <td>349</td>\n",
              "    </tr>\n",
              "    <tr>\n",
              "      <th>18</th>\n",
              "      <td>19</td>\n",
              "      <td>321</td>\n",
              "    </tr>\n",
              "    <tr>\n",
              "      <th>21</th>\n",
              "      <td>22</td>\n",
              "      <td>306</td>\n",
              "    </tr>\n",
              "  </tbody>\n",
              "</table>\n",
              "</div>"
            ],
            "text/plain": [
              "    total_dur  user_id\n",
              "7           8      592\n",
              "5           6      590\n",
              "6           7      568\n",
              "8           9      565\n",
              "4           5      559\n",
              "3           4      534\n",
              "2           3      526\n",
              "9          10      510\n",
              "11         12      463\n",
              "10         11      452\n",
              "1           2      435\n",
              "12         13      432\n",
              "14         15      404\n",
              "0           1      393\n",
              "15         16      386\n",
              "13         14      378\n",
              "16         17      365\n",
              "17         18      349\n",
              "18         19      321\n",
              "21         22      306"
            ]
          },
          "execution_count": 108,
          "metadata": {},
          "output_type": "execute_result"
        }
      ],
      "source": [
        "week1_hash.groupby(by='total_dur', as_index=False).count()[['total_dur', 'user_id']].sort_values('user_id', ascending=False).head(20)"
      ]
    },
    {
      "cell_type": "code",
      "execution_count": 109,
      "metadata": {
        "id": "uYxs5V9JtBcg"
      },
      "outputs": [
        {
          "data": {
            "text/html": [
              "<div>\n",
              "<style scoped>\n",
              "    .dataframe tbody tr th:only-of-type {\n",
              "        vertical-align: middle;\n",
              "    }\n",
              "\n",
              "    .dataframe tbody tr th {\n",
              "        vertical-align: top;\n",
              "    }\n",
              "\n",
              "    .dataframe thead th {\n",
              "        text-align: right;\n",
              "    }\n",
              "</style>\n",
              "<table border=\"1\" class=\"dataframe\">\n",
              "  <thead>\n",
              "    <tr style=\"text-align: right;\">\n",
              "      <th></th>\n",
              "      <th>total_dur</th>\n",
              "      <th>user_id</th>\n",
              "    </tr>\n",
              "  </thead>\n",
              "  <tbody>\n",
              "    <tr>\n",
              "      <th>29559</th>\n",
              "      <td>36967</td>\n",
              "      <td>1</td>\n",
              "    </tr>\n",
              "    <tr>\n",
              "      <th>29560</th>\n",
              "      <td>36968</td>\n",
              "      <td>1</td>\n",
              "    </tr>\n",
              "    <tr>\n",
              "      <th>29581</th>\n",
              "      <td>37007</td>\n",
              "      <td>1</td>\n",
              "    </tr>\n",
              "    <tr>\n",
              "      <th>29580</th>\n",
              "      <td>37006</td>\n",
              "      <td>1</td>\n",
              "    </tr>\n",
              "    <tr>\n",
              "      <th>29579</th>\n",
              "      <td>37005</td>\n",
              "      <td>1</td>\n",
              "    </tr>\n",
              "    <tr>\n",
              "      <th>29578</th>\n",
              "      <td>37003</td>\n",
              "      <td>1</td>\n",
              "    </tr>\n",
              "    <tr>\n",
              "      <th>29577</th>\n",
              "      <td>37002</td>\n",
              "      <td>1</td>\n",
              "    </tr>\n",
              "    <tr>\n",
              "      <th>29574</th>\n",
              "      <td>36991</td>\n",
              "      <td>1</td>\n",
              "    </tr>\n",
              "    <tr>\n",
              "      <th>29573</th>\n",
              "      <td>36990</td>\n",
              "      <td>1</td>\n",
              "    </tr>\n",
              "    <tr>\n",
              "      <th>29571</th>\n",
              "      <td>36988</td>\n",
              "      <td>1</td>\n",
              "    </tr>\n",
              "    <tr>\n",
              "      <th>29570</th>\n",
              "      <td>36987</td>\n",
              "      <td>1</td>\n",
              "    </tr>\n",
              "    <tr>\n",
              "      <th>14114</th>\n",
              "      <td>14359</td>\n",
              "      <td>1</td>\n",
              "    </tr>\n",
              "    <tr>\n",
              "      <th>29567</th>\n",
              "      <td>36979</td>\n",
              "      <td>1</td>\n",
              "    </tr>\n",
              "    <tr>\n",
              "      <th>29566</th>\n",
              "      <td>36977</td>\n",
              "      <td>1</td>\n",
              "    </tr>\n",
              "    <tr>\n",
              "      <th>14117</th>\n",
              "      <td>14362</td>\n",
              "      <td>1</td>\n",
              "    </tr>\n",
              "    <tr>\n",
              "      <th>29564</th>\n",
              "      <td>36975</td>\n",
              "      <td>1</td>\n",
              "    </tr>\n",
              "    <tr>\n",
              "      <th>29563</th>\n",
              "      <td>36973</td>\n",
              "      <td>1</td>\n",
              "    </tr>\n",
              "    <tr>\n",
              "      <th>14118</th>\n",
              "      <td>14363</td>\n",
              "      <td>1</td>\n",
              "    </tr>\n",
              "    <tr>\n",
              "      <th>29561</th>\n",
              "      <td>36970</td>\n",
              "      <td>1</td>\n",
              "    </tr>\n",
              "    <tr>\n",
              "      <th>45158</th>\n",
              "      <td>187905</td>\n",
              "      <td>1</td>\n",
              "    </tr>\n",
              "  </tbody>\n",
              "</table>\n",
              "</div>"
            ],
            "text/plain": [
              "       total_dur  user_id\n",
              "29559      36967        1\n",
              "29560      36968        1\n",
              "29581      37007        1\n",
              "29580      37006        1\n",
              "29579      37005        1\n",
              "29578      37003        1\n",
              "29577      37002        1\n",
              "29574      36991        1\n",
              "29573      36990        1\n",
              "29571      36988        1\n",
              "29570      36987        1\n",
              "14114      14359        1\n",
              "29567      36979        1\n",
              "29566      36977        1\n",
              "14117      14362        1\n",
              "29564      36975        1\n",
              "29563      36973        1\n",
              "14118      14363        1\n",
              "29561      36970        1\n",
              "45158     187905        1"
            ]
          },
          "execution_count": 109,
          "metadata": {},
          "output_type": "execute_result"
        }
      ],
      "source": [
        "week1_hash.groupby(by='total_dur', as_index=False).count()[['total_dur', 'user_id']].sort_values('user_id', ascending=False).tail(20)"
      ]
    },
    {
      "cell_type": "markdown",
      "metadata": {
        "id": "k34g8iZ8tO5s"
      },
      "source": [
        "Попробуем что то сделать с этой метрикой\n",
        "\n",
        "Один из вариантов - логарифмирование метрики, способ снизить дисперсию"
      ]
    },
    {
      "cell_type": "code",
      "execution_count": 111,
      "metadata": {
        "colab": {
          "base_uri": "https://localhost:8080/",
          "height": 599
        },
        "id": "-G4H9TlStOEf",
        "outputId": "cefbaffc-0210-4d97-b483-929bf182125c"
      },
      "outputs": [
        {
          "data": {
            "image/png": "[encoded data removed]",
            "text/plain": [
              "<Figure size 700x700 with 1 Axes>"
            ]
          },
          "metadata": {},
          "output_type": "display_data"
        }
      ],
      "source": [
        "week['total_dur_ln'] = np.log2(week['total_dur'])\n",
        "week['total_dur_ln'].hist(bins=50, figsize=(7,7))\n",
        "plt.grid(False)"
      ]
    },
    {
      "cell_type": "code",
      "execution_count": 112,
      "metadata": {
        "colab": {
          "base_uri": "https://localhost:8080/"
        },
        "id": "QgDGhZGwtVeP",
        "outputId": "dde4be99-d9c9-40c7-8ca2-baf37a1b44fe"
      },
      "outputs": [
        {
          "name": "stdout",
          "output_type": "stream",
          "text": [
            "p_value = 0.6876874492282526 - p_values равномерное распределение\n"
          ]
        }
      ],
      "source": [
        "stat, p_value = scipy.stats.kstest(pvalues, scipy.stats.uniform(loc=0.0, scale=1.0).cdf)\n",
        "\n",
        "if p_value < 0.05:\n",
        "    print(f'p_value = {p_value} - p_values неравномерное распределение')\n",
        "else:\n",
        "    print(f'p_value = {p_value} - p_values равномерное распределение')"
      ]
    },
    {
      "cell_type": "code",
      "execution_count": 201,
      "metadata": {
        "colab": {
          "base_uri": "https://localhost:8080/"
        },
        "id": "_O3UwBlNtZXY",
        "outputId": "acd4f6b9-ef6e-4735-a1bf-bc1ecaad8ba3"
      },
      "outputs": [
        {
          "name": "stderr",
          "output_type": "stream",
          "text": [
            "  0%|          | 0/1000 [00:00<?, ?it/s]"
          ]
        },
        {
          "name": "stderr",
          "output_type": "stream",
          "text": [
            "100%|██████████| 1000/1000 [04:31<00:00,  3.69it/s]\n"
          ]
        }
      ],
      "source": [
        "pvalues = []\n",
        "\n",
        "for i in tqdm(range(1000)):  # 1000\n",
        "\n",
        "  week1_hash = groups_splitter(week, columns=['user_id', 'total_dur_ln', 'group'])\n",
        "\n",
        "  u, p = mannwhitneyu(\n",
        "        week1_hash[week1_hash['group'] == 'A']['total_dur_ln'].values,\n",
        "        week1_hash[week1_hash['group'] == 'B']['total_dur_ln'].values\n",
        "    )\n",
        "  pvalues.append(p)"
      ]
    },
    {
      "cell_type": "code",
      "execution_count": 202,
      "metadata": {
        "colab": {
          "base_uri": "https://localhost:8080/",
          "height": 430
        },
        "id": "LkD7wVgctgAQ",
        "outputId": "03f3da55-aef1-4cf6-a548-1beb835c0853"
      },
      "outputs": [
        {
          "data": {
            "image/png": "[encoded data removed]",
            "text/plain": [
              "<Figure size 640x480 with 1 Axes>"
            ]
          },
          "metadata": {},
          "output_type": "display_data"
        }
      ],
      "source": [
        "plt.hist(pvalues, bins=10, color='purple');"
      ]
    },
    {
      "cell_type": "code",
      "execution_count": 204,
      "metadata": {
        "colab": {
          "base_uri": "https://localhost:8080/"
        },
        "id": "4FLVePQEtiC9",
        "outputId": "3b26359a-1c4d-449a-a317-7e3a3883efc2"
      },
      "outputs": [
        {
          "name": "stdout",
          "output_type": "stream",
          "text": [
            "p_value = 0.565981434329597 - p_values равномерное распределение\n"
          ]
        }
      ],
      "source": [
        "stat, p_value = scipy.stats.kstest(pvalues, scipy.stats.uniform(loc=0.0, scale=1.0).cdf)\n",
        "\n",
        "if p_value < 0.05:\n",
        "    print(f'p_value = {p_value} - p_values неравномерное распределение')\n",
        "else:\n",
        "    print(f'p_value = {p_value} - p_values равномерное распределение')"
      ]
    },
    {
      "cell_type": "markdown",
      "metadata": {
        "id": "G8SkHc7cuOGc"
      },
      "source": [
        "# Другой подход к дизайну - бутстрап"
      ]
    },
    {
      "cell_type": "markdown",
      "metadata": {
        "id": "2-9791qxuQX7"
      },
      "source": [
        "Критерий - бутстрап (bootstrap)\n",
        "\n",
        "Как работает (теория)\n",
        "- Для каждой группы A и B m раз генерируются псевдовыборки из исходной выборки как выборки с возвращением\n",
        "\n",
        "- На каждой паре псевдовыборок считается некоторая статистика, которую мы оцениваем\n",
        "\n",
        "- Дальше строим доверительный интервал для накопленных статистик между псевдовыборками [2.5%; 97.5 %]\n",
        "\n",
        "- Считаем квантили\n",
        "\n",
        "- Смотрим, где лежит наша статистика в этом распределении\n",
        "\n",
        "Как реализуем на практике\n",
        "\n",
        "Реализуем цикл (рекомендация - повторение не менее 1000 раз), на каждом шаге которого:\n",
        "\n",
        "- создаем выборку с возвращением\n",
        "\n",
        "- считаем ее среднее\n",
        "\n",
        "- возвращаем квантили распределения средних (из цикла)\n",
        "\n",
        "- далее будем смотреть, вошел ли 0 в этот интервал"
      ]
    },
    {
      "cell_type": "code",
      "execution_count": 116,
      "metadata": {
        "id": "iRZR4Oojtmz1"
      },
      "outputs": [],
      "source": [
        "def salt_generator(salt=None):\n",
        "    import os\n",
        "    from base64 import b64encode\n",
        "    salt = os.urandom(8)\n",
        "\n",
        "    return b64encode(salt).decode('ascii')\n",
        "\n",
        "\n",
        "def get_bootstrap_array(arr):\n",
        "    return np.random.choice(arr, replace=True, size=len(arr))\n",
        "\n",
        "\n",
        "def calc_bootstrap_mean(arr, size=1000):\n",
        "    result = np.empty(size)\n",
        "    for i in range(size):\n",
        "        result[i] = np.mean(get_bootstrap_array(arr))\n",
        "    return result\n",
        "\n",
        "def get_p_value(dist):\n",
        "    dist = np.array(dist)\n",
        "    x = (dist > 0).mean()\n",
        "    pvalue = min(x, 1 - x) * 2\n",
        "    return pvalue"
      ]
    },
    {
      "cell_type": "markdown",
      "metadata": {
        "id": "shWTKZreuYut"
      },
      "source": [
        "## Валидируем корректноcть (significance)\n",
        "\n",
        "Моделируем AA-test: прогоняем бутстрап критерий, не добавляя эффект к группе В. Хотим, чтобы критерий НЕ нашел различий в выборках. Если точнее, то нашел не более чем  $\\alpha$ случаях."
      ]
    },
    {
      "cell_type": "code",
      "execution_count": 208,
      "metadata": {
        "colab": {
          "base_uri": "https://localhost:8080/"
        },
        "collapsed": true,
        "id": "zq2r16mEuPvI",
        "outputId": "7bec034b-583d-4005-c192-9c4884ba4944"
      },
      "outputs": [
        {
          "name": "stderr",
          "output_type": "stream",
          "text": [
            "100%|██████████| 100/100 [02:49<00:00,  1.69s/it]"
          ]
        },
        {
          "name": "stdout",
          "output_type": "stream",
          "text": [
            "significance: 7.000000000000001%\n"
          ]
        },
        {
          "name": "stderr",
          "output_type": "stream",
          "text": [
            "\n"
          ]
        }
      ],
      "source": [
        "correctness = []\n",
        "values = []\n",
        "\n",
        "for i in tqdm(range(100)): # в дз используем 1000 итераций\n",
        "\n",
        "    new_df = groups_splitter(week.copy(), columns=['user_id', 'total_dur', 'group'], user_salt=salt_generator()).drop_duplicates()\n",
        "\n",
        "    vec_a = new_df[(new_df['group'] == 'A')]['total_dur']\n",
        "    vec_b = new_df[(new_df['group'] == 'B')]['total_dur']\n",
        "\n",
        "    #bootstrap\n",
        "    sample_a_mean = calc_bootstrap_mean(vec_a, size=1000) # на бутстрэпе считаем средние для вектора\n",
        "    sample_b_mean = calc_bootstrap_mean(vec_b, size=1000)\n",
        "    values.append(sample_a_mean - sample_b_mean)\n",
        "\n",
        "    left_side, right_side = np.percentile(sample_a_mean - sample_b_mean,\n",
        "                                                  [100 * 0.05 / 2., 100 * (1 - 0.05 / 2.)]) # считаем 95% доверительный интервал для разницы средних\n",
        "\n",
        "    correctness.append(not left_side <= 0 <= right_side)\n",
        "\n",
        "    test_correctness = collections.Counter(correctness)\n",
        "\n",
        "print(f'significance: {test_correctness[1]/(test_correctness[1] + test_correctness[0])*100}%')"
      ]
    },
    {
      "cell_type": "code",
      "execution_count": 118,
      "metadata": {
        "id": "nOV7NjGuuUNv"
      },
      "outputs": [],
      "source": [
        "p_values = [get_p_value(dist) for dist in values]\n",
        "plt.hist(p_values, bins=10, color='purple');\n",
        "plt.title(f\"Бутстреп распределение p_value\")"
      ]
    },
    {
      "cell_type": "code",
      "execution_count": 209,
      "metadata": {
        "colab": {
          "base_uri": "https://localhost:8080/"
        },
        "id": "INUQRXYf0db-",
        "outputId": "7825675d-7efc-43a5-ee2f-02dc6c0b51dd"
      },
      "outputs": [
        {
          "name": "stderr",
          "output_type": "stream",
          "text": [
            "100%|██████████| 50/50 [01:24<00:00,  1.69s/it]"
          ]
        },
        {
          "name": "stdout",
          "output_type": "stream",
          "text": [
            "power: 22.0%\n"
          ]
        },
        {
          "name": "stderr",
          "output_type": "stream",
          "text": [
            "\n"
          ]
        }
      ],
      "source": [
        "# Мощность с эффектом в 1%\n",
        "power = []\n",
        "values = []\n",
        "\n",
        "for i in tqdm(range(50)): # в дз используем 1000 итераций\n",
        "\n",
        "    new_df = groups_splitter(week.copy(), columns=['user_id', 'total_dur', 'group'], user_salt=salt_generator()).drop_duplicates()\n",
        "\n",
        "\n",
        "    vec_a = new_df[(new_df['group'] == 'A')]['total_dur']\n",
        "    vec_b = new_df[(new_df['group'] == 'B')]['total_dur'] * (1+0.01) # докидаваем эффект в 1%\n",
        "\n",
        "    #bootstrap\n",
        "    sample_a_mean = calc_bootstrap_mean(vec_a, size=1000) # на бутстрэпе считаем средние для вектора\n",
        "    sample_b_mean = calc_bootstrap_mean(vec_b, size=1000)\n",
        "    values.append(sample_a_mean - sample_b_mean)\n",
        "\n",
        "    left_side, right_side = np.percentile(sample_a_mean - sample_b_mean,\n",
        "                                                  [100 * 0.05 / 2., 100 * (1 - 0.05 / 2.)]) # считаем 95% доверительный интервал для разницы средних\n",
        "\n",
        "    power.append(not left_side <= 0 <= right_side)\n",
        "\n",
        "    test_power = collections.Counter(power)\n",
        "\n",
        "print(f'power: {test_power[1]/(test_power[1] + test_power[0])*100}%')"
      ]
    },
    {
      "cell_type": "code",
      "execution_count": 121,
      "metadata": {
        "colab": {
          "base_uri": "https://localhost:8080/"
        },
        "id": "5wjlOLTf0gnL",
        "outputId": "a03b140a-bd3e-47ae-a42a-60a31746308e"
      },
      "outputs": [
        {
          "name": "stderr",
          "output_type": "stream",
          "text": [
            "100%|██████████| 50/50 [01:23<00:00,  1.67s/it]"
          ]
        },
        {
          "name": "stdout",
          "output_type": "stream",
          "text": [
            "power: 94.0%\n"
          ]
        },
        {
          "name": "stderr",
          "output_type": "stream",
          "text": [
            "\n"
          ]
        }
      ],
      "source": [
        "# Мощность с эффектом в 3%\n",
        "power = []\n",
        "values = []\n",
        "\n",
        "for i in tqdm(range(50)): # в дз используем 1000 итераций\n",
        "\n",
        "    new_df = groups_splitter(week.copy(), columns=['user_id', 'total_dur', 'group'], user_salt=salt_generator()).drop_duplicates()\n",
        "\n",
        "\n",
        "    vec_a = new_df[(new_df['group'] == 'A')]['total_dur']\n",
        "    vec_b = new_df[(new_df['group'] == 'B')]['total_dur'] * (1+0.03)  # докидаваем эффект в 3%\n",
        "\n",
        "    #bootstrap\n",
        "    sample_a_mean = calc_bootstrap_mean(vec_a, size=1000) # на бутстрэпе считаем средние для вектора\n",
        "    sample_b_mean = calc_bootstrap_mean(vec_b, size=1000)\n",
        "    values.append(sample_a_mean - sample_b_mean)\n",
        "\n",
        "    left_side, right_side = np.percentile(sample_a_mean - sample_b_mean,\n",
        "                                                  [100 * 0.05 / 2., 100 * (1 - 0.05 / 2.)]) # считаем 95% доверительный интервал для разницы средних\n",
        "\n",
        "    power.append(not left_side <= 0 <= right_side)\n",
        "\n",
        "    test_power = collections.Counter(power)\n",
        "\n",
        "print(f'power: {test_power[1]/(test_power[1] + test_power[0])*100}%')"
      ]
    },
    {
      "cell_type": "markdown",
      "metadata": {},
      "source": [
        "### Вариант паралельного запуска (предложил чатик разница вместо 1 min 23 sec -> 11 sec)"
      ]
    },
    {
      "cell_type": "code",
      "execution_count": 123,
      "metadata": {},
      "outputs": [
        {
          "name": "stderr",
          "output_type": "stream",
          "text": [
            "100%|██████████| 1000/1000 [05:32<00:00,  3.01it/s]\n"
          ]
        },
        {
          "name": "stdout",
          "output_type": "stream",
          "text": [
            "power: 95.6%\n"
          ]
        }
      ],
      "source": [
        "from joblib import Parallel, delayed\n",
        "import numpy as np\n",
        "from tqdm import tqdm\n",
        "import collections\n",
        "\n",
        "def calculate_power(i):\n",
        "    new_df = groups_splitter(week.copy(), columns=['user_id', 'total_dur', 'group'], user_salt=salt_generator()).drop_duplicates()\n",
        "\n",
        "    vec_a = new_df[(new_df['group'] == 'A')]['total_dur']\n",
        "    vec_b = new_df[(new_df['group'] == 'B')]['total_dur'] * (1 + 0.03)  # добавляем эффект 3%\n",
        "\n",
        "    # bootstrap\n",
        "    sample_a_mean = calc_bootstrap_mean(vec_a, size=1000)\n",
        "    sample_b_mean = calc_bootstrap_mean(vec_b, size=1000)\n",
        "    values = sample_a_mean - sample_b_mean\n",
        "\n",
        "    # доверительный интервал\n",
        "    left_side, right_side = np.percentile(values, [100 * 0.05 / 2., 100 * (1 - 0.05 / 2.)])\n",
        "    return not left_side <= 0 <= right_side\n",
        "\n",
        "# Параллельный запуск\n",
        "# power = Parallel(n_jobs=-1)(delayed(calculate_power)(i) for i in tqdm(range(1000)))\n",
        "power = Parallel(n_jobs=-1)(delayed(calculate_power)(i) for i in tqdm(range(50)))\n",
        "\n",
        "# Итоговая мощность\n",
        "test_power = collections.Counter(power)\n",
        "print(f'power: {test_power[1]/(test_power[1] + test_power[0])*100}%')"
      ]
    },
    {
      "cell_type": "markdown",
      "metadata": {
        "id": "AXmKQEBTyWoH"
      },
      "source": [
        "# ДЗ 1:\n"
      ]
    },
    {
      "cell_type": "markdown",
      "metadata": {
        "id": "v8yTw4KVyaFd"
      },
      "source": [
        "!!!  Все считаем на 1000 итерациях\n",
        "\n",
        "\n",
        "### Дизайн теста бутстреп\n",
        "1. Из interactions взять данные за 2 последние недели (2021-08-09 по 2021-08-22)\n",
        "\n",
        "2. Посчитайте на этих данных корректность на бутстрепе и сравните ее с результатами за 1 неделю (посчитано на семинаре) (2 балла)\n",
        "\n",
        "3. На двух неделях посчитайте мощность. Для этого нужно в одну из групп докинуть эффект. Докиньте эффект в 1%, 3% и 5% и сравните полученную мощность (3 балла за расчет + 2 балла за подроброе объяснение)\n",
        "\n",
        "4. Посчитайте MDE, который можно зафиксировать на 2х неделях. В качестве alpha и beta подставьте ваши вычисленные ошибки 1 и 2 рода. Учитывайте что у нас формула для MDE работает для t-test или z-test (3 балла)\n",
        "\n",
        "\n",
        "### Дизайн продолжение\n",
        "\n",
        "1. Посчитать аналогичный дизайн для:\n",
        "  - бутстреп + логарифмированная метрика длительности просмотров (4 балла)\n",
        "  - манна-уитни + метрика длительности просмотров (4 балла)\n",
        "  - манна-уитни + логарифмированная метрика длительности просмотров (4 балла)\n",
        "  - t-test + метрика длительности просмотров (4 балла)\n",
        "  - t-test + логарифмированная метрика длительности просмотров (4 балла)\n",
        "2. Подробно описать выводы для каждой пары, какие варианты точно не подходят и почему. Объяснить зачем мы логарифмируем метрику и что нам это дает. Аргументированно выбрать 1 пару (метрика + критерий) которым вы будете оценивать АБ тест и какой эффект мы сможем отловить в нашем тесте. (5 баллов)\n",
        "\n",
        "\n",
        "### A/B тест\n",
        "1) Представим что у нас прошел тест, используем те же самые данные за 2 недели\n",
        "2) Занулите для всех пользователей total_dur, у которых total_dur < 500. Их НЕ УБИРАЕМ, а просто обрабатываем эти значения, принимая за нулевые, но пользователей также учитываем в эксперименте (2 балла)\n",
        "3) Разбейте их самостоятельно на две равные группы, используйте функцию groups_splitter и соль = 'kiontestmodel20210805' (1 балла)\n",
        "4) Оказалось, что модель в группе В показала себя лучше, чем в группе А на 2.5%, причем эффект распространился неравномерно и преимущественно на 10% самых смотрящих пользователей, докиньте такой эффект самостоятельно. Нужно метрику total_dur увеличить на 2.5% для 10% пользователей с самым продолжительным смотрением. (2 балла)\n",
        "5) Посчитайте результат такого теста и сделайте выводы (10 баллов)\n",
        "\n",
        "\n",
        "\n"
      ]
    },
    {
      "cell_type": "markdown",
      "metadata": {},
      "source": []
    }
  ],
  "metadata": {
    "colab": {
      "provenance": []
    },
    "kernelspec": {
      "display_name": ".venv",
      "language": "python",
      "name": "python3"
    },
    "language_info": {
      "codemirror_mode": {
        "name": "ipython",
        "version": 3
      },
      "file_extension": ".py",
      "mimetype": "text/x-python",
      "name": "python",
      "nbconvert_exporter": "python",
      "pygments_lexer": "ipython3",
      "version": "3.10.14"
    }
  },
  "nbformat": 4,
  "nbformat_minor": 0
}
