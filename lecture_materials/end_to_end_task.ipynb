{
  "cells": [
    {
      "cell_type": "markdown",
      "metadata": {
        "id": "bzrTkVWDzrxj"
      },
      "source": [
        "Представьте, что у нас небольшой магазин, туда приходят покупатели, делают покупки и мы можем посчитать их средний чек за день. Также допустим у нас покупатели закупаются раз в 10 дней из-за выгодных предложений. У нас есть исторические данные - user_id, metric, day. metric - cредний чек покупателя, user_id - айдишник покупателя, day - день в прошлом месяце. У нас 10к покупателей, которые были у нас в магазине 2 раза. Мы построили модель, повышающую средний чек у покупателей, и теперь хотим проверить, как она работает. Для этого нам надо правильно спланировать А/Б тест. Данные - 'df_hw.csv'."
      ]
    },
    {
      "cell_type": "markdown",
      "metadata": {
        "id": "MEzFN-TYzrxl"
      },
      "source": [
        "Задание:\n",
        "\n",
        "1) Подобрать дизайн корректного А/Б теста на исторических данных\n",
        "\n",
        "2) Можно ли статистически значимо задетектить эффект в 2%\n",
        "\n",
        "3) За какую длительность теста?\n",
        "\n",
        "4) Как сделать так чтобы хватало 3 дней на тест?"
      ]
    },
    {
      "cell_type": "code",
      "execution_count": null,
      "metadata": {
        "ExecuteTime": {
          "end_time": "2021-07-09T17:35:54.700064Z",
          "start_time": "2021-07-09T17:35:54.696673Z"
        },
        "id": "XLvWNEaVzrxl"
      },
      "outputs": [],
      "source": [
        "import numpy as np\n",
        "import scipy\n",
        "import matplotlib.pyplot as plt\n",
        "import scipy.stats\n",
        "import statsmodels\n",
        "import statsmodels.sandbox.stats.multicomp\n",
        "import pandas as pd\n",
        "#import seaborn as sns\n",
        "from sklearn.utils import shuffle"
      ]
    },
    {
      "cell_type": "code",
      "execution_count": null,
      "metadata": {
        "ExecuteTime": {
          "end_time": "2021-07-09T17:35:58.785186Z",
          "start_time": "2021-07-09T17:35:58.750296Z"
        },
        "id": "E2wRKaqqzrxl"
      },
      "outputs": [],
      "source": [
        "df_all = pd.read_csv('df_hw.csv', index_col = 0)"
      ]
    },
    {
      "cell_type": "code",
      "execution_count": null,
      "metadata": {
        "id": "sxhY-N6jttC9"
      },
      "outputs": [],
      "source": [
        "# https://github.com/irsafilo/HW_AB_tesing/blob/main/data/df_hw.csv"
      ]
    },
    {
      "cell_type": "code",
      "execution_count": null,
      "metadata": {
        "ExecuteTime": {
          "end_time": "2021-07-09T17:35:59.840077Z",
          "start_time": "2021-07-09T17:35:59.825123Z"
        },
        "colab": {
          "base_uri": "https://localhost:8080/",
          "height": 206
        },
        "id": "9koXhEwBzrxm",
        "outputId": "93ed67a6-e34a-4a4e-f8ec-03f7f1f338d2"
      },
      "outputs": [
        {
          "data": {
            "application/vnd.google.colaboratory.intrinsic+json": {
              "summary": "{\n  \"name\": \"df_all\",\n  \"rows\": 20000,\n  \"fields\": [\n    {\n      \"column\": \"user_id\",\n      \"properties\": {\n        \"dtype\": \"number\",\n        \"std\": 2886,\n        \"min\": 0,\n        \"max\": 9999,\n        \"num_unique_values\": 10000,\n        \"samples\": [\n          8707,\n          8809,\n          5922\n        ],\n        \"semantic_type\": \"\",\n        \"description\": \"\"\n      }\n    },\n    {\n      \"column\": \"metric\",\n      \"properties\": {\n        \"dtype\": \"number\",\n        \"std\": 2694.961976758504,\n        \"min\": 1000.2087,\n        \"max\": 15645.966244417532,\n        \"num_unique_values\": 19276,\n        \"samples\": [\n          8971.780133596556,\n          2532.0994,\n          5146.2601\n        ],\n        \"semantic_type\": \"\",\n        \"description\": \"\"\n      }\n    },\n    {\n      \"column\": \"day\",\n      \"properties\": {\n        \"dtype\": \"number\",\n        \"std\": 5,\n        \"min\": 0,\n        \"max\": 19,\n        \"num_unique_values\": 20,\n        \"samples\": [\n          8,\n          10,\n          12\n        ],\n        \"semantic_type\": \"\",\n        \"description\": \"\"\n      }\n    }\n  ]\n}",
              "type": "dataframe",
              "variable_name": "df_all"
            },
            "text/html": [
              "\n",
              "  <div id=\"df-393244b9-5341-45db-9a92-753fa0487660\" class=\"colab-df-container\">\n",
              "    <div>\n",
              "<style scoped>\n",
              "    .dataframe tbody tr th:only-of-type {\n",
              "        vertical-align: middle;\n",
              "    }\n",
              "\n",
              "    .dataframe tbody tr th {\n",
              "        vertical-align: top;\n",
              "    }\n",
              "\n",
              "    .dataframe thead th {\n",
              "        text-align: right;\n",
              "    }\n",
              "</style>\n",
              "<table border=\"1\" class=\"dataframe\">\n",
              "  <thead>\n",
              "    <tr style=\"text-align: right;\">\n",
              "      <th></th>\n",
              "      <th>user_id</th>\n",
              "      <th>metric</th>\n",
              "      <th>day</th>\n",
              "    </tr>\n",
              "  </thead>\n",
              "  <tbody>\n",
              "    <tr>\n",
              "      <th>4768</th>\n",
              "      <td>4768</td>\n",
              "      <td>5210.050500</td>\n",
              "      <td>8</td>\n",
              "    </tr>\n",
              "    <tr>\n",
              "      <th>1928</th>\n",
              "      <td>1928</td>\n",
              "      <td>1617.534800</td>\n",
              "      <td>8</td>\n",
              "    </tr>\n",
              "    <tr>\n",
              "      <th>2995</th>\n",
              "      <td>2995</td>\n",
              "      <td>6742.954000</td>\n",
              "      <td>5</td>\n",
              "    </tr>\n",
              "    <tr>\n",
              "      <th>15885</th>\n",
              "      <td>5885</td>\n",
              "      <td>8998.112105</td>\n",
              "      <td>15</td>\n",
              "    </tr>\n",
              "    <tr>\n",
              "      <th>6121</th>\n",
              "      <td>6121</td>\n",
              "      <td>2281.206200</td>\n",
              "      <td>1</td>\n",
              "    </tr>\n",
              "  </tbody>\n",
              "</table>\n",
              "</div>\n",
              "    <div class=\"colab-df-buttons\">\n",
              "\n",
              "  <div class=\"colab-df-container\">\n",
              "    <button class=\"colab-df-convert\" onclick=\"convertToInteractive('df-393244b9-5341-45db-9a92-753fa0487660')\"\n",
              "            title=\"Convert this dataframe to an interactive table.\"\n",
              "            style=\"display:none;\">\n",
              "\n",
              "  <svg xmlns=\"http://www.w3.org/2000/svg\" height=\"24px\" viewBox=\"0 -960 960 960\">\n",
              "    <path d=\"M120-120v-720h720v720H120Zm60-500h600v-160H180v160Zm220 220h160v-160H400v160Zm0 220h160v-160H400v160ZM180-400h160v-160H180v160Zm440 0h160v-160H620v160ZM180-180h160v-160H180v160Zm440 0h160v-160H620v160Z\"/>\n",
              "  </svg>\n",
              "    </button>\n",
              "\n",
              "  <style>\n",
              "    .colab-df-container {\n",
              "      display:flex;\n",
              "      gap: 12px;\n",
              "    }\n",
              "\n",
              "    .colab-df-convert {\n",
              "      background-color: #E8F0FE;\n",
              "      border: none;\n",
              "      border-radius: 50%;\n",
              "      cursor: pointer;\n",
              "      display: none;\n",
              "      fill: #1967D2;\n",
              "      height: 32px;\n",
              "      padding: 0 0 0 0;\n",
              "      width: 32px;\n",
              "    }\n",
              "\n",
              "    .colab-df-convert:hover {\n",
              "      background-color: #E2EBFA;\n",
              "      box-shadow: 0px 1px 2px rgba(60, 64, 67, 0.3), 0px 1px 3px 1px rgba(60, 64, 67, 0.15);\n",
              "      fill: #174EA6;\n",
              "    }\n",
              "\n",
              "    .colab-df-buttons div {\n",
              "      margin-bottom: 4px;\n",
              "    }\n",
              "\n",
              "    [theme=dark] .colab-df-convert {\n",
              "      background-color: #3B4455;\n",
              "      fill: #D2E3FC;\n",
              "    }\n",
              "\n",
              "    [theme=dark] .colab-df-convert:hover {\n",
              "      background-color: #434B5C;\n",
              "      box-shadow: 0px 1px 3px 1px rgba(0, 0, 0, 0.15);\n",
              "      filter: drop-shadow(0px 1px 2px rgba(0, 0, 0, 0.3));\n",
              "      fill: #FFFFFF;\n",
              "    }\n",
              "  </style>\n",
              "\n",
              "    <script>\n",
              "      const buttonEl =\n",
              "        document.querySelector('#df-393244b9-5341-45db-9a92-753fa0487660 button.colab-df-convert');\n",
              "      buttonEl.style.display =\n",
              "        google.colab.kernel.accessAllowed ? 'block' : 'none';\n",
              "\n",
              "      async function convertToInteractive(key) {\n",
              "        const element = document.querySelector('#df-393244b9-5341-45db-9a92-753fa0487660');\n",
              "        const dataTable =\n",
              "          await google.colab.kernel.invokeFunction('convertToInteractive',\n",
              "                                                    [key], {});\n",
              "        if (!dataTable) return;\n",
              "\n",
              "        const docLinkHtml = 'Like what you see? Visit the ' +\n",
              "          '<a target=\"_blank\" href=https://colab.research.google.com/notebooks/data_table.ipynb>data table notebook</a>'\n",
              "          + ' to learn more about interactive tables.';\n",
              "        element.innerHTML = '';\n",
              "        dataTable['output_type'] = 'display_data';\n",
              "        await google.colab.output.renderOutput(dataTable, element);\n",
              "        const docLink = document.createElement('div');\n",
              "        docLink.innerHTML = docLinkHtml;\n",
              "        element.appendChild(docLink);\n",
              "      }\n",
              "    </script>\n",
              "  </div>\n",
              "\n",
              "\n",
              "<div id=\"df-5f748983-0c6a-4a30-80e4-5c418504b3c2\">\n",
              "  <button class=\"colab-df-quickchart\" onclick=\"quickchart('df-5f748983-0c6a-4a30-80e4-5c418504b3c2')\"\n",
              "            title=\"Suggest charts\"\n",
              "            style=\"display:none;\">\n",
              "\n",
              "<svg xmlns=\"http://www.w3.org/2000/svg\" height=\"24px\"viewBox=\"0 0 24 24\"\n",
              "     width=\"24px\">\n",
              "    <g>\n",
              "        <path d=\"M19 3H5c-1.1 0-2 .9-2 2v14c0 1.1.9 2 2 2h14c1.1 0 2-.9 2-2V5c0-1.1-.9-2-2-2zM9 17H7v-7h2v7zm4 0h-2V7h2v10zm4 0h-2v-4h2v4z\"/>\n",
              "    </g>\n",
              "</svg>\n",
              "  </button>\n",
              "\n",
              "<style>\n",
              "  .colab-df-quickchart {\n",
              "      --bg-color: #E8F0FE;\n",
              "      --fill-color: #1967D2;\n",
              "      --hover-bg-color: #E2EBFA;\n",
              "      --hover-fill-color: #174EA6;\n",
              "      --disabled-fill-color: #AAA;\n",
              "      --disabled-bg-color: #DDD;\n",
              "  }\n",
              "\n",
              "  [theme=dark] .colab-df-quickchart {\n",
              "      --bg-color: #3B4455;\n",
              "      --fill-color: #D2E3FC;\n",
              "      --hover-bg-color: #434B5C;\n",
              "      --hover-fill-color: #FFFFFF;\n",
              "      --disabled-bg-color: #3B4455;\n",
              "      --disabled-fill-color: #666;\n",
              "  }\n",
              "\n",
              "  .colab-df-quickchart {\n",
              "    background-color: var(--bg-color);\n",
              "    border: none;\n",
              "    border-radius: 50%;\n",
              "    cursor: pointer;\n",
              "    display: none;\n",
              "    fill: var(--fill-color);\n",
              "    height: 32px;\n",
              "    padding: 0;\n",
              "    width: 32px;\n",
              "  }\n",
              "\n",
              "  .colab-df-quickchart:hover {\n",
              "    background-color: var(--hover-bg-color);\n",
              "    box-shadow: 0 1px 2px rgba(60, 64, 67, 0.3), 0 1px 3px 1px rgba(60, 64, 67, 0.15);\n",
              "    fill: var(--button-hover-fill-color);\n",
              "  }\n",
              "\n",
              "  .colab-df-quickchart-complete:disabled,\n",
              "  .colab-df-quickchart-complete:disabled:hover {\n",
              "    background-color: var(--disabled-bg-color);\n",
              "    fill: var(--disabled-fill-color);\n",
              "    box-shadow: none;\n",
              "  }\n",
              "\n",
              "  .colab-df-spinner {\n",
              "    border: 2px solid var(--fill-color);\n",
              "    border-color: transparent;\n",
              "    border-bottom-color: var(--fill-color);\n",
              "    animation:\n",
              "      spin 1s steps(1) infinite;\n",
              "  }\n",
              "\n",
              "  @keyframes spin {\n",
              "    0% {\n",
              "      border-color: transparent;\n",
              "      border-bottom-color: var(--fill-color);\n",
              "      border-left-color: var(--fill-color);\n",
              "    }\n",
              "    20% {\n",
              "      border-color: transparent;\n",
              "      border-left-color: var(--fill-color);\n",
              "      border-top-color: var(--fill-color);\n",
              "    }\n",
              "    30% {\n",
              "      border-color: transparent;\n",
              "      border-left-color: var(--fill-color);\n",
              "      border-top-color: var(--fill-color);\n",
              "      border-right-color: var(--fill-color);\n",
              "    }\n",
              "    40% {\n",
              "      border-color: transparent;\n",
              "      border-right-color: var(--fill-color);\n",
              "      border-top-color: var(--fill-color);\n",
              "    }\n",
              "    60% {\n",
              "      border-color: transparent;\n",
              "      border-right-color: var(--fill-color);\n",
              "    }\n",
              "    80% {\n",
              "      border-color: transparent;\n",
              "      border-right-color: var(--fill-color);\n",
              "      border-bottom-color: var(--fill-color);\n",
              "    }\n",
              "    90% {\n",
              "      border-color: transparent;\n",
              "      border-bottom-color: var(--fill-color);\n",
              "    }\n",
              "  }\n",
              "</style>\n",
              "\n",
              "  <script>\n",
              "    async function quickchart(key) {\n",
              "      const quickchartButtonEl =\n",
              "        document.querySelector('#' + key + ' button');\n",
              "      quickchartButtonEl.disabled = true;  // To prevent multiple clicks.\n",
              "      quickchartButtonEl.classList.add('colab-df-spinner');\n",
              "      try {\n",
              "        const charts = await google.colab.kernel.invokeFunction(\n",
              "            'suggestCharts', [key], {});\n",
              "      } catch (error) {\n",
              "        console.error('Error during call to suggestCharts:', error);\n",
              "      }\n",
              "      quickchartButtonEl.classList.remove('colab-df-spinner');\n",
              "      quickchartButtonEl.classList.add('colab-df-quickchart-complete');\n",
              "    }\n",
              "    (() => {\n",
              "      let quickchartButtonEl =\n",
              "        document.querySelector('#df-5f748983-0c6a-4a30-80e4-5c418504b3c2 button');\n",
              "      quickchartButtonEl.style.display =\n",
              "        google.colab.kernel.accessAllowed ? 'block' : 'none';\n",
              "    })();\n",
              "  </script>\n",
              "</div>\n",
              "\n",
              "    </div>\n",
              "  </div>\n"
            ],
            "text/plain": [
              "       user_id       metric  day\n",
              "4768      4768  5210.050500    8\n",
              "1928      1928  1617.534800    8\n",
              "2995      2995  6742.954000    5\n",
              "15885     5885  8998.112105   15\n",
              "6121      6121  2281.206200    1"
            ]
          },
          "execution_count": 3,
          "metadata": {},
          "output_type": "execute_result"
        }
      ],
      "source": [
        "df_all.head()"
      ]
    },
    {
      "cell_type": "code",
      "execution_count": null,
      "metadata": {
        "ExecuteTime": {
          "end_time": "2021-07-09T17:36:07.006111Z",
          "start_time": "2021-07-09T17:36:06.991251Z"
        },
        "id": "ucHsgzB2zrxm"
      },
      "outputs": [],
      "source": [
        "metric_train = df_all[df_all['day'] < 10].sort_values(by = ['user_id', 'day'])['metric'].values\n",
        "metric_valid = df_all[df_all['day'] >= 10].sort_values(by = ['user_id', 'day'])['metric'].values"
      ]
    },
    {
      "cell_type": "code",
      "execution_count": null,
      "metadata": {
        "ExecuteTime": {
          "end_time": "2021-07-09T17:36:07.895609Z",
          "start_time": "2021-07-09T17:36:07.892775Z"
        },
        "id": "u1AOkqBPzrxm"
      },
      "outputs": [],
      "source": [
        "inds = [i for i in range(len(metric_train))]"
      ]
    },
    {
      "cell_type": "code",
      "execution_count": null,
      "metadata": {
        "ExecuteTime": {
          "end_time": "2021-07-09T17:36:11.386347Z",
          "start_time": "2021-07-09T17:36:11.383225Z"
        },
        "id": "DOVg4Jxdzrxn"
      },
      "outputs": [],
      "source": [
        "def plot_hist(x):\n",
        "    plt.figure(figsize=(7,7))\n",
        "    plt.hist(x, bins = 100, color='red',  linewidth=2)\n",
        "    plt.title('Гистограмма средней денежной метрики')\n",
        "    plt.ylabel('Количество')\n",
        "    plt.show()"
      ]
    },
    {
      "cell_type": "code",
      "execution_count": null,
      "metadata": {
        "ExecuteTime": {
          "end_time": "2021-07-09T17:36:12.559086Z",
          "start_time": "2021-07-09T17:36:12.556871Z"
        },
        "id": "NtPMh-6Izrxn"
      },
      "outputs": [],
      "source": [
        "metric_all = metric_train + metric_valid"
      ]
    },
    {
      "cell_type": "code",
      "execution_count": null,
      "metadata": {
        "ExecuteTime": {
          "end_time": "2021-07-09T17:36:13.316219Z",
          "start_time": "2021-07-09T17:36:13.093121Z"
        },
        "colab": {
          "base_uri": "https://localhost:8080/",
          "height": 622
        },
        "id": "Ojf3GNfuzrxn",
        "outputId": "1d438e66-eb04-479e-b833-2f74b543044f"
      },
      "outputs": [
        {
          "data": {
            "image/png": "[encoded data removed]",
            "text/plain": [
              "<Figure size 700x700 with 1 Axes>"
            ]
          },
          "metadata": {},
          "output_type": "display_data"
        }
      ],
      "source": [
        "plot_hist(metric_all)"
      ]
    },
    {
      "cell_type": "code",
      "execution_count": null,
      "metadata": {
        "ExecuteTime": {
          "end_time": "2021-07-09T17:36:18.479612Z",
          "start_time": "2021-07-09T17:36:18.281666Z"
        },
        "colab": {
          "base_uri": "https://localhost:8080/",
          "height": 622
        },
        "id": "5udpk5uszrxn",
        "outputId": "528372ba-7ad9-4651-95b5-76f59d9d3ee0"
      },
      "outputs": [
        {
          "data": {
            "image/png": "[encoded data removed]",
            "text/plain": [
              "<Figure size 700x700 with 1 Axes>"
            ]
          },
          "metadata": {},
          "output_type": "display_data"
        }
      ],
      "source": [
        "plot_hist(metric_train)"
      ]
    },
    {
      "cell_type": "code",
      "execution_count": null,
      "metadata": {
        "ExecuteTime": {
          "end_time": "2021-07-09T17:36:19.767147Z",
          "start_time": "2021-07-09T17:36:19.558076Z"
        },
        "colab": {
          "base_uri": "https://localhost:8080/",
          "height": 622
        },
        "id": "2ozuiyT9zrxn",
        "outputId": "735752c0-9038-44b3-92ba-623ca7e59c13"
      },
      "outputs": [
        {
          "data": {
            "image/png": "[encoded data removed]",
            "text/plain": [
              "<Figure size 700x700 with 1 Axes>"
            ]
          },
          "metadata": {},
          "output_type": "display_data"
        }
      ],
      "source": [
        "plot_hist(metric_valid)"
      ]
    },
    {
      "cell_type": "code",
      "execution_count": null,
      "metadata": {
        "ExecuteTime": {
          "end_time": "2021-07-09T17:36:23.340081Z",
          "start_time": "2021-07-09T17:36:20.760031Z"
        },
        "id": "nAn5V3WCzrxn"
      },
      "outputs": [],
      "source": [
        "iters = 1000\n",
        "p_value = []\n",
        "for i in range(iters):\n",
        "    A_l = np.random.choice(inds, size = len(metric_train) // 2, replace = False)\n",
        "    B_l = np.setdiff1d(inds, A_l)\n",
        "    train_A = metric_train[A_l]\n",
        "    train_B = metric_train[B_l]\n",
        "    valid_A = metric_valid[A_l]\n",
        "    valid_B = metric_valid[B_l]\n",
        "    p = scipy.stats.ttest_ind(valid_A, valid_B).pvalue\n",
        "    p_value.append(p)"
      ]
    },
    {
      "cell_type": "code",
      "execution_count": null,
      "metadata": {
        "ExecuteTime": {
          "end_time": "2021-07-09T17:36:23.441786Z",
          "start_time": "2021-07-09T17:36:23.342579Z"
        },
        "colab": {
          "base_uri": "https://localhost:8080/",
          "height": 448
        },
        "id": "BbMJMEpszrxn",
        "outputId": "cc2cb019-38da-42eb-c9d8-d07685d92e7d"
      },
      "outputs": [
        {
          "data": {
            "text/plain": [
              "0.046"
            ]
          },
          "execution_count": 12,
          "metadata": {},
          "output_type": "execute_result"
        },
        {
          "data": {
            "image/png": "[encoded data removed]",
            "text/plain": [
              "<Figure size 640x480 with 1 Axes>"
            ]
          },
          "metadata": {},
          "output_type": "display_data"
        }
      ],
      "source": [
        "p_value = np.array(p_value)\n",
        "plt.hist(p_value)\n",
        "len(p_value[p_value < 0.05]) / p_value.shape[0]"
      ]
    },
    {
      "cell_type": "code",
      "execution_count": null,
      "metadata": {
        "ExecuteTime": {
          "end_time": "2021-07-09T17:36:23.446730Z",
          "start_time": "2021-07-09T17:36:23.442775Z"
        },
        "colab": {
          "base_uri": "https://localhost:8080/"
        },
        "id": "vh1-E1v8zrxn",
        "outputId": "72c8a48d-884d-45ab-c04d-b70d33c60295"
      },
      "outputs": [
        {
          "data": {
            "text/plain": [
              "KstestResult(statistic=0.017243896727072328, pvalue=0.9223610104190544, statistic_location=0.34824389672707234, statistic_sign=-1)"
            ]
          },
          "execution_count": 13,
          "metadata": {},
          "output_type": "execute_result"
        }
      ],
      "source": [
        "scipy.stats.kstest(p_value, scipy.stats.uniform(loc=0.0, scale=1.0).cdf)"
      ]
    },
    {
      "cell_type": "code",
      "execution_count": null,
      "metadata": {
        "ExecuteTime": {
          "end_time": "2021-07-09T17:36:23.450107Z",
          "start_time": "2021-07-09T17:36:23.447665Z"
        },
        "colab": {
          "base_uri": "https://localhost:8080/"
        },
        "id": "Vvpf1YBazrxn",
        "outputId": "5864e934-feaf-411d-b260-d5893ce1deec"
      },
      "outputs": [
        {
          "data": {
            "text/plain": [
              "7456.122470084466"
            ]
          },
          "execution_count": 14,
          "metadata": {},
          "output_type": "execute_result"
        }
      ],
      "source": [
        "np.mean(metric_valid)"
      ]
    },
    {
      "cell_type": "code",
      "execution_count": null,
      "metadata": {
        "ExecuteTime": {
          "end_time": "2021-07-09T17:36:23.509592Z",
          "start_time": "2021-07-09T17:36:23.506954Z"
        },
        "colab": {
          "base_uri": "https://localhost:8080/"
        },
        "id": "3JpB46-Azrxo",
        "outputId": "2f3e6c5a-3435-4e2a-c558-9d32a434c23d"
      },
      "outputs": [
        {
          "data": {
            "text/plain": [
              "2088.205946758756"
            ]
          },
          "execution_count": 15,
          "metadata": {},
          "output_type": "execute_result"
        }
      ],
      "source": [
        "np.std(metric_valid)"
      ]
    },
    {
      "cell_type": "code",
      "execution_count": null,
      "metadata": {
        "ExecuteTime": {
          "end_time": "2021-07-09T17:36:32.082926Z",
          "start_time": "2021-07-09T17:36:29.597994Z"
        },
        "id": "SlGZ__N2zrxo"
      },
      "outputs": [],
      "source": [
        "iters = 1000\n",
        "p_value = []\n",
        "effect = 1.02\n",
        "for i in range(iters):\n",
        "    A_l = np.random.choice(inds, size = len(metric_train) // 2, replace = False)\n",
        "    B_l = np.setdiff1d(inds, A_l)\n",
        "    train_A = metric_train[A_l]\n",
        "    train_B = metric_train[B_l]\n",
        "    valid_A = metric_valid[A_l]\n",
        "    valid_B = metric_valid[B_l]\n",
        "    valid_A = valid_A * effect\n",
        "    p = scipy.stats.ttest_ind(valid_A, valid_B ).pvalue\n",
        "    p_value.append(p)"
      ]
    },
    {
      "cell_type": "code",
      "execution_count": null,
      "metadata": {
        "ExecuteTime": {
          "end_time": "2021-07-09T17:36:34.969300Z",
          "start_time": "2021-07-09T17:36:34.863068Z"
        },
        "colab": {
          "base_uri": "https://localhost:8080/",
          "height": 448
        },
        "id": "psoI8Udezrxo",
        "outputId": "20dc1d6c-7efe-4913-c4f1-31d05d8fdbc5"
      },
      "outputs": [
        {
          "data": {
            "text/plain": [
              "0.938"
            ]
          },
          "execution_count": 17,
          "metadata": {},
          "output_type": "execute_result"
        },
        {
          "data": {
            "image/png": "[encoded data removed]",
            "text/plain": [
              "<Figure size 640x480 with 1 Axes>"
            ]
          },
          "metadata": {},
          "output_type": "display_data"
        }
      ],
      "source": [
        "p_value = np.array(p_value)\n",
        "plt.hist(p_value)\n",
        "len(p_value[p_value < 0.05]) / p_value.shape[0]"
      ]
    },
    {
      "cell_type": "code",
      "execution_count": null,
      "metadata": {
        "ExecuteTime": {
          "end_time": "2021-07-09T17:36:35.668361Z",
          "start_time": "2021-07-09T17:36:35.658137Z"
        },
        "id": "Ge3KxnQYzrxo"
      },
      "outputs": [],
      "source": [
        "metric_train = df_all[df_all['day'].isin([7,8,9])].sort_values(by = ['user_id', 'day'])['metric'].values\n",
        "metric_valid = df_all[df_all['day'].isin([17,18,19])].sort_values(by = ['user_id', 'day'])['metric'].values"
      ]
    },
    {
      "cell_type": "code",
      "execution_count": null,
      "metadata": {
        "ExecuteTime": {
          "end_time": "2021-07-09T17:36:36.482649Z",
          "start_time": "2021-07-09T17:36:36.480184Z"
        },
        "id": "v_VJZ9nKzrxo"
      },
      "outputs": [],
      "source": [
        "inds = [i for i in range(len(metric_train))]"
      ]
    },
    {
      "cell_type": "code",
      "execution_count": null,
      "metadata": {
        "ExecuteTime": {
          "end_time": "2021-07-09T17:36:36.824860Z",
          "start_time": "2021-07-09T17:36:36.821984Z"
        },
        "colab": {
          "base_uri": "https://localhost:8080/"
        },
        "id": "DNcPoYs0zrxo",
        "outputId": "8beab281-d38b-4d8a-c8df-9abec6050dad"
      },
      "outputs": [
        {
          "data": {
            "text/plain": [
              "3000"
            ]
          },
          "execution_count": 20,
          "metadata": {},
          "output_type": "execute_result"
        }
      ],
      "source": [
        "len(inds)"
      ]
    },
    {
      "cell_type": "code",
      "execution_count": null,
      "metadata": {
        "ExecuteTime": {
          "end_time": "2021-07-09T17:36:38.174460Z",
          "start_time": "2021-07-09T17:36:37.211673Z"
        },
        "id": "10G0eTyBzrxo"
      },
      "outputs": [],
      "source": [
        "iters = 1000\n",
        "p_value = []\n",
        "effect = 1.02\n",
        "for i in range(iters):\n",
        "    A_l = np.random.choice(inds, size = len(inds) // 2, replace = False)\n",
        "    B_l = np.setdiff1d(inds, A_l)\n",
        "    train_A = metric_train[A_l]\n",
        "    train_B = metric_train[B_l]\n",
        "    valid_A = metric_valid[A_l]\n",
        "    valid_B = metric_valid[B_l]\n",
        "    p = scipy.stats.ttest_ind(valid_A, valid_B ).pvalue\n",
        "    p_value.append(p)"
      ]
    },
    {
      "cell_type": "code",
      "execution_count": null,
      "metadata": {
        "ExecuteTime": {
          "end_time": "2021-07-09T17:36:38.282746Z",
          "start_time": "2021-07-09T17:36:38.176187Z"
        },
        "colab": {
          "base_uri": "https://localhost:8080/",
          "height": 448
        },
        "id": "8lcA6lvEzrxo",
        "outputId": "7fcd92b4-a4ac-4fb0-c27c-3db9389f80e0"
      },
      "outputs": [
        {
          "data": {
            "text/plain": [
              "0.051"
            ]
          },
          "execution_count": 22,
          "metadata": {},
          "output_type": "execute_result"
        },
        {
          "data": {
            "image/png": "[encoded data removed]",
            "text/plain": [
              "<Figure size 640x480 with 1 Axes>"
            ]
          },
          "metadata": {},
          "output_type": "display_data"
        }
      ],
      "source": [
        "p_value = np.array(p_value)\n",
        "plt.hist(p_value)\n",
        "len(p_value[p_value < 0.05]) / p_value.shape[0]"
      ]
    },
    {
      "cell_type": "code",
      "execution_count": null,
      "metadata": {
        "ExecuteTime": {
          "end_time": "2021-07-09T17:36:39.027814Z",
          "start_time": "2021-07-09T17:36:39.021931Z"
        },
        "colab": {
          "base_uri": "https://localhost:8080/"
        },
        "id": "EP784Emhzrxs",
        "outputId": "322ab44a-d42a-4607-ac82-5dd1579f4893"
      },
      "outputs": [
        {
          "data": {
            "text/plain": [
              "KstestResult(statistic=0.021757907946776567, pvalue=0.7224716762134957, statistic_location=0.7507579079467765, statistic_sign=-1)"
            ]
          },
          "execution_count": 23,
          "metadata": {},
          "output_type": "execute_result"
        }
      ],
      "source": [
        "scipy.stats.kstest(p_value, scipy.stats.uniform(loc=0.0, scale=1.0).cdf)"
      ]
    },
    {
      "cell_type": "code",
      "execution_count": null,
      "metadata": {
        "ExecuteTime": {
          "end_time": "2021-07-09T17:36:40.714794Z",
          "start_time": "2021-07-09T17:36:39.769988Z"
        },
        "id": "eGulQkY0zrxt"
      },
      "outputs": [],
      "source": [
        "iters = 1000\n",
        "p_value = []\n",
        "effect = 1.02\n",
        "for i in range(iters):\n",
        "    A_l = np.random.choice(inds, size = len(inds) // 2, replace = False)\n",
        "    B_l = np.setdiff1d(inds, A_l)\n",
        "    train_A = metric_train[A_l]\n",
        "    train_B = metric_train[B_l]\n",
        "    valid_A = metric_valid[A_l]\n",
        "    valid_B = metric_valid[B_l]\n",
        "    valid_A = valid_A * effect\n",
        "    #p = scipy.stats.mannwhitneyu(valid_A_c, valid_B_c ,alternative='two-sided').pvalue\n",
        "    p = scipy.stats.ttest_ind(valid_A, valid_B).pvalue\n",
        "    p_value.append(p)"
      ]
    },
    {
      "cell_type": "code",
      "execution_count": null,
      "metadata": {
        "ExecuteTime": {
          "end_time": "2021-07-09T17:36:40.819707Z",
          "start_time": "2021-07-09T17:36:40.716072Z"
        },
        "colab": {
          "base_uri": "https://localhost:8080/",
          "height": 448
        },
        "id": "WvWR2KvGzrxt",
        "outputId": "ccf5d7d5-5f7e-46fb-e755-cf06d4927eae"
      },
      "outputs": [
        {
          "data": {
            "text/plain": [
              "0.5"
            ]
          },
          "execution_count": 25,
          "metadata": {},
          "output_type": "execute_result"
        },
        {
          "data": {
            "image/png": "[encoded data removed]",
            "text/plain": [
              "<Figure size 640x480 with 1 Axes>"
            ]
          },
          "metadata": {},
          "output_type": "display_data"
        }
      ],
      "source": [
        "p_value = np.array(p_value)\n",
        "plt.hist(p_value)\n",
        "scipy.stats.kstest(p_value, scipy.stats.uniform(loc=0.0, scale=1.0).cdf)\n",
        "len(p_value[p_value < 0.05]) / p_value.shape[0]"
      ]
    },
    {
      "cell_type": "code",
      "execution_count": null,
      "metadata": {
        "ExecuteTime": {
          "end_time": "2021-07-09T17:36:40.898431Z",
          "start_time": "2021-07-09T17:36:40.895547Z"
        },
        "id": "PAkcHtDOzrxt"
      },
      "outputs": [],
      "source": [
        "mean_cov = np.mean(metric_train)\n",
        "var_cov = np.var(metric_train)\n",
        "covariance = np.cov(metric_valid, metric_train)[0][1]\n",
        "theta = covariance / var_cov"
      ]
    },
    {
      "cell_type": "code",
      "execution_count": null,
      "metadata": {
        "colab": {
          "base_uri": "https://localhost:8080/"
        },
        "id": "ZCeUjrfhzrxt",
        "outputId": "9c90cb17-b8c2-4f1f-edb3-5099bb4a265c"
      },
      "outputs": [
        {
          "data": {
            "text/plain": [
              "array([4173.9416, 4661.3739, 2947.6144, 4788.9383, 2377.244 , 2545.7596,\n",
              "       2222.3991, 3210.168 , 1787.964 , 4065.5742])"
            ]
          },
          "execution_count": 27,
          "metadata": {},
          "output_type": "execute_result"
        }
      ],
      "source": [
        "train_A[:10]"
      ]
    },
    {
      "cell_type": "code",
      "execution_count": null,
      "metadata": {
        "colab": {
          "base_uri": "https://localhost:8080/"
        },
        "id": "ALGrbvJvzrxt",
        "outputId": "39fdb820-b659-49a2-f570-fa312fca1caf"
      },
      "outputs": [
        {
          "data": {
            "text/plain": [
              "1561.913444743741"
            ]
          },
          "execution_count": 28,
          "metadata": {},
          "output_type": "execute_result"
        }
      ],
      "source": [
        "np.std(valid_A[:10])"
      ]
    },
    {
      "cell_type": "code",
      "execution_count": null,
      "metadata": {
        "colab": {
          "base_uri": "https://localhost:8080/"
        },
        "id": "eYw4B9CLzrxt",
        "outputId": "1b92af7a-169b-42f8-eaa9-5aba73114123"
      },
      "outputs": [
        {
          "data": {
            "text/plain": [
              "(3000,)"
            ]
          },
          "execution_count": 30,
          "metadata": {},
          "output_type": "execute_result"
        }
      ],
      "source": [
        "metric_valid.shape"
      ]
    },
    {
      "cell_type": "code",
      "execution_count": null,
      "metadata": {
        "ExecuteTime": {
          "end_time": "2021-07-09T17:36:43.151737Z",
          "start_time": "2021-07-09T17:36:41.824141Z"
        },
        "id": "g2jWiaRHzrxt"
      },
      "outputs": [],
      "source": [
        "iters = 1000\n",
        "p_value = []\n",
        "effect = 1.02\n",
        "for i in range(iters):\n",
        "    A_l = np.random.choice(inds, size = len(metric_train) // 2, replace = False)\n",
        "    B_l = np.setdiff1d(inds, A_l)\n",
        "    train_A = metric_train[A_l]\n",
        "    train_B = metric_train[B_l]\n",
        "    valid_A = metric_valid[A_l]\n",
        "    valid_B = metric_valid[B_l]\n",
        "    #p_k2s = scipy.stats.ks_2samp(train_A, train_B).pvalue\n",
        "    valid_A = valid_A * effect\n",
        "    valid_A_c = valid_A - (train_A - mean_cov) * theta\n",
        "    valid_B_c = valid_B - (train_B - mean_cov) * theta\n",
        "    #p = scipy.stats.mannwhitneyu(valid_A_c, valid_B_c ,alternative='two-sided').pvalue\n",
        "    p = scipy.stats.ttest_ind(valid_A_c, valid_B_c).pvalue\n",
        "    p_value.append(p)"
      ]
    },
    {
      "cell_type": "code",
      "execution_count": null,
      "metadata": {
        "ExecuteTime": {
          "end_time": "2021-07-09T17:36:43.650760Z",
          "start_time": "2021-07-09T17:36:43.550239Z"
        },
        "colab": {
          "base_uri": "https://localhost:8080/",
          "height": 448
        },
        "id": "aaEuBZqBzrxt",
        "outputId": "880c1ace-7f20-41fe-eda6-cae0795fd1a6"
      },
      "outputs": [
        {
          "data": {
            "text/plain": [
              "0.982"
            ]
          },
          "execution_count": 32,
          "metadata": {},
          "output_type": "execute_result"
        },
        {
          "data": {
            "image/png": "[encoded data removed]",
            "text/plain": [
              "<Figure size 640x480 with 1 Axes>"
            ]
          },
          "metadata": {},
          "output_type": "display_data"
        }
      ],
      "source": [
        "p_value = np.array(p_value)\n",
        "plt.hist(p_value)\n",
        "len(p_value[p_value < 0.05]) / p_value.shape[0]"
      ]
    },
    {
      "cell_type": "markdown",
      "metadata": {
        "id": "AJ-EzqXLzrxt"
      },
      "source": [
        "Y_predict ~ X * theta [+ X1 * theta2 + X2 * theta, CUPAC, build model linear/NN/boostig, SCORING]\n",
        "Y_real - Y_predict"
      ]
    },
    {
      "cell_type": "markdown",
      "metadata": {
        "id": "6sT6Rrxfzrxy"
      },
      "source": [
        "+ POSTstratification + rank_transformation"
      ]
    }
  ],
  "metadata": {
    "colab": {
      "provenance": []
    },
    "kernelspec": {
      "display_name": "Python 3 (ipykernel)",
      "language": "python",
      "name": "python3"
    },
    "language_info": {
      "codemirror_mode": {
        "name": "ipython",
        "version": 3
      },
      "file_extension": ".py",
      "mimetype": "text/x-python",
      "name": "python",
      "nbconvert_exporter": "python",
      "pygments_lexer": "ipython3",
      "version": "3.9.12"
    }
  },
  "nbformat": 4,
  "nbformat_minor": 0
}
